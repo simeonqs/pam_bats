{
 "cells": [
  {
   "cell_type": "code",
   "execution_count": 7,
   "metadata": {
    "tags": []
   },
   "outputs": [],
   "source": [
    "import os\n",
    "import numpy as np\n",
    "import pandas as pd\n",
    "import netCDF4 as nc\n",
    "import datetime as dt\n",
    "import geopy.distance\n",
    "import xarray as xr\n",
    "import cfgrib\n",
    "\n",
    "existing_years_era5 = [str(year) for year in range(2023, 2026)]\n",
    "\n",
    "existing_months_era5_2023 = [\n",
    "    '01', '02', '03',\n",
    "    '04', '05', '06',\n",
    "    '07', '08', '09',\n",
    "    '10', '11', '12',\n",
    "]\n",
    "\n",
    "existing_months_era5_2024 = [\n",
    "    '01', '02', '03',\n",
    "    '04', '05', '06',\n",
    "    '07', '08', '09',\n",
    "    '10', '11', '12'\n",
    "]\n",
    "\n",
    "existing_months_era5_2025 = [\n",
    "    '01', '02', '03', '04'\n",
    "]\n",
    "\n",
    "#existing_months_era5 = ['01', '02'] #shorter, for debug\n",
    "\n",
    "colsorder_weather=['year',\n",
    " 'month',\n",
    " 'day',\n",
    " 'hour',\n",
    " 'mean_temp',\n",
    " 'wind_speed',\n",
    " 'wind_direction',\n",
    " 'precip',\n",
    "    'cloud_coverage', \n",
    "                   'atm_pressure'\n",
    " #'soiltemp',\n",
    " #'snowdepth',\n",
    " #'humidity',\n",
    " #'radiation'\n",
    " ]\n"
   ]
  },
  {
   "cell_type": "code",
   "execution_count": 8,
   "metadata": {
    "tags": []
   },
   "outputs": [],
   "source": [
    "def get_param_era5(filepath, suffix, lat, long, yearfrom, yearto, paramname, hourly_flag):\n",
    "    #outdf=pd.DataFrame({'time':[], paramname:[]}).set_index('time', inplace=True)\n",
    "    outdf=[pd.DataFrame({'time':[], paramname:[]}) for i in range(len(lat))]\n",
    "    for year in range(yearfrom, yearto+1):\n",
    "        if (existing_years_era5.count(str(year))<1):\n",
    "            print ('Year '+str(year)+ ' is not downloaded')\n",
    "            exit(-1)\n",
    "        else:\n",
    "            #for month in existing_months_era5:\n",
    "            if (year == 2023): existing_months_era5 = existing_months_era5_2023\n",
    "            if (year == 2024): existing_months_era5 = existing_months_era5_2024\n",
    "            if (year == 2025): existing_months_era5 = existing_months_era5_2025\n",
    "            for month in existing_months_era5:\n",
    "                print ('reading '+ suffix+'_'+str(year)+'_'+month+'.grib')\n",
    "                ds = xr.load_dataset(os.path.join(filepath, suffix+'_'+str(year)+'_'+month+'.grib'), engine=\"cfgrib\", chunks={\"latitude\":500, \"longitude\":500, \"time\": -1, \"step\": -1})\n",
    "                #ds = ds.interpolate_na()\n",
    "                \n",
    "                data_name = list (ds.keys())[0]\n",
    "                # the problem is that there are cases where we have step as a dimensions and sometimes we don't\n",
    "                # let's deal with that\n",
    "                if (len(ds.dims)==4):\n",
    "                    ds =ds.stack(real_time=('time', 'step')).swap_dims({'real_time':'valid_time'})\n",
    "                else:\n",
    "                    ds =ds.swap_dims({'time':'valid_time'})\n",
    "                for count, (lati, longi) in enumerate(zip(lat,long)):    \n",
    "                    #out =ds.sel(latitude=lati, longitude=longi,method='nearest',drop=True).resample(valid_time='1D').mean(dim='valid_time').to_dataframe()\n",
    "                    if(hourly_flag):\n",
    "                        out =ds.sel(latitude=lati, longitude=longi,method='nearest',drop=True).to_dataframe()\n",
    "                    else:\n",
    "                        out =ds.sel(latitude=lati, longitude=longi,method='nearest',drop=True).resample(valid_time='1D').mean(dim='valid_time').to_dataframe()                        \n",
    "                    out.rename(columns={data_name:paramname}, inplace=True)\n",
    "                    out.drop(out.columns.difference([paramname]), axis=1, inplace=True)\n",
    "                    #out.dropna(inplace=True)\n",
    "                    out.index.names = ['time']\n",
    "                    out.reset_index(inplace=True)\n",
    "                    #out.plot()\n",
    "                    #plt.show()\n",
    "                    out['time']=pd.to_datetime(out['time'], utc = True)\n",
    "                    out.drop(out[out['time']<dt.datetime(year, int(month), 1, 0, 0, 0, tzinfo=dt.timezone.utc)].index, inplace=True)\n",
    "                    if (int(month)<12):\n",
    "                        out.drop(out[out['time']>=dt.datetime(year, int(month)+1, 1, 0, 0, 0, tzinfo=dt.timezone.utc)].index, inplace=True)\n",
    "                    if (int(month)==12):\n",
    "                        out.drop(out[out['time']>=dt.datetime(year+1, 1, 1, 0, 0, 0, tzinfo=dt.timezone.utc)].index, inplace=True)\n",
    "                    outdf[count]=pd.concat([outdf[count], out], axis=0, ignore_index=True)\n",
    "    return outdf\n"
   ]
  },
  {
   "cell_type": "code",
   "execution_count": 9,
   "metadata": {
    "tags": []
   },
   "outputs": [],
   "source": [
    "def interpolate_data(input_df):\n",
    "    replaced=input_df.replace(-9999, np.nan) # first replace all -9999 by nan if there are\n",
    "    # check if the entire column is nan--> no point to interpolate\n",
    "    for i in replaced.columns:\n",
    "        if (replaced[i].isnull().all()):\n",
    "            # replace it back --> will be ignored\n",
    "            replaced[i]=replaced[i].replace(np.nan,-9999).astype(np.int64)\n",
    "    replaced.interpolate(method='linear', limit_direction='both', axis=0, inplace=True)\n",
    "    return replaced\n"
   ]
  },
  {
   "cell_type": "code",
   "execution_count": 10,
   "metadata": {
    "tags": []
   },
   "outputs": [],
   "source": [
    "def write_weather(df_towrite, filename):\n",
    "    print(\"Writing \"+filename)\n",
    "    linesnum=len(df_towrite)\n",
    "    with open(filename, 'w',newline=None) as fd:\n",
    "        fd.write('2'+\"\\n\")#version number, means hourly\n",
    "        fd.write( str(linesnum)+\"\\n\")\n",
    "    # let us \n",
    "    df_towrite=df_towrite[colsorder_weather]\n",
    "    df_towrite.to_csv(filename, sep='\\t', index = False, header = True, mode='a+', float_format='%.3f')\n"
   ]
  },
  {
   "cell_type": "code",
   "execution_count": 11,
   "metadata": {
    "tags": []
   },
   "outputs": [],
   "source": [
    "def country_name_coordinate_year():\n",
    "    \n",
    "    \n",
    "    # Fot bats\n",
    "    startyear = 2023\n",
    "    endyear = 2025\n",
    "   \n",
    "    # Bat data\n",
    "\n",
    "    ys = [55.60530,\n",
    "            55.70201,\n",
    "            55.79587,\n",
    "            55.73477,\n",
    "            55.88947,\n",
    "            55.79229,\n",
    "            55.89259,\n",
    "            55.98644,\n",
    "            56.08316,\n",
    "            56.17700,\n",
    "            56.08137,\n",
    "            56.17340,\n",
    "            56.16899,\n",
    "            55.88101,\n",
    "            55.97842,\n",
    "            55.88547,\n",
    "            55.98287,\n",
    "            56.16338,\n",
    "            56.35936,\n",
    "            56.27060,\n",
    "            56.36755,\n",
    "            56.27373,\n",
    "            55.74873335,\n",
    "            56.12676,\n",
    "            55.89034,\n",
    "            55.81821,\n",
    "            55.697319,\n",
    "            55.687427,\n",
    "            55.688484,\n",
    "            55.68251,\n",
    "            55.70688,\n",
    "            55.74106,\n",
    "            55.72575,\n",
    "            55.69058,\n",
    "            55.71823,\n",
    "            55.74106,\n",
    "            55.73732,\n",
    "            55.72136,\n",
    "         55.3403,\n",
    "55.5570,\n",
    "55.9127,\n",
    "56.1587,\n",
    "56.2787,\n",
    "55.7965,\n",
    "55.3986,\n",
    "55.23715,\n",
    "57.7473,\n",
    "55.2802,\n",
    "55.0678,\n",
    "55.661573,\n",
    "55.668334,\n",
    "55.673155,\n",
    "55.663637,\n",
    "         55.6903,\n",
    "         55.1217,55.711433,\n",
    "55.660532\n",
    "]\n",
    "    xs = [7.88513,\n",
    "            8.05116,\n",
    "            7.87969,\n",
    "            7.79082,\n",
    "            7.70791,\n",
    "            7.53970,\n",
    "            8.04651,\n",
    "            7.87419,\n",
    "            8.04181,\n",
    "            7.86861,\n",
    "            7.70145,\n",
    "            7.52514,\n",
    "            7.18712,\n",
    "            7.02863,\n",
    "            7.19602,\n",
    "            7.36837,\n",
    "            7.53255,\n",
    "            6.84414,\n",
    "            7.17649,\n",
    "            7.69458,\n",
    "            7.86298,\n",
    "            8.03705,\n",
    "            7.901,\n",
    "            7.43632,\n",
    "            7.0423,\n",
    "            7.70747,\n",
    "            7.571899,\n",
    "            7.573644,\n",
    "            7.601428,\n",
    "            7.77294,\n",
    "            7.7086,\n",
    "            7.68745,\n",
    "            7.553378,\n",
    "            7.657018,\n",
    "            7.599585,\n",
    "            7.68745,\n",
    "            7.575647,\n",
    "            7.683028,\n",
    "         8.6773,\n",
    "8.0867,\n",
    "8.4048,\n",
    "8.1458,\n",
    "8.1706,\n",
    "8.2123,\n",
    "8.4230,\n",
    "8.7078,\n",
    "10.6027,\n",
    "8.5393,\n",
    "8.6802,\n",
    "7.668805,\n",
    "7.694158,\n",
    "7.719361,\n",
    "7.724361,\n",
    "         7.6863,\n",
    "         8.5044,\n",
    "         7.682502,\n",
    "7.641038\n",
    "]\n",
    "    \n",
    "    \n",
    "    names = [\"Loc_1\",\n",
    "                \"Loc_2\",\n",
    "                \"Loc_3\",\n",
    "                \"Loc_4\",\n",
    "                \"Loc_5\",\n",
    "                \"Loc_6\",\n",
    "                \"Loc_7\",\n",
    "                \"Loc_8\",\n",
    "                \"Loc_9\",\n",
    "                \"Loc_10\",\n",
    "                \"Loc_11\",\n",
    "                \"Loc_12\",\n",
    "                \"Loc_13\",\n",
    "                \"Loc_14\",\n",
    "                \"Loc_15\",\n",
    "                \"Loc_16\",\n",
    "                \"Loc_17\",\n",
    "                \"Loc_18\",\n",
    "                \"Loc_19\",\n",
    "                \"Loc_20\",\n",
    "                \"Loc_21\",\n",
    "                \"Loc_22\",\n",
    "                \"Loc_23\",\n",
    "                \"Loc_24\",\n",
    "                \"Loc_25\",\n",
    "                \"Loc_26\",\n",
    "                \"Loc_27\",\n",
    "                \"Loc_28\",\n",
    "                \"Loc_29\",\n",
    "                \"Loc_30\",\n",
    "                \"Loc_31\",\n",
    "                \"Loc_32\",\n",
    "                \"Loc_33\",\n",
    "                \"Loc_34\",\n",
    "                \"Loc_35\",\n",
    "                \"Loc_36\",\n",
    "                \"Loc_37\",\n",
    "                \"Loc_38\",\n",
    "\"Loc_39\",\n",
    "\"Loc_40\",\n",
    "\"Loc_41\",\n",
    "\"Loc_42\",\n",
    "\"Loc_43\",\n",
    "\"Loc_44\",\n",
    "\"Loc_45\",\n",
    "\"Loc_46\",\n",
    "\"Loc_47\",\n",
    "\"Loc_48\",\n",
    "\"Loc_49\",\n",
    "\"Loc_50\",\n",
    "\"Loc_51\",\n",
    "\"Loc_52\",\n",
    "\"Loc_53\",\n",
    "            \"Loc_54\",\n",
    "            \"Loc_55\",\n",
    "            \"Loc_56\",\n",
    "            \"Loc_57\"]\n",
    "    \n",
    "    print(\"Number of names: \",len(names))\n",
    "    print(\"Number of xs: \",len(xs))\n",
    "    print(\"Number of ys: \",len(ys))\n",
    "    return startyear, endyear, xs, ys, names\n"
   ]
  },
  {
   "cell_type": "code",
   "execution_count": null,
   "metadata": {},
   "outputs": [],
   "source": []
  },
  {
   "cell_type": "code",
   "execution_count": 12,
   "metadata": {
    "tags": []
   },
   "outputs": [
    {
     "name": "stderr",
     "output_type": "stream",
     "text": [
      "Ignoring index file '/home/au472091/OneDrive/au/projects/pam_bats/analysis/data/weather/temp/era5_temp_2023_01.grib.5b7b6.idx' older than GRIB file\n"
     ]
    },
    {
     "name": "stdout",
     "output_type": "stream",
     "text": [
      "Number of names:  57\n",
      "Number of xs:  57\n",
      "Number of ys:  57\n",
      "reading era5_temp_2023_01.grib\n"
     ]
    },
    {
     "name": "stderr",
     "output_type": "stream",
     "text": [
      "/home/au472091/venv/lib/python3.12/site-packages/cfgrib/xarray_plugin.py:131: FutureWarning: In a future version of xarray decode_timedelta will default to False rather than None. To silence this warning, set decode_timedelta to True, False, or a 'CFTimedeltaCoder' instance.\n",
      "  vars, attrs, coord_names = xr.conventions.decode_cf_variables(\n",
      "/tmp/ipykernel_1620840/3401802185.py:44: FutureWarning: The behavior of DataFrame concatenation with empty or all-NA entries is deprecated. In a future version, this will no longer exclude empty or all-NA columns when determining the result dtypes. To retain the old behavior, exclude the relevant entries before the concat operation.\n",
      "  outdf[count]=pd.concat([outdf[count], out], axis=0, ignore_index=True)\n",
      "/tmp/ipykernel_1620840/3401802185.py:44: FutureWarning: The behavior of DataFrame concatenation with empty or all-NA entries is deprecated. In a future version, this will no longer exclude empty or all-NA columns when determining the result dtypes. To retain the old behavior, exclude the relevant entries before the concat operation.\n",
      "  outdf[count]=pd.concat([outdf[count], out], axis=0, ignore_index=True)\n",
      "/tmp/ipykernel_1620840/3401802185.py:44: FutureWarning: The behavior of DataFrame concatenation with empty or all-NA entries is deprecated. In a future version, this will no longer exclude empty or all-NA columns when determining the result dtypes. To retain the old behavior, exclude the relevant entries before the concat operation.\n",
      "  outdf[count]=pd.concat([outdf[count], out], axis=0, ignore_index=True)\n",
      "/tmp/ipykernel_1620840/3401802185.py:44: FutureWarning: The behavior of DataFrame concatenation with empty or all-NA entries is deprecated. In a future version, this will no longer exclude empty or all-NA columns when determining the result dtypes. To retain the old behavior, exclude the relevant entries before the concat operation.\n",
      "  outdf[count]=pd.concat([outdf[count], out], axis=0, ignore_index=True)\n",
      "/tmp/ipykernel_1620840/3401802185.py:44: FutureWarning: The behavior of DataFrame concatenation with empty or all-NA entries is deprecated. In a future version, this will no longer exclude empty or all-NA columns when determining the result dtypes. To retain the old behavior, exclude the relevant entries before the concat operation.\n",
      "  outdf[count]=pd.concat([outdf[count], out], axis=0, ignore_index=True)\n",
      "/tmp/ipykernel_1620840/3401802185.py:44: FutureWarning: The behavior of DataFrame concatenation with empty or all-NA entries is deprecated. In a future version, this will no longer exclude empty or all-NA columns when determining the result dtypes. To retain the old behavior, exclude the relevant entries before the concat operation.\n",
      "  outdf[count]=pd.concat([outdf[count], out], axis=0, ignore_index=True)\n",
      "/tmp/ipykernel_1620840/3401802185.py:44: FutureWarning: The behavior of DataFrame concatenation with empty or all-NA entries is deprecated. In a future version, this will no longer exclude empty or all-NA columns when determining the result dtypes. To retain the old behavior, exclude the relevant entries before the concat operation.\n",
      "  outdf[count]=pd.concat([outdf[count], out], axis=0, ignore_index=True)\n",
      "/tmp/ipykernel_1620840/3401802185.py:44: FutureWarning: The behavior of DataFrame concatenation with empty or all-NA entries is deprecated. In a future version, this will no longer exclude empty or all-NA columns when determining the result dtypes. To retain the old behavior, exclude the relevant entries before the concat operation.\n",
      "  outdf[count]=pd.concat([outdf[count], out], axis=0, ignore_index=True)\n",
      "/tmp/ipykernel_1620840/3401802185.py:44: FutureWarning: The behavior of DataFrame concatenation with empty or all-NA entries is deprecated. In a future version, this will no longer exclude empty or all-NA columns when determining the result dtypes. To retain the old behavior, exclude the relevant entries before the concat operation.\n",
      "  outdf[count]=pd.concat([outdf[count], out], axis=0, ignore_index=True)\n",
      "/tmp/ipykernel_1620840/3401802185.py:44: FutureWarning: The behavior of DataFrame concatenation with empty or all-NA entries is deprecated. In a future version, this will no longer exclude empty or all-NA columns when determining the result dtypes. To retain the old behavior, exclude the relevant entries before the concat operation.\n",
      "  outdf[count]=pd.concat([outdf[count], out], axis=0, ignore_index=True)\n",
      "/tmp/ipykernel_1620840/3401802185.py:44: FutureWarning: The behavior of DataFrame concatenation with empty or all-NA entries is deprecated. In a future version, this will no longer exclude empty or all-NA columns when determining the result dtypes. To retain the old behavior, exclude the relevant entries before the concat operation.\n",
      "  outdf[count]=pd.concat([outdf[count], out], axis=0, ignore_index=True)\n",
      "/tmp/ipykernel_1620840/3401802185.py:44: FutureWarning: The behavior of DataFrame concatenation with empty or all-NA entries is deprecated. In a future version, this will no longer exclude empty or all-NA columns when determining the result dtypes. To retain the old behavior, exclude the relevant entries before the concat operation.\n",
      "  outdf[count]=pd.concat([outdf[count], out], axis=0, ignore_index=True)\n",
      "/tmp/ipykernel_1620840/3401802185.py:44: FutureWarning: The behavior of DataFrame concatenation with empty or all-NA entries is deprecated. In a future version, this will no longer exclude empty or all-NA columns when determining the result dtypes. To retain the old behavior, exclude the relevant entries before the concat operation.\n",
      "  outdf[count]=pd.concat([outdf[count], out], axis=0, ignore_index=True)\n",
      "/tmp/ipykernel_1620840/3401802185.py:44: FutureWarning: The behavior of DataFrame concatenation with empty or all-NA entries is deprecated. In a future version, this will no longer exclude empty or all-NA columns when determining the result dtypes. To retain the old behavior, exclude the relevant entries before the concat operation.\n",
      "  outdf[count]=pd.concat([outdf[count], out], axis=0, ignore_index=True)\n",
      "/tmp/ipykernel_1620840/3401802185.py:44: FutureWarning: The behavior of DataFrame concatenation with empty or all-NA entries is deprecated. In a future version, this will no longer exclude empty or all-NA columns when determining the result dtypes. To retain the old behavior, exclude the relevant entries before the concat operation.\n",
      "  outdf[count]=pd.concat([outdf[count], out], axis=0, ignore_index=True)\n",
      "/tmp/ipykernel_1620840/3401802185.py:44: FutureWarning: The behavior of DataFrame concatenation with empty or all-NA entries is deprecated. In a future version, this will no longer exclude empty or all-NA columns when determining the result dtypes. To retain the old behavior, exclude the relevant entries before the concat operation.\n",
      "  outdf[count]=pd.concat([outdf[count], out], axis=0, ignore_index=True)\n",
      "/tmp/ipykernel_1620840/3401802185.py:44: FutureWarning: The behavior of DataFrame concatenation with empty or all-NA entries is deprecated. In a future version, this will no longer exclude empty or all-NA columns when determining the result dtypes. To retain the old behavior, exclude the relevant entries before the concat operation.\n",
      "  outdf[count]=pd.concat([outdf[count], out], axis=0, ignore_index=True)\n",
      "/tmp/ipykernel_1620840/3401802185.py:44: FutureWarning: The behavior of DataFrame concatenation with empty or all-NA entries is deprecated. In a future version, this will no longer exclude empty or all-NA columns when determining the result dtypes. To retain the old behavior, exclude the relevant entries before the concat operation.\n",
      "  outdf[count]=pd.concat([outdf[count], out], axis=0, ignore_index=True)\n",
      "/tmp/ipykernel_1620840/3401802185.py:44: FutureWarning: The behavior of DataFrame concatenation with empty or all-NA entries is deprecated. In a future version, this will no longer exclude empty or all-NA columns when determining the result dtypes. To retain the old behavior, exclude the relevant entries before the concat operation.\n",
      "  outdf[count]=pd.concat([outdf[count], out], axis=0, ignore_index=True)\n",
      "/tmp/ipykernel_1620840/3401802185.py:44: FutureWarning: The behavior of DataFrame concatenation with empty or all-NA entries is deprecated. In a future version, this will no longer exclude empty or all-NA columns when determining the result dtypes. To retain the old behavior, exclude the relevant entries before the concat operation.\n",
      "  outdf[count]=pd.concat([outdf[count], out], axis=0, ignore_index=True)\n",
      "/tmp/ipykernel_1620840/3401802185.py:44: FutureWarning: The behavior of DataFrame concatenation with empty or all-NA entries is deprecated. In a future version, this will no longer exclude empty or all-NA columns when determining the result dtypes. To retain the old behavior, exclude the relevant entries before the concat operation.\n",
      "  outdf[count]=pd.concat([outdf[count], out], axis=0, ignore_index=True)\n",
      "/tmp/ipykernel_1620840/3401802185.py:44: FutureWarning: The behavior of DataFrame concatenation with empty or all-NA entries is deprecated. In a future version, this will no longer exclude empty or all-NA columns when determining the result dtypes. To retain the old behavior, exclude the relevant entries before the concat operation.\n",
      "  outdf[count]=pd.concat([outdf[count], out], axis=0, ignore_index=True)\n",
      "/tmp/ipykernel_1620840/3401802185.py:44: FutureWarning: The behavior of DataFrame concatenation with empty or all-NA entries is deprecated. In a future version, this will no longer exclude empty or all-NA columns when determining the result dtypes. To retain the old behavior, exclude the relevant entries before the concat operation.\n",
      "  outdf[count]=pd.concat([outdf[count], out], axis=0, ignore_index=True)\n",
      "/tmp/ipykernel_1620840/3401802185.py:44: FutureWarning: The behavior of DataFrame concatenation with empty or all-NA entries is deprecated. In a future version, this will no longer exclude empty or all-NA columns when determining the result dtypes. To retain the old behavior, exclude the relevant entries before the concat operation.\n",
      "  outdf[count]=pd.concat([outdf[count], out], axis=0, ignore_index=True)\n",
      "/tmp/ipykernel_1620840/3401802185.py:44: FutureWarning: The behavior of DataFrame concatenation with empty or all-NA entries is deprecated. In a future version, this will no longer exclude empty or all-NA columns when determining the result dtypes. To retain the old behavior, exclude the relevant entries before the concat operation.\n",
      "  outdf[count]=pd.concat([outdf[count], out], axis=0, ignore_index=True)\n",
      "/tmp/ipykernel_1620840/3401802185.py:44: FutureWarning: The behavior of DataFrame concatenation with empty or all-NA entries is deprecated. In a future version, this will no longer exclude empty or all-NA columns when determining the result dtypes. To retain the old behavior, exclude the relevant entries before the concat operation.\n",
      "  outdf[count]=pd.concat([outdf[count], out], axis=0, ignore_index=True)\n",
      "/tmp/ipykernel_1620840/3401802185.py:44: FutureWarning: The behavior of DataFrame concatenation with empty or all-NA entries is deprecated. In a future version, this will no longer exclude empty or all-NA columns when determining the result dtypes. To retain the old behavior, exclude the relevant entries before the concat operation.\n",
      "  outdf[count]=pd.concat([outdf[count], out], axis=0, ignore_index=True)\n",
      "/tmp/ipykernel_1620840/3401802185.py:44: FutureWarning: The behavior of DataFrame concatenation with empty or all-NA entries is deprecated. In a future version, this will no longer exclude empty or all-NA columns when determining the result dtypes. To retain the old behavior, exclude the relevant entries before the concat operation.\n",
      "  outdf[count]=pd.concat([outdf[count], out], axis=0, ignore_index=True)\n",
      "/tmp/ipykernel_1620840/3401802185.py:44: FutureWarning: The behavior of DataFrame concatenation with empty or all-NA entries is deprecated. In a future version, this will no longer exclude empty or all-NA columns when determining the result dtypes. To retain the old behavior, exclude the relevant entries before the concat operation.\n",
      "  outdf[count]=pd.concat([outdf[count], out], axis=0, ignore_index=True)\n",
      "/tmp/ipykernel_1620840/3401802185.py:44: FutureWarning: The behavior of DataFrame concatenation with empty or all-NA entries is deprecated. In a future version, this will no longer exclude empty or all-NA columns when determining the result dtypes. To retain the old behavior, exclude the relevant entries before the concat operation.\n",
      "  outdf[count]=pd.concat([outdf[count], out], axis=0, ignore_index=True)\n",
      "/tmp/ipykernel_1620840/3401802185.py:44: FutureWarning: The behavior of DataFrame concatenation with empty or all-NA entries is deprecated. In a future version, this will no longer exclude empty or all-NA columns when determining the result dtypes. To retain the old behavior, exclude the relevant entries before the concat operation.\n",
      "  outdf[count]=pd.concat([outdf[count], out], axis=0, ignore_index=True)\n",
      "/tmp/ipykernel_1620840/3401802185.py:44: FutureWarning: The behavior of DataFrame concatenation with empty or all-NA entries is deprecated. In a future version, this will no longer exclude empty or all-NA columns when determining the result dtypes. To retain the old behavior, exclude the relevant entries before the concat operation.\n",
      "  outdf[count]=pd.concat([outdf[count], out], axis=0, ignore_index=True)\n",
      "/tmp/ipykernel_1620840/3401802185.py:44: FutureWarning: The behavior of DataFrame concatenation with empty or all-NA entries is deprecated. In a future version, this will no longer exclude empty or all-NA columns when determining the result dtypes. To retain the old behavior, exclude the relevant entries before the concat operation.\n",
      "  outdf[count]=pd.concat([outdf[count], out], axis=0, ignore_index=True)\n",
      "/tmp/ipykernel_1620840/3401802185.py:44: FutureWarning: The behavior of DataFrame concatenation with empty or all-NA entries is deprecated. In a future version, this will no longer exclude empty or all-NA columns when determining the result dtypes. To retain the old behavior, exclude the relevant entries before the concat operation.\n",
      "  outdf[count]=pd.concat([outdf[count], out], axis=0, ignore_index=True)\n",
      "/tmp/ipykernel_1620840/3401802185.py:44: FutureWarning: The behavior of DataFrame concatenation with empty or all-NA entries is deprecated. In a future version, this will no longer exclude empty or all-NA columns when determining the result dtypes. To retain the old behavior, exclude the relevant entries before the concat operation.\n",
      "  outdf[count]=pd.concat([outdf[count], out], axis=0, ignore_index=True)\n",
      "/tmp/ipykernel_1620840/3401802185.py:44: FutureWarning: The behavior of DataFrame concatenation with empty or all-NA entries is deprecated. In a future version, this will no longer exclude empty or all-NA columns when determining the result dtypes. To retain the old behavior, exclude the relevant entries before the concat operation.\n",
      "  outdf[count]=pd.concat([outdf[count], out], axis=0, ignore_index=True)\n",
      "/tmp/ipykernel_1620840/3401802185.py:44: FutureWarning: The behavior of DataFrame concatenation with empty or all-NA entries is deprecated. In a future version, this will no longer exclude empty or all-NA columns when determining the result dtypes. To retain the old behavior, exclude the relevant entries before the concat operation.\n",
      "  outdf[count]=pd.concat([outdf[count], out], axis=0, ignore_index=True)\n",
      "/tmp/ipykernel_1620840/3401802185.py:44: FutureWarning: The behavior of DataFrame concatenation with empty or all-NA entries is deprecated. In a future version, this will no longer exclude empty or all-NA columns when determining the result dtypes. To retain the old behavior, exclude the relevant entries before the concat operation.\n",
      "  outdf[count]=pd.concat([outdf[count], out], axis=0, ignore_index=True)\n",
      "/tmp/ipykernel_1620840/3401802185.py:44: FutureWarning: The behavior of DataFrame concatenation with empty or all-NA entries is deprecated. In a future version, this will no longer exclude empty or all-NA columns when determining the result dtypes. To retain the old behavior, exclude the relevant entries before the concat operation.\n",
      "  outdf[count]=pd.concat([outdf[count], out], axis=0, ignore_index=True)\n",
      "/tmp/ipykernel_1620840/3401802185.py:44: FutureWarning: The behavior of DataFrame concatenation with empty or all-NA entries is deprecated. In a future version, this will no longer exclude empty or all-NA columns when determining the result dtypes. To retain the old behavior, exclude the relevant entries before the concat operation.\n",
      "  outdf[count]=pd.concat([outdf[count], out], axis=0, ignore_index=True)\n",
      "/tmp/ipykernel_1620840/3401802185.py:44: FutureWarning: The behavior of DataFrame concatenation with empty or all-NA entries is deprecated. In a future version, this will no longer exclude empty or all-NA columns when determining the result dtypes. To retain the old behavior, exclude the relevant entries before the concat operation.\n",
      "  outdf[count]=pd.concat([outdf[count], out], axis=0, ignore_index=True)\n",
      "/tmp/ipykernel_1620840/3401802185.py:44: FutureWarning: The behavior of DataFrame concatenation with empty or all-NA entries is deprecated. In a future version, this will no longer exclude empty or all-NA columns when determining the result dtypes. To retain the old behavior, exclude the relevant entries before the concat operation.\n",
      "  outdf[count]=pd.concat([outdf[count], out], axis=0, ignore_index=True)\n",
      "/tmp/ipykernel_1620840/3401802185.py:44: FutureWarning: The behavior of DataFrame concatenation with empty or all-NA entries is deprecated. In a future version, this will no longer exclude empty or all-NA columns when determining the result dtypes. To retain the old behavior, exclude the relevant entries before the concat operation.\n",
      "  outdf[count]=pd.concat([outdf[count], out], axis=0, ignore_index=True)\n",
      "/tmp/ipykernel_1620840/3401802185.py:44: FutureWarning: The behavior of DataFrame concatenation with empty or all-NA entries is deprecated. In a future version, this will no longer exclude empty or all-NA columns when determining the result dtypes. To retain the old behavior, exclude the relevant entries before the concat operation.\n",
      "  outdf[count]=pd.concat([outdf[count], out], axis=0, ignore_index=True)\n",
      "/tmp/ipykernel_1620840/3401802185.py:44: FutureWarning: The behavior of DataFrame concatenation with empty or all-NA entries is deprecated. In a future version, this will no longer exclude empty or all-NA columns when determining the result dtypes. To retain the old behavior, exclude the relevant entries before the concat operation.\n",
      "  outdf[count]=pd.concat([outdf[count], out], axis=0, ignore_index=True)\n",
      "/tmp/ipykernel_1620840/3401802185.py:44: FutureWarning: The behavior of DataFrame concatenation with empty or all-NA entries is deprecated. In a future version, this will no longer exclude empty or all-NA columns when determining the result dtypes. To retain the old behavior, exclude the relevant entries before the concat operation.\n",
      "  outdf[count]=pd.concat([outdf[count], out], axis=0, ignore_index=True)\n",
      "/tmp/ipykernel_1620840/3401802185.py:44: FutureWarning: The behavior of DataFrame concatenation with empty or all-NA entries is deprecated. In a future version, this will no longer exclude empty or all-NA columns when determining the result dtypes. To retain the old behavior, exclude the relevant entries before the concat operation.\n",
      "  outdf[count]=pd.concat([outdf[count], out], axis=0, ignore_index=True)\n",
      "/tmp/ipykernel_1620840/3401802185.py:44: FutureWarning: The behavior of DataFrame concatenation with empty or all-NA entries is deprecated. In a future version, this will no longer exclude empty or all-NA columns when determining the result dtypes. To retain the old behavior, exclude the relevant entries before the concat operation.\n",
      "  outdf[count]=pd.concat([outdf[count], out], axis=0, ignore_index=True)\n",
      "/tmp/ipykernel_1620840/3401802185.py:44: FutureWarning: The behavior of DataFrame concatenation with empty or all-NA entries is deprecated. In a future version, this will no longer exclude empty or all-NA columns when determining the result dtypes. To retain the old behavior, exclude the relevant entries before the concat operation.\n",
      "  outdf[count]=pd.concat([outdf[count], out], axis=0, ignore_index=True)\n",
      "/tmp/ipykernel_1620840/3401802185.py:44: FutureWarning: The behavior of DataFrame concatenation with empty or all-NA entries is deprecated. In a future version, this will no longer exclude empty or all-NA columns when determining the result dtypes. To retain the old behavior, exclude the relevant entries before the concat operation.\n",
      "  outdf[count]=pd.concat([outdf[count], out], axis=0, ignore_index=True)\n",
      "/tmp/ipykernel_1620840/3401802185.py:44: FutureWarning: The behavior of DataFrame concatenation with empty or all-NA entries is deprecated. In a future version, this will no longer exclude empty or all-NA columns when determining the result dtypes. To retain the old behavior, exclude the relevant entries before the concat operation.\n",
      "  outdf[count]=pd.concat([outdf[count], out], axis=0, ignore_index=True)\n",
      "/tmp/ipykernel_1620840/3401802185.py:44: FutureWarning: The behavior of DataFrame concatenation with empty or all-NA entries is deprecated. In a future version, this will no longer exclude empty or all-NA columns when determining the result dtypes. To retain the old behavior, exclude the relevant entries before the concat operation.\n",
      "  outdf[count]=pd.concat([outdf[count], out], axis=0, ignore_index=True)\n",
      "/tmp/ipykernel_1620840/3401802185.py:44: FutureWarning: The behavior of DataFrame concatenation with empty or all-NA entries is deprecated. In a future version, this will no longer exclude empty or all-NA columns when determining the result dtypes. To retain the old behavior, exclude the relevant entries before the concat operation.\n",
      "  outdf[count]=pd.concat([outdf[count], out], axis=0, ignore_index=True)\n",
      "/tmp/ipykernel_1620840/3401802185.py:44: FutureWarning: The behavior of DataFrame concatenation with empty or all-NA entries is deprecated. In a future version, this will no longer exclude empty or all-NA columns when determining the result dtypes. To retain the old behavior, exclude the relevant entries before the concat operation.\n",
      "  outdf[count]=pd.concat([outdf[count], out], axis=0, ignore_index=True)\n",
      "/tmp/ipykernel_1620840/3401802185.py:44: FutureWarning: The behavior of DataFrame concatenation with empty or all-NA entries is deprecated. In a future version, this will no longer exclude empty or all-NA columns when determining the result dtypes. To retain the old behavior, exclude the relevant entries before the concat operation.\n",
      "  outdf[count]=pd.concat([outdf[count], out], axis=0, ignore_index=True)\n",
      "/tmp/ipykernel_1620840/3401802185.py:44: FutureWarning: The behavior of DataFrame concatenation with empty or all-NA entries is deprecated. In a future version, this will no longer exclude empty or all-NA columns when determining the result dtypes. To retain the old behavior, exclude the relevant entries before the concat operation.\n",
      "  outdf[count]=pd.concat([outdf[count], out], axis=0, ignore_index=True)\n",
      "/tmp/ipykernel_1620840/3401802185.py:44: FutureWarning: The behavior of DataFrame concatenation with empty or all-NA entries is deprecated. In a future version, this will no longer exclude empty or all-NA columns when determining the result dtypes. To retain the old behavior, exclude the relevant entries before the concat operation.\n",
      "  outdf[count]=pd.concat([outdf[count], out], axis=0, ignore_index=True)\n",
      "Ignoring index file '/home/au472091/OneDrive/au/projects/pam_bats/analysis/data/weather/temp/era5_temp_2023_02.grib.5b7b6.idx' older than GRIB file\n"
     ]
    },
    {
     "name": "stdout",
     "output_type": "stream",
     "text": [
      "reading era5_temp_2023_02.grib\n"
     ]
    },
    {
     "name": "stderr",
     "output_type": "stream",
     "text": [
      "/home/au472091/venv/lib/python3.12/site-packages/cfgrib/xarray_plugin.py:131: FutureWarning: In a future version of xarray decode_timedelta will default to False rather than None. To silence this warning, set decode_timedelta to True, False, or a 'CFTimedeltaCoder' instance.\n",
      "  vars, attrs, coord_names = xr.conventions.decode_cf_variables(\n",
      "Ignoring index file '/home/au472091/OneDrive/au/projects/pam_bats/analysis/data/weather/temp/era5_temp_2023_03.grib.5b7b6.idx' older than GRIB file\n"
     ]
    },
    {
     "name": "stdout",
     "output_type": "stream",
     "text": [
      "reading era5_temp_2023_03.grib\n"
     ]
    },
    {
     "name": "stderr",
     "output_type": "stream",
     "text": [
      "/home/au472091/venv/lib/python3.12/site-packages/cfgrib/xarray_plugin.py:131: FutureWarning: In a future version of xarray decode_timedelta will default to False rather than None. To silence this warning, set decode_timedelta to True, False, or a 'CFTimedeltaCoder' instance.\n",
      "  vars, attrs, coord_names = xr.conventions.decode_cf_variables(\n",
      "Ignoring index file '/home/au472091/OneDrive/au/projects/pam_bats/analysis/data/weather/temp/era5_temp_2023_04.grib.5b7b6.idx' older than GRIB file\n"
     ]
    },
    {
     "name": "stdout",
     "output_type": "stream",
     "text": [
      "reading era5_temp_2023_04.grib\n"
     ]
    },
    {
     "name": "stderr",
     "output_type": "stream",
     "text": [
      "/home/au472091/venv/lib/python3.12/site-packages/cfgrib/xarray_plugin.py:131: FutureWarning: In a future version of xarray decode_timedelta will default to False rather than None. To silence this warning, set decode_timedelta to True, False, or a 'CFTimedeltaCoder' instance.\n",
      "  vars, attrs, coord_names = xr.conventions.decode_cf_variables(\n",
      "Ignoring index file '/home/au472091/OneDrive/au/projects/pam_bats/analysis/data/weather/temp/era5_temp_2023_05.grib.5b7b6.idx' older than GRIB file\n"
     ]
    },
    {
     "name": "stdout",
     "output_type": "stream",
     "text": [
      "reading era5_temp_2023_05.grib\n"
     ]
    },
    {
     "name": "stderr",
     "output_type": "stream",
     "text": [
      "/home/au472091/venv/lib/python3.12/site-packages/cfgrib/xarray_plugin.py:131: FutureWarning: In a future version of xarray decode_timedelta will default to False rather than None. To silence this warning, set decode_timedelta to True, False, or a 'CFTimedeltaCoder' instance.\n",
      "  vars, attrs, coord_names = xr.conventions.decode_cf_variables(\n",
      "Ignoring index file '/home/au472091/OneDrive/au/projects/pam_bats/analysis/data/weather/temp/era5_temp_2023_06.grib.5b7b6.idx' older than GRIB file\n"
     ]
    },
    {
     "name": "stdout",
     "output_type": "stream",
     "text": [
      "reading era5_temp_2023_06.grib\n"
     ]
    },
    {
     "name": "stderr",
     "output_type": "stream",
     "text": [
      "/home/au472091/venv/lib/python3.12/site-packages/cfgrib/xarray_plugin.py:131: FutureWarning: In a future version of xarray decode_timedelta will default to False rather than None. To silence this warning, set decode_timedelta to True, False, or a 'CFTimedeltaCoder' instance.\n",
      "  vars, attrs, coord_names = xr.conventions.decode_cf_variables(\n",
      "Ignoring index file '/home/au472091/OneDrive/au/projects/pam_bats/analysis/data/weather/temp/era5_temp_2023_07.grib.5b7b6.idx' older than GRIB file\n"
     ]
    },
    {
     "name": "stdout",
     "output_type": "stream",
     "text": [
      "reading era5_temp_2023_07.grib\n"
     ]
    },
    {
     "name": "stderr",
     "output_type": "stream",
     "text": [
      "/home/au472091/venv/lib/python3.12/site-packages/cfgrib/xarray_plugin.py:131: FutureWarning: In a future version of xarray decode_timedelta will default to False rather than None. To silence this warning, set decode_timedelta to True, False, or a 'CFTimedeltaCoder' instance.\n",
      "  vars, attrs, coord_names = xr.conventions.decode_cf_variables(\n",
      "Ignoring index file '/home/au472091/OneDrive/au/projects/pam_bats/analysis/data/weather/temp/era5_temp_2023_08.grib.5b7b6.idx' older than GRIB file\n"
     ]
    },
    {
     "name": "stdout",
     "output_type": "stream",
     "text": [
      "reading era5_temp_2023_08.grib\n"
     ]
    },
    {
     "name": "stderr",
     "output_type": "stream",
     "text": [
      "/home/au472091/venv/lib/python3.12/site-packages/cfgrib/xarray_plugin.py:131: FutureWarning: In a future version of xarray decode_timedelta will default to False rather than None. To silence this warning, set decode_timedelta to True, False, or a 'CFTimedeltaCoder' instance.\n",
      "  vars, attrs, coord_names = xr.conventions.decode_cf_variables(\n",
      "Ignoring index file '/home/au472091/OneDrive/au/projects/pam_bats/analysis/data/weather/temp/era5_temp_2023_09.grib.5b7b6.idx' older than GRIB file\n"
     ]
    },
    {
     "name": "stdout",
     "output_type": "stream",
     "text": [
      "reading era5_temp_2023_09.grib\n"
     ]
    },
    {
     "name": "stderr",
     "output_type": "stream",
     "text": [
      "/home/au472091/venv/lib/python3.12/site-packages/cfgrib/xarray_plugin.py:131: FutureWarning: In a future version of xarray decode_timedelta will default to False rather than None. To silence this warning, set decode_timedelta to True, False, or a 'CFTimedeltaCoder' instance.\n",
      "  vars, attrs, coord_names = xr.conventions.decode_cf_variables(\n",
      "Ignoring index file '/home/au472091/OneDrive/au/projects/pam_bats/analysis/data/weather/temp/era5_temp_2023_10.grib.5b7b6.idx' older than GRIB file\n"
     ]
    },
    {
     "name": "stdout",
     "output_type": "stream",
     "text": [
      "reading era5_temp_2023_10.grib\n"
     ]
    },
    {
     "name": "stderr",
     "output_type": "stream",
     "text": [
      "/home/au472091/venv/lib/python3.12/site-packages/cfgrib/xarray_plugin.py:131: FutureWarning: In a future version of xarray decode_timedelta will default to False rather than None. To silence this warning, set decode_timedelta to True, False, or a 'CFTimedeltaCoder' instance.\n",
      "  vars, attrs, coord_names = xr.conventions.decode_cf_variables(\n",
      "Ignoring index file '/home/au472091/OneDrive/au/projects/pam_bats/analysis/data/weather/temp/era5_temp_2023_11.grib.5b7b6.idx' older than GRIB file\n"
     ]
    },
    {
     "name": "stdout",
     "output_type": "stream",
     "text": [
      "reading era5_temp_2023_11.grib\n"
     ]
    },
    {
     "name": "stderr",
     "output_type": "stream",
     "text": [
      "/home/au472091/venv/lib/python3.12/site-packages/cfgrib/xarray_plugin.py:131: FutureWarning: In a future version of xarray decode_timedelta will default to False rather than None. To silence this warning, set decode_timedelta to True, False, or a 'CFTimedeltaCoder' instance.\n",
      "  vars, attrs, coord_names = xr.conventions.decode_cf_variables(\n",
      "Ignoring index file '/home/au472091/OneDrive/au/projects/pam_bats/analysis/data/weather/temp/era5_temp_2023_12.grib.5b7b6.idx' older than GRIB file\n"
     ]
    },
    {
     "name": "stdout",
     "output_type": "stream",
     "text": [
      "reading era5_temp_2023_12.grib\n"
     ]
    },
    {
     "name": "stderr",
     "output_type": "stream",
     "text": [
      "/home/au472091/venv/lib/python3.12/site-packages/cfgrib/xarray_plugin.py:131: FutureWarning: In a future version of xarray decode_timedelta will default to False rather than None. To silence this warning, set decode_timedelta to True, False, or a 'CFTimedeltaCoder' instance.\n",
      "  vars, attrs, coord_names = xr.conventions.decode_cf_variables(\n",
      "Ignoring index file '/home/au472091/OneDrive/au/projects/pam_bats/analysis/data/weather/temp/era5_temp_2024_01.grib.5b7b6.idx' older than GRIB file\n"
     ]
    },
    {
     "name": "stdout",
     "output_type": "stream",
     "text": [
      "reading era5_temp_2024_01.grib\n"
     ]
    },
    {
     "name": "stderr",
     "output_type": "stream",
     "text": [
      "/home/au472091/venv/lib/python3.12/site-packages/cfgrib/xarray_plugin.py:131: FutureWarning: In a future version of xarray decode_timedelta will default to False rather than None. To silence this warning, set decode_timedelta to True, False, or a 'CFTimedeltaCoder' instance.\n",
      "  vars, attrs, coord_names = xr.conventions.decode_cf_variables(\n",
      "Ignoring index file '/home/au472091/OneDrive/au/projects/pam_bats/analysis/data/weather/temp/era5_temp_2024_02.grib.5b7b6.idx' older than GRIB file\n"
     ]
    },
    {
     "name": "stdout",
     "output_type": "stream",
     "text": [
      "reading era5_temp_2024_02.grib\n"
     ]
    },
    {
     "name": "stderr",
     "output_type": "stream",
     "text": [
      "/home/au472091/venv/lib/python3.12/site-packages/cfgrib/xarray_plugin.py:131: FutureWarning: In a future version of xarray decode_timedelta will default to False rather than None. To silence this warning, set decode_timedelta to True, False, or a 'CFTimedeltaCoder' instance.\n",
      "  vars, attrs, coord_names = xr.conventions.decode_cf_variables(\n",
      "Ignoring index file '/home/au472091/OneDrive/au/projects/pam_bats/analysis/data/weather/temp/era5_temp_2024_03.grib.5b7b6.idx' older than GRIB file\n"
     ]
    },
    {
     "name": "stdout",
     "output_type": "stream",
     "text": [
      "reading era5_temp_2024_03.grib\n"
     ]
    },
    {
     "name": "stderr",
     "output_type": "stream",
     "text": [
      "/home/au472091/venv/lib/python3.12/site-packages/cfgrib/xarray_plugin.py:131: FutureWarning: In a future version of xarray decode_timedelta will default to False rather than None. To silence this warning, set decode_timedelta to True, False, or a 'CFTimedeltaCoder' instance.\n",
      "  vars, attrs, coord_names = xr.conventions.decode_cf_variables(\n",
      "Ignoring index file '/home/au472091/OneDrive/au/projects/pam_bats/analysis/data/weather/temp/era5_temp_2024_04.grib.5b7b6.idx' older than GRIB file\n"
     ]
    },
    {
     "name": "stdout",
     "output_type": "stream",
     "text": [
      "reading era5_temp_2024_04.grib\n"
     ]
    },
    {
     "name": "stderr",
     "output_type": "stream",
     "text": [
      "/home/au472091/venv/lib/python3.12/site-packages/cfgrib/xarray_plugin.py:131: FutureWarning: In a future version of xarray decode_timedelta will default to False rather than None. To silence this warning, set decode_timedelta to True, False, or a 'CFTimedeltaCoder' instance.\n",
      "  vars, attrs, coord_names = xr.conventions.decode_cf_variables(\n",
      "Ignoring index file '/home/au472091/OneDrive/au/projects/pam_bats/analysis/data/weather/temp/era5_temp_2024_05.grib.5b7b6.idx' older than GRIB file\n"
     ]
    },
    {
     "name": "stdout",
     "output_type": "stream",
     "text": [
      "reading era5_temp_2024_05.grib\n"
     ]
    },
    {
     "name": "stderr",
     "output_type": "stream",
     "text": [
      "/home/au472091/venv/lib/python3.12/site-packages/cfgrib/xarray_plugin.py:131: FutureWarning: In a future version of xarray decode_timedelta will default to False rather than None. To silence this warning, set decode_timedelta to True, False, or a 'CFTimedeltaCoder' instance.\n",
      "  vars, attrs, coord_names = xr.conventions.decode_cf_variables(\n",
      "Ignoring index file '/home/au472091/OneDrive/au/projects/pam_bats/analysis/data/weather/temp/era5_temp_2024_06.grib.5b7b6.idx' older than GRIB file\n"
     ]
    },
    {
     "name": "stdout",
     "output_type": "stream",
     "text": [
      "reading era5_temp_2024_06.grib\n"
     ]
    },
    {
     "name": "stderr",
     "output_type": "stream",
     "text": [
      "/home/au472091/venv/lib/python3.12/site-packages/cfgrib/xarray_plugin.py:131: FutureWarning: In a future version of xarray decode_timedelta will default to False rather than None. To silence this warning, set decode_timedelta to True, False, or a 'CFTimedeltaCoder' instance.\n",
      "  vars, attrs, coord_names = xr.conventions.decode_cf_variables(\n",
      "Ignoring index file '/home/au472091/OneDrive/au/projects/pam_bats/analysis/data/weather/temp/era5_temp_2024_07.grib.5b7b6.idx' older than GRIB file\n"
     ]
    },
    {
     "name": "stdout",
     "output_type": "stream",
     "text": [
      "reading era5_temp_2024_07.grib\n"
     ]
    },
    {
     "name": "stderr",
     "output_type": "stream",
     "text": [
      "/home/au472091/venv/lib/python3.12/site-packages/cfgrib/xarray_plugin.py:131: FutureWarning: In a future version of xarray decode_timedelta will default to False rather than None. To silence this warning, set decode_timedelta to True, False, or a 'CFTimedeltaCoder' instance.\n",
      "  vars, attrs, coord_names = xr.conventions.decode_cf_variables(\n",
      "Ignoring index file '/home/au472091/OneDrive/au/projects/pam_bats/analysis/data/weather/temp/era5_temp_2024_08.grib.5b7b6.idx' older than GRIB file\n"
     ]
    },
    {
     "name": "stdout",
     "output_type": "stream",
     "text": [
      "reading era5_temp_2024_08.grib\n"
     ]
    },
    {
     "name": "stderr",
     "output_type": "stream",
     "text": [
      "/home/au472091/venv/lib/python3.12/site-packages/cfgrib/xarray_plugin.py:131: FutureWarning: In a future version of xarray decode_timedelta will default to False rather than None. To silence this warning, set decode_timedelta to True, False, or a 'CFTimedeltaCoder' instance.\n",
      "  vars, attrs, coord_names = xr.conventions.decode_cf_variables(\n",
      "Ignoring index file '/home/au472091/OneDrive/au/projects/pam_bats/analysis/data/weather/temp/era5_temp_2024_09.grib.5b7b6.idx' older than GRIB file\n"
     ]
    },
    {
     "name": "stdout",
     "output_type": "stream",
     "text": [
      "reading era5_temp_2024_09.grib\n"
     ]
    },
    {
     "name": "stderr",
     "output_type": "stream",
     "text": [
      "/home/au472091/venv/lib/python3.12/site-packages/cfgrib/xarray_plugin.py:131: FutureWarning: In a future version of xarray decode_timedelta will default to False rather than None. To silence this warning, set decode_timedelta to True, False, or a 'CFTimedeltaCoder' instance.\n",
      "  vars, attrs, coord_names = xr.conventions.decode_cf_variables(\n",
      "Ignoring index file '/home/au472091/OneDrive/au/projects/pam_bats/analysis/data/weather/temp/era5_temp_2024_10.grib.5b7b6.idx' older than GRIB file\n"
     ]
    },
    {
     "name": "stdout",
     "output_type": "stream",
     "text": [
      "reading era5_temp_2024_10.grib\n"
     ]
    },
    {
     "name": "stderr",
     "output_type": "stream",
     "text": [
      "/home/au472091/venv/lib/python3.12/site-packages/cfgrib/xarray_plugin.py:131: FutureWarning: In a future version of xarray decode_timedelta will default to False rather than None. To silence this warning, set decode_timedelta to True, False, or a 'CFTimedeltaCoder' instance.\n",
      "  vars, attrs, coord_names = xr.conventions.decode_cf_variables(\n",
      "Ignoring index file '/home/au472091/OneDrive/au/projects/pam_bats/analysis/data/weather/temp/era5_temp_2024_11.grib.5b7b6.idx' older than GRIB file\n"
     ]
    },
    {
     "name": "stdout",
     "output_type": "stream",
     "text": [
      "reading era5_temp_2024_11.grib\n"
     ]
    },
    {
     "name": "stderr",
     "output_type": "stream",
     "text": [
      "/home/au472091/venv/lib/python3.12/site-packages/cfgrib/xarray_plugin.py:131: FutureWarning: In a future version of xarray decode_timedelta will default to False rather than None. To silence this warning, set decode_timedelta to True, False, or a 'CFTimedeltaCoder' instance.\n",
      "  vars, attrs, coord_names = xr.conventions.decode_cf_variables(\n"
     ]
    },
    {
     "name": "stdout",
     "output_type": "stream",
     "text": [
      "reading era5_temp_2024_12.grib\n"
     ]
    },
    {
     "name": "stderr",
     "output_type": "stream",
     "text": [
      "/home/au472091/venv/lib/python3.12/site-packages/cfgrib/xarray_plugin.py:131: FutureWarning: In a future version of xarray decode_timedelta will default to False rather than None. To silence this warning, set decode_timedelta to True, False, or a 'CFTimedeltaCoder' instance.\n",
      "  vars, attrs, coord_names = xr.conventions.decode_cf_variables(\n"
     ]
    },
    {
     "name": "stdout",
     "output_type": "stream",
     "text": [
      "reading era5_temp_2025_01.grib\n"
     ]
    },
    {
     "name": "stderr",
     "output_type": "stream",
     "text": [
      "/home/au472091/venv/lib/python3.12/site-packages/cfgrib/xarray_plugin.py:131: FutureWarning: In a future version of xarray decode_timedelta will default to False rather than None. To silence this warning, set decode_timedelta to True, False, or a 'CFTimedeltaCoder' instance.\n",
      "  vars, attrs, coord_names = xr.conventions.decode_cf_variables(\n"
     ]
    },
    {
     "name": "stdout",
     "output_type": "stream",
     "text": [
      "reading era5_temp_2025_02.grib\n"
     ]
    },
    {
     "name": "stderr",
     "output_type": "stream",
     "text": [
      "/home/au472091/venv/lib/python3.12/site-packages/cfgrib/xarray_plugin.py:131: FutureWarning: In a future version of xarray decode_timedelta will default to False rather than None. To silence this warning, set decode_timedelta to True, False, or a 'CFTimedeltaCoder' instance.\n",
      "  vars, attrs, coord_names = xr.conventions.decode_cf_variables(\n"
     ]
    },
    {
     "name": "stdout",
     "output_type": "stream",
     "text": [
      "reading era5_temp_2025_03.grib\n"
     ]
    },
    {
     "name": "stderr",
     "output_type": "stream",
     "text": [
      "/home/au472091/venv/lib/python3.12/site-packages/cfgrib/xarray_plugin.py:131: FutureWarning: In a future version of xarray decode_timedelta will default to False rather than None. To silence this warning, set decode_timedelta to True, False, or a 'CFTimedeltaCoder' instance.\n",
      "  vars, attrs, coord_names = xr.conventions.decode_cf_variables(\n"
     ]
    },
    {
     "name": "stdout",
     "output_type": "stream",
     "text": [
      "reading era5_temp_2025_04.grib\n"
     ]
    },
    {
     "name": "stderr",
     "output_type": "stream",
     "text": [
      "/home/au472091/venv/lib/python3.12/site-packages/cfgrib/xarray_plugin.py:131: FutureWarning: In a future version of xarray decode_timedelta will default to False rather than None. To silence this warning, set decode_timedelta to True, False, or a 'CFTimedeltaCoder' instance.\n",
      "  vars, attrs, coord_names = xr.conventions.decode_cf_variables(\n",
      "Ignoring index file '/home/au472091/OneDrive/au/projects/pam_bats/analysis/data/weather/windu/era5_windu_2023_01.grib.5b7b6.idx' older than GRIB file\n"
     ]
    },
    {
     "name": "stdout",
     "output_type": "stream",
     "text": [
      "reading era5_windu_2023_01.grib\n"
     ]
    },
    {
     "name": "stderr",
     "output_type": "stream",
     "text": [
      "/home/au472091/venv/lib/python3.12/site-packages/cfgrib/xarray_plugin.py:131: FutureWarning: In a future version of xarray decode_timedelta will default to False rather than None. To silence this warning, set decode_timedelta to True, False, or a 'CFTimedeltaCoder' instance.\n",
      "  vars, attrs, coord_names = xr.conventions.decode_cf_variables(\n",
      "/tmp/ipykernel_1620840/3401802185.py:44: FutureWarning: The behavior of DataFrame concatenation with empty or all-NA entries is deprecated. In a future version, this will no longer exclude empty or all-NA columns when determining the result dtypes. To retain the old behavior, exclude the relevant entries before the concat operation.\n",
      "  outdf[count]=pd.concat([outdf[count], out], axis=0, ignore_index=True)\n",
      "/tmp/ipykernel_1620840/3401802185.py:44: FutureWarning: The behavior of DataFrame concatenation with empty or all-NA entries is deprecated. In a future version, this will no longer exclude empty or all-NA columns when determining the result dtypes. To retain the old behavior, exclude the relevant entries before the concat operation.\n",
      "  outdf[count]=pd.concat([outdf[count], out], axis=0, ignore_index=True)\n",
      "/tmp/ipykernel_1620840/3401802185.py:44: FutureWarning: The behavior of DataFrame concatenation with empty or all-NA entries is deprecated. In a future version, this will no longer exclude empty or all-NA columns when determining the result dtypes. To retain the old behavior, exclude the relevant entries before the concat operation.\n",
      "  outdf[count]=pd.concat([outdf[count], out], axis=0, ignore_index=True)\n",
      "/tmp/ipykernel_1620840/3401802185.py:44: FutureWarning: The behavior of DataFrame concatenation with empty or all-NA entries is deprecated. In a future version, this will no longer exclude empty or all-NA columns when determining the result dtypes. To retain the old behavior, exclude the relevant entries before the concat operation.\n",
      "  outdf[count]=pd.concat([outdf[count], out], axis=0, ignore_index=True)\n",
      "/tmp/ipykernel_1620840/3401802185.py:44: FutureWarning: The behavior of DataFrame concatenation with empty or all-NA entries is deprecated. In a future version, this will no longer exclude empty or all-NA columns when determining the result dtypes. To retain the old behavior, exclude the relevant entries before the concat operation.\n",
      "  outdf[count]=pd.concat([outdf[count], out], axis=0, ignore_index=True)\n",
      "/tmp/ipykernel_1620840/3401802185.py:44: FutureWarning: The behavior of DataFrame concatenation with empty or all-NA entries is deprecated. In a future version, this will no longer exclude empty or all-NA columns when determining the result dtypes. To retain the old behavior, exclude the relevant entries before the concat operation.\n",
      "  outdf[count]=pd.concat([outdf[count], out], axis=0, ignore_index=True)\n",
      "/tmp/ipykernel_1620840/3401802185.py:44: FutureWarning: The behavior of DataFrame concatenation with empty or all-NA entries is deprecated. In a future version, this will no longer exclude empty or all-NA columns when determining the result dtypes. To retain the old behavior, exclude the relevant entries before the concat operation.\n",
      "  outdf[count]=pd.concat([outdf[count], out], axis=0, ignore_index=True)\n",
      "/tmp/ipykernel_1620840/3401802185.py:44: FutureWarning: The behavior of DataFrame concatenation with empty or all-NA entries is deprecated. In a future version, this will no longer exclude empty or all-NA columns when determining the result dtypes. To retain the old behavior, exclude the relevant entries before the concat operation.\n",
      "  outdf[count]=pd.concat([outdf[count], out], axis=0, ignore_index=True)\n",
      "/tmp/ipykernel_1620840/3401802185.py:44: FutureWarning: The behavior of DataFrame concatenation with empty or all-NA entries is deprecated. In a future version, this will no longer exclude empty or all-NA columns when determining the result dtypes. To retain the old behavior, exclude the relevant entries before the concat operation.\n",
      "  outdf[count]=pd.concat([outdf[count], out], axis=0, ignore_index=True)\n",
      "/tmp/ipykernel_1620840/3401802185.py:44: FutureWarning: The behavior of DataFrame concatenation with empty or all-NA entries is deprecated. In a future version, this will no longer exclude empty or all-NA columns when determining the result dtypes. To retain the old behavior, exclude the relevant entries before the concat operation.\n",
      "  outdf[count]=pd.concat([outdf[count], out], axis=0, ignore_index=True)\n",
      "/tmp/ipykernel_1620840/3401802185.py:44: FutureWarning: The behavior of DataFrame concatenation with empty or all-NA entries is deprecated. In a future version, this will no longer exclude empty or all-NA columns when determining the result dtypes. To retain the old behavior, exclude the relevant entries before the concat operation.\n",
      "  outdf[count]=pd.concat([outdf[count], out], axis=0, ignore_index=True)\n",
      "/tmp/ipykernel_1620840/3401802185.py:44: FutureWarning: The behavior of DataFrame concatenation with empty or all-NA entries is deprecated. In a future version, this will no longer exclude empty or all-NA columns when determining the result dtypes. To retain the old behavior, exclude the relevant entries before the concat operation.\n",
      "  outdf[count]=pd.concat([outdf[count], out], axis=0, ignore_index=True)\n",
      "/tmp/ipykernel_1620840/3401802185.py:44: FutureWarning: The behavior of DataFrame concatenation with empty or all-NA entries is deprecated. In a future version, this will no longer exclude empty or all-NA columns when determining the result dtypes. To retain the old behavior, exclude the relevant entries before the concat operation.\n",
      "  outdf[count]=pd.concat([outdf[count], out], axis=0, ignore_index=True)\n",
      "/tmp/ipykernel_1620840/3401802185.py:44: FutureWarning: The behavior of DataFrame concatenation with empty or all-NA entries is deprecated. In a future version, this will no longer exclude empty or all-NA columns when determining the result dtypes. To retain the old behavior, exclude the relevant entries before the concat operation.\n",
      "  outdf[count]=pd.concat([outdf[count], out], axis=0, ignore_index=True)\n",
      "/tmp/ipykernel_1620840/3401802185.py:44: FutureWarning: The behavior of DataFrame concatenation with empty or all-NA entries is deprecated. In a future version, this will no longer exclude empty or all-NA columns when determining the result dtypes. To retain the old behavior, exclude the relevant entries before the concat operation.\n",
      "  outdf[count]=pd.concat([outdf[count], out], axis=0, ignore_index=True)\n",
      "/tmp/ipykernel_1620840/3401802185.py:44: FutureWarning: The behavior of DataFrame concatenation with empty or all-NA entries is deprecated. In a future version, this will no longer exclude empty or all-NA columns when determining the result dtypes. To retain the old behavior, exclude the relevant entries before the concat operation.\n",
      "  outdf[count]=pd.concat([outdf[count], out], axis=0, ignore_index=True)\n",
      "/tmp/ipykernel_1620840/3401802185.py:44: FutureWarning: The behavior of DataFrame concatenation with empty or all-NA entries is deprecated. In a future version, this will no longer exclude empty or all-NA columns when determining the result dtypes. To retain the old behavior, exclude the relevant entries before the concat operation.\n",
      "  outdf[count]=pd.concat([outdf[count], out], axis=0, ignore_index=True)\n",
      "/tmp/ipykernel_1620840/3401802185.py:44: FutureWarning: The behavior of DataFrame concatenation with empty or all-NA entries is deprecated. In a future version, this will no longer exclude empty or all-NA columns when determining the result dtypes. To retain the old behavior, exclude the relevant entries before the concat operation.\n",
      "  outdf[count]=pd.concat([outdf[count], out], axis=0, ignore_index=True)\n",
      "/tmp/ipykernel_1620840/3401802185.py:44: FutureWarning: The behavior of DataFrame concatenation with empty or all-NA entries is deprecated. In a future version, this will no longer exclude empty or all-NA columns when determining the result dtypes. To retain the old behavior, exclude the relevant entries before the concat operation.\n",
      "  outdf[count]=pd.concat([outdf[count], out], axis=0, ignore_index=True)\n",
      "/tmp/ipykernel_1620840/3401802185.py:44: FutureWarning: The behavior of DataFrame concatenation with empty or all-NA entries is deprecated. In a future version, this will no longer exclude empty or all-NA columns when determining the result dtypes. To retain the old behavior, exclude the relevant entries before the concat operation.\n",
      "  outdf[count]=pd.concat([outdf[count], out], axis=0, ignore_index=True)\n",
      "/tmp/ipykernel_1620840/3401802185.py:44: FutureWarning: The behavior of DataFrame concatenation with empty or all-NA entries is deprecated. In a future version, this will no longer exclude empty or all-NA columns when determining the result dtypes. To retain the old behavior, exclude the relevant entries before the concat operation.\n",
      "  outdf[count]=pd.concat([outdf[count], out], axis=0, ignore_index=True)\n",
      "/tmp/ipykernel_1620840/3401802185.py:44: FutureWarning: The behavior of DataFrame concatenation with empty or all-NA entries is deprecated. In a future version, this will no longer exclude empty or all-NA columns when determining the result dtypes. To retain the old behavior, exclude the relevant entries before the concat operation.\n",
      "  outdf[count]=pd.concat([outdf[count], out], axis=0, ignore_index=True)\n",
      "/tmp/ipykernel_1620840/3401802185.py:44: FutureWarning: The behavior of DataFrame concatenation with empty or all-NA entries is deprecated. In a future version, this will no longer exclude empty or all-NA columns when determining the result dtypes. To retain the old behavior, exclude the relevant entries before the concat operation.\n",
      "  outdf[count]=pd.concat([outdf[count], out], axis=0, ignore_index=True)\n",
      "/tmp/ipykernel_1620840/3401802185.py:44: FutureWarning: The behavior of DataFrame concatenation with empty or all-NA entries is deprecated. In a future version, this will no longer exclude empty or all-NA columns when determining the result dtypes. To retain the old behavior, exclude the relevant entries before the concat operation.\n",
      "  outdf[count]=pd.concat([outdf[count], out], axis=0, ignore_index=True)\n",
      "/tmp/ipykernel_1620840/3401802185.py:44: FutureWarning: The behavior of DataFrame concatenation with empty or all-NA entries is deprecated. In a future version, this will no longer exclude empty or all-NA columns when determining the result dtypes. To retain the old behavior, exclude the relevant entries before the concat operation.\n",
      "  outdf[count]=pd.concat([outdf[count], out], axis=0, ignore_index=True)\n",
      "/tmp/ipykernel_1620840/3401802185.py:44: FutureWarning: The behavior of DataFrame concatenation with empty or all-NA entries is deprecated. In a future version, this will no longer exclude empty or all-NA columns when determining the result dtypes. To retain the old behavior, exclude the relevant entries before the concat operation.\n",
      "  outdf[count]=pd.concat([outdf[count], out], axis=0, ignore_index=True)\n",
      "/tmp/ipykernel_1620840/3401802185.py:44: FutureWarning: The behavior of DataFrame concatenation with empty or all-NA entries is deprecated. In a future version, this will no longer exclude empty or all-NA columns when determining the result dtypes. To retain the old behavior, exclude the relevant entries before the concat operation.\n",
      "  outdf[count]=pd.concat([outdf[count], out], axis=0, ignore_index=True)\n",
      "/tmp/ipykernel_1620840/3401802185.py:44: FutureWarning: The behavior of DataFrame concatenation with empty or all-NA entries is deprecated. In a future version, this will no longer exclude empty or all-NA columns when determining the result dtypes. To retain the old behavior, exclude the relevant entries before the concat operation.\n",
      "  outdf[count]=pd.concat([outdf[count], out], axis=0, ignore_index=True)\n",
      "/tmp/ipykernel_1620840/3401802185.py:44: FutureWarning: The behavior of DataFrame concatenation with empty or all-NA entries is deprecated. In a future version, this will no longer exclude empty or all-NA columns when determining the result dtypes. To retain the old behavior, exclude the relevant entries before the concat operation.\n",
      "  outdf[count]=pd.concat([outdf[count], out], axis=0, ignore_index=True)\n",
      "/tmp/ipykernel_1620840/3401802185.py:44: FutureWarning: The behavior of DataFrame concatenation with empty or all-NA entries is deprecated. In a future version, this will no longer exclude empty or all-NA columns when determining the result dtypes. To retain the old behavior, exclude the relevant entries before the concat operation.\n",
      "  outdf[count]=pd.concat([outdf[count], out], axis=0, ignore_index=True)\n",
      "/tmp/ipykernel_1620840/3401802185.py:44: FutureWarning: The behavior of DataFrame concatenation with empty or all-NA entries is deprecated. In a future version, this will no longer exclude empty or all-NA columns when determining the result dtypes. To retain the old behavior, exclude the relevant entries before the concat operation.\n",
      "  outdf[count]=pd.concat([outdf[count], out], axis=0, ignore_index=True)\n",
      "/tmp/ipykernel_1620840/3401802185.py:44: FutureWarning: The behavior of DataFrame concatenation with empty or all-NA entries is deprecated. In a future version, this will no longer exclude empty or all-NA columns when determining the result dtypes. To retain the old behavior, exclude the relevant entries before the concat operation.\n",
      "  outdf[count]=pd.concat([outdf[count], out], axis=0, ignore_index=True)\n",
      "/tmp/ipykernel_1620840/3401802185.py:44: FutureWarning: The behavior of DataFrame concatenation with empty or all-NA entries is deprecated. In a future version, this will no longer exclude empty or all-NA columns when determining the result dtypes. To retain the old behavior, exclude the relevant entries before the concat operation.\n",
      "  outdf[count]=pd.concat([outdf[count], out], axis=0, ignore_index=True)\n",
      "/tmp/ipykernel_1620840/3401802185.py:44: FutureWarning: The behavior of DataFrame concatenation with empty or all-NA entries is deprecated. In a future version, this will no longer exclude empty or all-NA columns when determining the result dtypes. To retain the old behavior, exclude the relevant entries before the concat operation.\n",
      "  outdf[count]=pd.concat([outdf[count], out], axis=0, ignore_index=True)\n",
      "/tmp/ipykernel_1620840/3401802185.py:44: FutureWarning: The behavior of DataFrame concatenation with empty or all-NA entries is deprecated. In a future version, this will no longer exclude empty or all-NA columns when determining the result dtypes. To retain the old behavior, exclude the relevant entries before the concat operation.\n",
      "  outdf[count]=pd.concat([outdf[count], out], axis=0, ignore_index=True)\n",
      "/tmp/ipykernel_1620840/3401802185.py:44: FutureWarning: The behavior of DataFrame concatenation with empty or all-NA entries is deprecated. In a future version, this will no longer exclude empty or all-NA columns when determining the result dtypes. To retain the old behavior, exclude the relevant entries before the concat operation.\n",
      "  outdf[count]=pd.concat([outdf[count], out], axis=0, ignore_index=True)\n",
      "/tmp/ipykernel_1620840/3401802185.py:44: FutureWarning: The behavior of DataFrame concatenation with empty or all-NA entries is deprecated. In a future version, this will no longer exclude empty or all-NA columns when determining the result dtypes. To retain the old behavior, exclude the relevant entries before the concat operation.\n",
      "  outdf[count]=pd.concat([outdf[count], out], axis=0, ignore_index=True)\n",
      "/tmp/ipykernel_1620840/3401802185.py:44: FutureWarning: The behavior of DataFrame concatenation with empty or all-NA entries is deprecated. In a future version, this will no longer exclude empty or all-NA columns when determining the result dtypes. To retain the old behavior, exclude the relevant entries before the concat operation.\n",
      "  outdf[count]=pd.concat([outdf[count], out], axis=0, ignore_index=True)\n",
      "/tmp/ipykernel_1620840/3401802185.py:44: FutureWarning: The behavior of DataFrame concatenation with empty or all-NA entries is deprecated. In a future version, this will no longer exclude empty or all-NA columns when determining the result dtypes. To retain the old behavior, exclude the relevant entries before the concat operation.\n",
      "  outdf[count]=pd.concat([outdf[count], out], axis=0, ignore_index=True)\n",
      "/tmp/ipykernel_1620840/3401802185.py:44: FutureWarning: The behavior of DataFrame concatenation with empty or all-NA entries is deprecated. In a future version, this will no longer exclude empty or all-NA columns when determining the result dtypes. To retain the old behavior, exclude the relevant entries before the concat operation.\n",
      "  outdf[count]=pd.concat([outdf[count], out], axis=0, ignore_index=True)\n",
      "/tmp/ipykernel_1620840/3401802185.py:44: FutureWarning: The behavior of DataFrame concatenation with empty or all-NA entries is deprecated. In a future version, this will no longer exclude empty or all-NA columns when determining the result dtypes. To retain the old behavior, exclude the relevant entries before the concat operation.\n",
      "  outdf[count]=pd.concat([outdf[count], out], axis=0, ignore_index=True)\n",
      "/tmp/ipykernel_1620840/3401802185.py:44: FutureWarning: The behavior of DataFrame concatenation with empty or all-NA entries is deprecated. In a future version, this will no longer exclude empty or all-NA columns when determining the result dtypes. To retain the old behavior, exclude the relevant entries before the concat operation.\n",
      "  outdf[count]=pd.concat([outdf[count], out], axis=0, ignore_index=True)\n",
      "/tmp/ipykernel_1620840/3401802185.py:44: FutureWarning: The behavior of DataFrame concatenation with empty or all-NA entries is deprecated. In a future version, this will no longer exclude empty or all-NA columns when determining the result dtypes. To retain the old behavior, exclude the relevant entries before the concat operation.\n",
      "  outdf[count]=pd.concat([outdf[count], out], axis=0, ignore_index=True)\n",
      "/tmp/ipykernel_1620840/3401802185.py:44: FutureWarning: The behavior of DataFrame concatenation with empty or all-NA entries is deprecated. In a future version, this will no longer exclude empty or all-NA columns when determining the result dtypes. To retain the old behavior, exclude the relevant entries before the concat operation.\n",
      "  outdf[count]=pd.concat([outdf[count], out], axis=0, ignore_index=True)\n",
      "/tmp/ipykernel_1620840/3401802185.py:44: FutureWarning: The behavior of DataFrame concatenation with empty or all-NA entries is deprecated. In a future version, this will no longer exclude empty or all-NA columns when determining the result dtypes. To retain the old behavior, exclude the relevant entries before the concat operation.\n",
      "  outdf[count]=pd.concat([outdf[count], out], axis=0, ignore_index=True)\n",
      "/tmp/ipykernel_1620840/3401802185.py:44: FutureWarning: The behavior of DataFrame concatenation with empty or all-NA entries is deprecated. In a future version, this will no longer exclude empty or all-NA columns when determining the result dtypes. To retain the old behavior, exclude the relevant entries before the concat operation.\n",
      "  outdf[count]=pd.concat([outdf[count], out], axis=0, ignore_index=True)\n",
      "/tmp/ipykernel_1620840/3401802185.py:44: FutureWarning: The behavior of DataFrame concatenation with empty or all-NA entries is deprecated. In a future version, this will no longer exclude empty or all-NA columns when determining the result dtypes. To retain the old behavior, exclude the relevant entries before the concat operation.\n",
      "  outdf[count]=pd.concat([outdf[count], out], axis=0, ignore_index=True)\n",
      "/tmp/ipykernel_1620840/3401802185.py:44: FutureWarning: The behavior of DataFrame concatenation with empty or all-NA entries is deprecated. In a future version, this will no longer exclude empty or all-NA columns when determining the result dtypes. To retain the old behavior, exclude the relevant entries before the concat operation.\n",
      "  outdf[count]=pd.concat([outdf[count], out], axis=0, ignore_index=True)\n",
      "/tmp/ipykernel_1620840/3401802185.py:44: FutureWarning: The behavior of DataFrame concatenation with empty or all-NA entries is deprecated. In a future version, this will no longer exclude empty or all-NA columns when determining the result dtypes. To retain the old behavior, exclude the relevant entries before the concat operation.\n",
      "  outdf[count]=pd.concat([outdf[count], out], axis=0, ignore_index=True)\n",
      "/tmp/ipykernel_1620840/3401802185.py:44: FutureWarning: The behavior of DataFrame concatenation with empty or all-NA entries is deprecated. In a future version, this will no longer exclude empty or all-NA columns when determining the result dtypes. To retain the old behavior, exclude the relevant entries before the concat operation.\n",
      "  outdf[count]=pd.concat([outdf[count], out], axis=0, ignore_index=True)\n",
      "/tmp/ipykernel_1620840/3401802185.py:44: FutureWarning: The behavior of DataFrame concatenation with empty or all-NA entries is deprecated. In a future version, this will no longer exclude empty or all-NA columns when determining the result dtypes. To retain the old behavior, exclude the relevant entries before the concat operation.\n",
      "  outdf[count]=pd.concat([outdf[count], out], axis=0, ignore_index=True)\n",
      "/tmp/ipykernel_1620840/3401802185.py:44: FutureWarning: The behavior of DataFrame concatenation with empty or all-NA entries is deprecated. In a future version, this will no longer exclude empty or all-NA columns when determining the result dtypes. To retain the old behavior, exclude the relevant entries before the concat operation.\n",
      "  outdf[count]=pd.concat([outdf[count], out], axis=0, ignore_index=True)\n",
      "/tmp/ipykernel_1620840/3401802185.py:44: FutureWarning: The behavior of DataFrame concatenation with empty or all-NA entries is deprecated. In a future version, this will no longer exclude empty or all-NA columns when determining the result dtypes. To retain the old behavior, exclude the relevant entries before the concat operation.\n",
      "  outdf[count]=pd.concat([outdf[count], out], axis=0, ignore_index=True)\n",
      "/tmp/ipykernel_1620840/3401802185.py:44: FutureWarning: The behavior of DataFrame concatenation with empty or all-NA entries is deprecated. In a future version, this will no longer exclude empty or all-NA columns when determining the result dtypes. To retain the old behavior, exclude the relevant entries before the concat operation.\n",
      "  outdf[count]=pd.concat([outdf[count], out], axis=0, ignore_index=True)\n",
      "/tmp/ipykernel_1620840/3401802185.py:44: FutureWarning: The behavior of DataFrame concatenation with empty or all-NA entries is deprecated. In a future version, this will no longer exclude empty or all-NA columns when determining the result dtypes. To retain the old behavior, exclude the relevant entries before the concat operation.\n",
      "  outdf[count]=pd.concat([outdf[count], out], axis=0, ignore_index=True)\n",
      "/tmp/ipykernel_1620840/3401802185.py:44: FutureWarning: The behavior of DataFrame concatenation with empty or all-NA entries is deprecated. In a future version, this will no longer exclude empty or all-NA columns when determining the result dtypes. To retain the old behavior, exclude the relevant entries before the concat operation.\n",
      "  outdf[count]=pd.concat([outdf[count], out], axis=0, ignore_index=True)\n",
      "/tmp/ipykernel_1620840/3401802185.py:44: FutureWarning: The behavior of DataFrame concatenation with empty or all-NA entries is deprecated. In a future version, this will no longer exclude empty or all-NA columns when determining the result dtypes. To retain the old behavior, exclude the relevant entries before the concat operation.\n",
      "  outdf[count]=pd.concat([outdf[count], out], axis=0, ignore_index=True)\n",
      "Ignoring index file '/home/au472091/OneDrive/au/projects/pam_bats/analysis/data/weather/windu/era5_windu_2023_02.grib.5b7b6.idx' older than GRIB file\n"
     ]
    },
    {
     "name": "stdout",
     "output_type": "stream",
     "text": [
      "reading era5_windu_2023_02.grib\n"
     ]
    },
    {
     "name": "stderr",
     "output_type": "stream",
     "text": [
      "/home/au472091/venv/lib/python3.12/site-packages/cfgrib/xarray_plugin.py:131: FutureWarning: In a future version of xarray decode_timedelta will default to False rather than None. To silence this warning, set decode_timedelta to True, False, or a 'CFTimedeltaCoder' instance.\n",
      "  vars, attrs, coord_names = xr.conventions.decode_cf_variables(\n",
      "Ignoring index file '/home/au472091/OneDrive/au/projects/pam_bats/analysis/data/weather/windu/era5_windu_2023_03.grib.5b7b6.idx' older than GRIB file\n"
     ]
    },
    {
     "name": "stdout",
     "output_type": "stream",
     "text": [
      "reading era5_windu_2023_03.grib\n"
     ]
    },
    {
     "name": "stderr",
     "output_type": "stream",
     "text": [
      "/home/au472091/venv/lib/python3.12/site-packages/cfgrib/xarray_plugin.py:131: FutureWarning: In a future version of xarray decode_timedelta will default to False rather than None. To silence this warning, set decode_timedelta to True, False, or a 'CFTimedeltaCoder' instance.\n",
      "  vars, attrs, coord_names = xr.conventions.decode_cf_variables(\n",
      "Ignoring index file '/home/au472091/OneDrive/au/projects/pam_bats/analysis/data/weather/windu/era5_windu_2023_04.grib.5b7b6.idx' older than GRIB file\n"
     ]
    },
    {
     "name": "stdout",
     "output_type": "stream",
     "text": [
      "reading era5_windu_2023_04.grib\n"
     ]
    },
    {
     "name": "stderr",
     "output_type": "stream",
     "text": [
      "/home/au472091/venv/lib/python3.12/site-packages/cfgrib/xarray_plugin.py:131: FutureWarning: In a future version of xarray decode_timedelta will default to False rather than None. To silence this warning, set decode_timedelta to True, False, or a 'CFTimedeltaCoder' instance.\n",
      "  vars, attrs, coord_names = xr.conventions.decode_cf_variables(\n",
      "Ignoring index file '/home/au472091/OneDrive/au/projects/pam_bats/analysis/data/weather/windu/era5_windu_2023_05.grib.5b7b6.idx' older than GRIB file\n"
     ]
    },
    {
     "name": "stdout",
     "output_type": "stream",
     "text": [
      "reading era5_windu_2023_05.grib\n"
     ]
    },
    {
     "name": "stderr",
     "output_type": "stream",
     "text": [
      "/home/au472091/venv/lib/python3.12/site-packages/cfgrib/xarray_plugin.py:131: FutureWarning: In a future version of xarray decode_timedelta will default to False rather than None. To silence this warning, set decode_timedelta to True, False, or a 'CFTimedeltaCoder' instance.\n",
      "  vars, attrs, coord_names = xr.conventions.decode_cf_variables(\n",
      "Ignoring index file '/home/au472091/OneDrive/au/projects/pam_bats/analysis/data/weather/windu/era5_windu_2023_06.grib.5b7b6.idx' older than GRIB file\n"
     ]
    },
    {
     "name": "stdout",
     "output_type": "stream",
     "text": [
      "reading era5_windu_2023_06.grib\n"
     ]
    },
    {
     "name": "stderr",
     "output_type": "stream",
     "text": [
      "/home/au472091/venv/lib/python3.12/site-packages/cfgrib/xarray_plugin.py:131: FutureWarning: In a future version of xarray decode_timedelta will default to False rather than None. To silence this warning, set decode_timedelta to True, False, or a 'CFTimedeltaCoder' instance.\n",
      "  vars, attrs, coord_names = xr.conventions.decode_cf_variables(\n",
      "Ignoring index file '/home/au472091/OneDrive/au/projects/pam_bats/analysis/data/weather/windu/era5_windu_2023_07.grib.5b7b6.idx' older than GRIB file\n"
     ]
    },
    {
     "name": "stdout",
     "output_type": "stream",
     "text": [
      "reading era5_windu_2023_07.grib\n"
     ]
    },
    {
     "name": "stderr",
     "output_type": "stream",
     "text": [
      "/home/au472091/venv/lib/python3.12/site-packages/cfgrib/xarray_plugin.py:131: FutureWarning: In a future version of xarray decode_timedelta will default to False rather than None. To silence this warning, set decode_timedelta to True, False, or a 'CFTimedeltaCoder' instance.\n",
      "  vars, attrs, coord_names = xr.conventions.decode_cf_variables(\n",
      "Ignoring index file '/home/au472091/OneDrive/au/projects/pam_bats/analysis/data/weather/windu/era5_windu_2023_08.grib.5b7b6.idx' older than GRIB file\n"
     ]
    },
    {
     "name": "stdout",
     "output_type": "stream",
     "text": [
      "reading era5_windu_2023_08.grib\n"
     ]
    },
    {
     "name": "stderr",
     "output_type": "stream",
     "text": [
      "/home/au472091/venv/lib/python3.12/site-packages/cfgrib/xarray_plugin.py:131: FutureWarning: In a future version of xarray decode_timedelta will default to False rather than None. To silence this warning, set decode_timedelta to True, False, or a 'CFTimedeltaCoder' instance.\n",
      "  vars, attrs, coord_names = xr.conventions.decode_cf_variables(\n",
      "Ignoring index file '/home/au472091/OneDrive/au/projects/pam_bats/analysis/data/weather/windu/era5_windu_2023_09.grib.5b7b6.idx' older than GRIB file\n"
     ]
    },
    {
     "name": "stdout",
     "output_type": "stream",
     "text": [
      "reading era5_windu_2023_09.grib\n"
     ]
    },
    {
     "name": "stderr",
     "output_type": "stream",
     "text": [
      "/home/au472091/venv/lib/python3.12/site-packages/cfgrib/xarray_plugin.py:131: FutureWarning: In a future version of xarray decode_timedelta will default to False rather than None. To silence this warning, set decode_timedelta to True, False, or a 'CFTimedeltaCoder' instance.\n",
      "  vars, attrs, coord_names = xr.conventions.decode_cf_variables(\n",
      "Ignoring index file '/home/au472091/OneDrive/au/projects/pam_bats/analysis/data/weather/windu/era5_windu_2023_10.grib.5b7b6.idx' older than GRIB file\n"
     ]
    },
    {
     "name": "stdout",
     "output_type": "stream",
     "text": [
      "reading era5_windu_2023_10.grib\n"
     ]
    },
    {
     "name": "stderr",
     "output_type": "stream",
     "text": [
      "/home/au472091/venv/lib/python3.12/site-packages/cfgrib/xarray_plugin.py:131: FutureWarning: In a future version of xarray decode_timedelta will default to False rather than None. To silence this warning, set decode_timedelta to True, False, or a 'CFTimedeltaCoder' instance.\n",
      "  vars, attrs, coord_names = xr.conventions.decode_cf_variables(\n",
      "Ignoring index file '/home/au472091/OneDrive/au/projects/pam_bats/analysis/data/weather/windu/era5_windu_2023_11.grib.5b7b6.idx' older than GRIB file\n"
     ]
    },
    {
     "name": "stdout",
     "output_type": "stream",
     "text": [
      "reading era5_windu_2023_11.grib\n"
     ]
    },
    {
     "name": "stderr",
     "output_type": "stream",
     "text": [
      "/home/au472091/venv/lib/python3.12/site-packages/cfgrib/xarray_plugin.py:131: FutureWarning: In a future version of xarray decode_timedelta will default to False rather than None. To silence this warning, set decode_timedelta to True, False, or a 'CFTimedeltaCoder' instance.\n",
      "  vars, attrs, coord_names = xr.conventions.decode_cf_variables(\n",
      "Ignoring index file '/home/au472091/OneDrive/au/projects/pam_bats/analysis/data/weather/windu/era5_windu_2023_12.grib.5b7b6.idx' older than GRIB file\n"
     ]
    },
    {
     "name": "stdout",
     "output_type": "stream",
     "text": [
      "reading era5_windu_2023_12.grib\n"
     ]
    },
    {
     "name": "stderr",
     "output_type": "stream",
     "text": [
      "/home/au472091/venv/lib/python3.12/site-packages/cfgrib/xarray_plugin.py:131: FutureWarning: In a future version of xarray decode_timedelta will default to False rather than None. To silence this warning, set decode_timedelta to True, False, or a 'CFTimedeltaCoder' instance.\n",
      "  vars, attrs, coord_names = xr.conventions.decode_cf_variables(\n",
      "Ignoring index file '/home/au472091/OneDrive/au/projects/pam_bats/analysis/data/weather/windu/era5_windu_2024_01.grib.5b7b6.idx' older than GRIB file\n"
     ]
    },
    {
     "name": "stdout",
     "output_type": "stream",
     "text": [
      "reading era5_windu_2024_01.grib\n"
     ]
    },
    {
     "name": "stderr",
     "output_type": "stream",
     "text": [
      "/home/au472091/venv/lib/python3.12/site-packages/cfgrib/xarray_plugin.py:131: FutureWarning: In a future version of xarray decode_timedelta will default to False rather than None. To silence this warning, set decode_timedelta to True, False, or a 'CFTimedeltaCoder' instance.\n",
      "  vars, attrs, coord_names = xr.conventions.decode_cf_variables(\n",
      "Ignoring index file '/home/au472091/OneDrive/au/projects/pam_bats/analysis/data/weather/windu/era5_windu_2024_02.grib.5b7b6.idx' older than GRIB file\n"
     ]
    },
    {
     "name": "stdout",
     "output_type": "stream",
     "text": [
      "reading era5_windu_2024_02.grib\n"
     ]
    },
    {
     "name": "stderr",
     "output_type": "stream",
     "text": [
      "/home/au472091/venv/lib/python3.12/site-packages/cfgrib/xarray_plugin.py:131: FutureWarning: In a future version of xarray decode_timedelta will default to False rather than None. To silence this warning, set decode_timedelta to True, False, or a 'CFTimedeltaCoder' instance.\n",
      "  vars, attrs, coord_names = xr.conventions.decode_cf_variables(\n",
      "Ignoring index file '/home/au472091/OneDrive/au/projects/pam_bats/analysis/data/weather/windu/era5_windu_2024_03.grib.5b7b6.idx' older than GRIB file\n"
     ]
    },
    {
     "name": "stdout",
     "output_type": "stream",
     "text": [
      "reading era5_windu_2024_03.grib\n"
     ]
    },
    {
     "name": "stderr",
     "output_type": "stream",
     "text": [
      "/home/au472091/venv/lib/python3.12/site-packages/cfgrib/xarray_plugin.py:131: FutureWarning: In a future version of xarray decode_timedelta will default to False rather than None. To silence this warning, set decode_timedelta to True, False, or a 'CFTimedeltaCoder' instance.\n",
      "  vars, attrs, coord_names = xr.conventions.decode_cf_variables(\n",
      "Ignoring index file '/home/au472091/OneDrive/au/projects/pam_bats/analysis/data/weather/windu/era5_windu_2024_04.grib.5b7b6.idx' older than GRIB file\n"
     ]
    },
    {
     "name": "stdout",
     "output_type": "stream",
     "text": [
      "reading era5_windu_2024_04.grib\n"
     ]
    },
    {
     "name": "stderr",
     "output_type": "stream",
     "text": [
      "/home/au472091/venv/lib/python3.12/site-packages/cfgrib/xarray_plugin.py:131: FutureWarning: In a future version of xarray decode_timedelta will default to False rather than None. To silence this warning, set decode_timedelta to True, False, or a 'CFTimedeltaCoder' instance.\n",
      "  vars, attrs, coord_names = xr.conventions.decode_cf_variables(\n",
      "Ignoring index file '/home/au472091/OneDrive/au/projects/pam_bats/analysis/data/weather/windu/era5_windu_2024_05.grib.5b7b6.idx' older than GRIB file\n"
     ]
    },
    {
     "name": "stdout",
     "output_type": "stream",
     "text": [
      "reading era5_windu_2024_05.grib\n"
     ]
    },
    {
     "name": "stderr",
     "output_type": "stream",
     "text": [
      "/home/au472091/venv/lib/python3.12/site-packages/cfgrib/xarray_plugin.py:131: FutureWarning: In a future version of xarray decode_timedelta will default to False rather than None. To silence this warning, set decode_timedelta to True, False, or a 'CFTimedeltaCoder' instance.\n",
      "  vars, attrs, coord_names = xr.conventions.decode_cf_variables(\n",
      "Ignoring index file '/home/au472091/OneDrive/au/projects/pam_bats/analysis/data/weather/windu/era5_windu_2024_06.grib.5b7b6.idx' older than GRIB file\n"
     ]
    },
    {
     "name": "stdout",
     "output_type": "stream",
     "text": [
      "reading era5_windu_2024_06.grib\n"
     ]
    },
    {
     "name": "stderr",
     "output_type": "stream",
     "text": [
      "/home/au472091/venv/lib/python3.12/site-packages/cfgrib/xarray_plugin.py:131: FutureWarning: In a future version of xarray decode_timedelta will default to False rather than None. To silence this warning, set decode_timedelta to True, False, or a 'CFTimedeltaCoder' instance.\n",
      "  vars, attrs, coord_names = xr.conventions.decode_cf_variables(\n",
      "Ignoring index file '/home/au472091/OneDrive/au/projects/pam_bats/analysis/data/weather/windu/era5_windu_2024_07.grib.5b7b6.idx' older than GRIB file\n"
     ]
    },
    {
     "name": "stdout",
     "output_type": "stream",
     "text": [
      "reading era5_windu_2024_07.grib\n"
     ]
    },
    {
     "name": "stderr",
     "output_type": "stream",
     "text": [
      "/home/au472091/venv/lib/python3.12/site-packages/cfgrib/xarray_plugin.py:131: FutureWarning: In a future version of xarray decode_timedelta will default to False rather than None. To silence this warning, set decode_timedelta to True, False, or a 'CFTimedeltaCoder' instance.\n",
      "  vars, attrs, coord_names = xr.conventions.decode_cf_variables(\n",
      "Ignoring index file '/home/au472091/OneDrive/au/projects/pam_bats/analysis/data/weather/windu/era5_windu_2024_08.grib.5b7b6.idx' older than GRIB file\n"
     ]
    },
    {
     "name": "stdout",
     "output_type": "stream",
     "text": [
      "reading era5_windu_2024_08.grib\n"
     ]
    },
    {
     "name": "stderr",
     "output_type": "stream",
     "text": [
      "/home/au472091/venv/lib/python3.12/site-packages/cfgrib/xarray_plugin.py:131: FutureWarning: In a future version of xarray decode_timedelta will default to False rather than None. To silence this warning, set decode_timedelta to True, False, or a 'CFTimedeltaCoder' instance.\n",
      "  vars, attrs, coord_names = xr.conventions.decode_cf_variables(\n",
      "Ignoring index file '/home/au472091/OneDrive/au/projects/pam_bats/analysis/data/weather/windu/era5_windu_2024_09.grib.5b7b6.idx' older than GRIB file\n"
     ]
    },
    {
     "name": "stdout",
     "output_type": "stream",
     "text": [
      "reading era5_windu_2024_09.grib\n"
     ]
    },
    {
     "name": "stderr",
     "output_type": "stream",
     "text": [
      "/home/au472091/venv/lib/python3.12/site-packages/cfgrib/xarray_plugin.py:131: FutureWarning: In a future version of xarray decode_timedelta will default to False rather than None. To silence this warning, set decode_timedelta to True, False, or a 'CFTimedeltaCoder' instance.\n",
      "  vars, attrs, coord_names = xr.conventions.decode_cf_variables(\n",
      "Ignoring index file '/home/au472091/OneDrive/au/projects/pam_bats/analysis/data/weather/windu/era5_windu_2024_10.grib.5b7b6.idx' older than GRIB file\n"
     ]
    },
    {
     "name": "stdout",
     "output_type": "stream",
     "text": [
      "reading era5_windu_2024_10.grib\n"
     ]
    },
    {
     "name": "stderr",
     "output_type": "stream",
     "text": [
      "/home/au472091/venv/lib/python3.12/site-packages/cfgrib/xarray_plugin.py:131: FutureWarning: In a future version of xarray decode_timedelta will default to False rather than None. To silence this warning, set decode_timedelta to True, False, or a 'CFTimedeltaCoder' instance.\n",
      "  vars, attrs, coord_names = xr.conventions.decode_cf_variables(\n",
      "Ignoring index file '/home/au472091/OneDrive/au/projects/pam_bats/analysis/data/weather/windu/era5_windu_2024_11.grib.5b7b6.idx' older than GRIB file\n"
     ]
    },
    {
     "name": "stdout",
     "output_type": "stream",
     "text": [
      "reading era5_windu_2024_11.grib\n"
     ]
    },
    {
     "name": "stderr",
     "output_type": "stream",
     "text": [
      "/home/au472091/venv/lib/python3.12/site-packages/cfgrib/xarray_plugin.py:131: FutureWarning: In a future version of xarray decode_timedelta will default to False rather than None. To silence this warning, set decode_timedelta to True, False, or a 'CFTimedeltaCoder' instance.\n",
      "  vars, attrs, coord_names = xr.conventions.decode_cf_variables(\n"
     ]
    },
    {
     "name": "stdout",
     "output_type": "stream",
     "text": [
      "reading era5_windu_2024_12.grib\n"
     ]
    },
    {
     "name": "stderr",
     "output_type": "stream",
     "text": [
      "/home/au472091/venv/lib/python3.12/site-packages/cfgrib/xarray_plugin.py:131: FutureWarning: In a future version of xarray decode_timedelta will default to False rather than None. To silence this warning, set decode_timedelta to True, False, or a 'CFTimedeltaCoder' instance.\n",
      "  vars, attrs, coord_names = xr.conventions.decode_cf_variables(\n"
     ]
    },
    {
     "name": "stdout",
     "output_type": "stream",
     "text": [
      "reading era5_windu_2025_01.grib\n"
     ]
    },
    {
     "name": "stderr",
     "output_type": "stream",
     "text": [
      "/home/au472091/venv/lib/python3.12/site-packages/cfgrib/xarray_plugin.py:131: FutureWarning: In a future version of xarray decode_timedelta will default to False rather than None. To silence this warning, set decode_timedelta to True, False, or a 'CFTimedeltaCoder' instance.\n",
      "  vars, attrs, coord_names = xr.conventions.decode_cf_variables(\n"
     ]
    },
    {
     "name": "stdout",
     "output_type": "stream",
     "text": [
      "reading era5_windu_2025_02.grib\n"
     ]
    },
    {
     "name": "stderr",
     "output_type": "stream",
     "text": [
      "/home/au472091/venv/lib/python3.12/site-packages/cfgrib/xarray_plugin.py:131: FutureWarning: In a future version of xarray decode_timedelta will default to False rather than None. To silence this warning, set decode_timedelta to True, False, or a 'CFTimedeltaCoder' instance.\n",
      "  vars, attrs, coord_names = xr.conventions.decode_cf_variables(\n"
     ]
    },
    {
     "name": "stdout",
     "output_type": "stream",
     "text": [
      "reading era5_windu_2025_03.grib\n"
     ]
    },
    {
     "name": "stderr",
     "output_type": "stream",
     "text": [
      "/home/au472091/venv/lib/python3.12/site-packages/cfgrib/xarray_plugin.py:131: FutureWarning: In a future version of xarray decode_timedelta will default to False rather than None. To silence this warning, set decode_timedelta to True, False, or a 'CFTimedeltaCoder' instance.\n",
      "  vars, attrs, coord_names = xr.conventions.decode_cf_variables(\n"
     ]
    },
    {
     "name": "stdout",
     "output_type": "stream",
     "text": [
      "reading era5_windu_2025_04.grib\n"
     ]
    },
    {
     "name": "stderr",
     "output_type": "stream",
     "text": [
      "/home/au472091/venv/lib/python3.12/site-packages/cfgrib/xarray_plugin.py:131: FutureWarning: In a future version of xarray decode_timedelta will default to False rather than None. To silence this warning, set decode_timedelta to True, False, or a 'CFTimedeltaCoder' instance.\n",
      "  vars, attrs, coord_names = xr.conventions.decode_cf_variables(\n",
      "Ignoring index file '/home/au472091/OneDrive/au/projects/pam_bats/analysis/data/weather/windv/era5_windv_2023_01.grib.5b7b6.idx' older than GRIB file\n"
     ]
    },
    {
     "name": "stdout",
     "output_type": "stream",
     "text": [
      "reading era5_windv_2023_01.grib\n"
     ]
    },
    {
     "name": "stderr",
     "output_type": "stream",
     "text": [
      "/home/au472091/venv/lib/python3.12/site-packages/cfgrib/xarray_plugin.py:131: FutureWarning: In a future version of xarray decode_timedelta will default to False rather than None. To silence this warning, set decode_timedelta to True, False, or a 'CFTimedeltaCoder' instance.\n",
      "  vars, attrs, coord_names = xr.conventions.decode_cf_variables(\n",
      "/tmp/ipykernel_1620840/3401802185.py:44: FutureWarning: The behavior of DataFrame concatenation with empty or all-NA entries is deprecated. In a future version, this will no longer exclude empty or all-NA columns when determining the result dtypes. To retain the old behavior, exclude the relevant entries before the concat operation.\n",
      "  outdf[count]=pd.concat([outdf[count], out], axis=0, ignore_index=True)\n",
      "/tmp/ipykernel_1620840/3401802185.py:44: FutureWarning: The behavior of DataFrame concatenation with empty or all-NA entries is deprecated. In a future version, this will no longer exclude empty or all-NA columns when determining the result dtypes. To retain the old behavior, exclude the relevant entries before the concat operation.\n",
      "  outdf[count]=pd.concat([outdf[count], out], axis=0, ignore_index=True)\n",
      "/tmp/ipykernel_1620840/3401802185.py:44: FutureWarning: The behavior of DataFrame concatenation with empty or all-NA entries is deprecated. In a future version, this will no longer exclude empty or all-NA columns when determining the result dtypes. To retain the old behavior, exclude the relevant entries before the concat operation.\n",
      "  outdf[count]=pd.concat([outdf[count], out], axis=0, ignore_index=True)\n",
      "/tmp/ipykernel_1620840/3401802185.py:44: FutureWarning: The behavior of DataFrame concatenation with empty or all-NA entries is deprecated. In a future version, this will no longer exclude empty or all-NA columns when determining the result dtypes. To retain the old behavior, exclude the relevant entries before the concat operation.\n",
      "  outdf[count]=pd.concat([outdf[count], out], axis=0, ignore_index=True)\n",
      "/tmp/ipykernel_1620840/3401802185.py:44: FutureWarning: The behavior of DataFrame concatenation with empty or all-NA entries is deprecated. In a future version, this will no longer exclude empty or all-NA columns when determining the result dtypes. To retain the old behavior, exclude the relevant entries before the concat operation.\n",
      "  outdf[count]=pd.concat([outdf[count], out], axis=0, ignore_index=True)\n",
      "/tmp/ipykernel_1620840/3401802185.py:44: FutureWarning: The behavior of DataFrame concatenation with empty or all-NA entries is deprecated. In a future version, this will no longer exclude empty or all-NA columns when determining the result dtypes. To retain the old behavior, exclude the relevant entries before the concat operation.\n",
      "  outdf[count]=pd.concat([outdf[count], out], axis=0, ignore_index=True)\n",
      "/tmp/ipykernel_1620840/3401802185.py:44: FutureWarning: The behavior of DataFrame concatenation with empty or all-NA entries is deprecated. In a future version, this will no longer exclude empty or all-NA columns when determining the result dtypes. To retain the old behavior, exclude the relevant entries before the concat operation.\n",
      "  outdf[count]=pd.concat([outdf[count], out], axis=0, ignore_index=True)\n",
      "/tmp/ipykernel_1620840/3401802185.py:44: FutureWarning: The behavior of DataFrame concatenation with empty or all-NA entries is deprecated. In a future version, this will no longer exclude empty or all-NA columns when determining the result dtypes. To retain the old behavior, exclude the relevant entries before the concat operation.\n",
      "  outdf[count]=pd.concat([outdf[count], out], axis=0, ignore_index=True)\n",
      "/tmp/ipykernel_1620840/3401802185.py:44: FutureWarning: The behavior of DataFrame concatenation with empty or all-NA entries is deprecated. In a future version, this will no longer exclude empty or all-NA columns when determining the result dtypes. To retain the old behavior, exclude the relevant entries before the concat operation.\n",
      "  outdf[count]=pd.concat([outdf[count], out], axis=0, ignore_index=True)\n",
      "/tmp/ipykernel_1620840/3401802185.py:44: FutureWarning: The behavior of DataFrame concatenation with empty or all-NA entries is deprecated. In a future version, this will no longer exclude empty or all-NA columns when determining the result dtypes. To retain the old behavior, exclude the relevant entries before the concat operation.\n",
      "  outdf[count]=pd.concat([outdf[count], out], axis=0, ignore_index=True)\n",
      "/tmp/ipykernel_1620840/3401802185.py:44: FutureWarning: The behavior of DataFrame concatenation with empty or all-NA entries is deprecated. In a future version, this will no longer exclude empty or all-NA columns when determining the result dtypes. To retain the old behavior, exclude the relevant entries before the concat operation.\n",
      "  outdf[count]=pd.concat([outdf[count], out], axis=0, ignore_index=True)\n",
      "/tmp/ipykernel_1620840/3401802185.py:44: FutureWarning: The behavior of DataFrame concatenation with empty or all-NA entries is deprecated. In a future version, this will no longer exclude empty or all-NA columns when determining the result dtypes. To retain the old behavior, exclude the relevant entries before the concat operation.\n",
      "  outdf[count]=pd.concat([outdf[count], out], axis=0, ignore_index=True)\n",
      "/tmp/ipykernel_1620840/3401802185.py:44: FutureWarning: The behavior of DataFrame concatenation with empty or all-NA entries is deprecated. In a future version, this will no longer exclude empty or all-NA columns when determining the result dtypes. To retain the old behavior, exclude the relevant entries before the concat operation.\n",
      "  outdf[count]=pd.concat([outdf[count], out], axis=0, ignore_index=True)\n",
      "/tmp/ipykernel_1620840/3401802185.py:44: FutureWarning: The behavior of DataFrame concatenation with empty or all-NA entries is deprecated. In a future version, this will no longer exclude empty or all-NA columns when determining the result dtypes. To retain the old behavior, exclude the relevant entries before the concat operation.\n",
      "  outdf[count]=pd.concat([outdf[count], out], axis=0, ignore_index=True)\n",
      "/tmp/ipykernel_1620840/3401802185.py:44: FutureWarning: The behavior of DataFrame concatenation with empty or all-NA entries is deprecated. In a future version, this will no longer exclude empty or all-NA columns when determining the result dtypes. To retain the old behavior, exclude the relevant entries before the concat operation.\n",
      "  outdf[count]=pd.concat([outdf[count], out], axis=0, ignore_index=True)\n",
      "/tmp/ipykernel_1620840/3401802185.py:44: FutureWarning: The behavior of DataFrame concatenation with empty or all-NA entries is deprecated. In a future version, this will no longer exclude empty or all-NA columns when determining the result dtypes. To retain the old behavior, exclude the relevant entries before the concat operation.\n",
      "  outdf[count]=pd.concat([outdf[count], out], axis=0, ignore_index=True)\n",
      "/tmp/ipykernel_1620840/3401802185.py:44: FutureWarning: The behavior of DataFrame concatenation with empty or all-NA entries is deprecated. In a future version, this will no longer exclude empty or all-NA columns when determining the result dtypes. To retain the old behavior, exclude the relevant entries before the concat operation.\n",
      "  outdf[count]=pd.concat([outdf[count], out], axis=0, ignore_index=True)\n",
      "/tmp/ipykernel_1620840/3401802185.py:44: FutureWarning: The behavior of DataFrame concatenation with empty or all-NA entries is deprecated. In a future version, this will no longer exclude empty or all-NA columns when determining the result dtypes. To retain the old behavior, exclude the relevant entries before the concat operation.\n",
      "  outdf[count]=pd.concat([outdf[count], out], axis=0, ignore_index=True)\n",
      "/tmp/ipykernel_1620840/3401802185.py:44: FutureWarning: The behavior of DataFrame concatenation with empty or all-NA entries is deprecated. In a future version, this will no longer exclude empty or all-NA columns when determining the result dtypes. To retain the old behavior, exclude the relevant entries before the concat operation.\n",
      "  outdf[count]=pd.concat([outdf[count], out], axis=0, ignore_index=True)\n",
      "/tmp/ipykernel_1620840/3401802185.py:44: FutureWarning: The behavior of DataFrame concatenation with empty or all-NA entries is deprecated. In a future version, this will no longer exclude empty or all-NA columns when determining the result dtypes. To retain the old behavior, exclude the relevant entries before the concat operation.\n",
      "  outdf[count]=pd.concat([outdf[count], out], axis=0, ignore_index=True)\n",
      "/tmp/ipykernel_1620840/3401802185.py:44: FutureWarning: The behavior of DataFrame concatenation with empty or all-NA entries is deprecated. In a future version, this will no longer exclude empty or all-NA columns when determining the result dtypes. To retain the old behavior, exclude the relevant entries before the concat operation.\n",
      "  outdf[count]=pd.concat([outdf[count], out], axis=0, ignore_index=True)\n",
      "/tmp/ipykernel_1620840/3401802185.py:44: FutureWarning: The behavior of DataFrame concatenation with empty or all-NA entries is deprecated. In a future version, this will no longer exclude empty or all-NA columns when determining the result dtypes. To retain the old behavior, exclude the relevant entries before the concat operation.\n",
      "  outdf[count]=pd.concat([outdf[count], out], axis=0, ignore_index=True)\n",
      "/tmp/ipykernel_1620840/3401802185.py:44: FutureWarning: The behavior of DataFrame concatenation with empty or all-NA entries is deprecated. In a future version, this will no longer exclude empty or all-NA columns when determining the result dtypes. To retain the old behavior, exclude the relevant entries before the concat operation.\n",
      "  outdf[count]=pd.concat([outdf[count], out], axis=0, ignore_index=True)\n",
      "/tmp/ipykernel_1620840/3401802185.py:44: FutureWarning: The behavior of DataFrame concatenation with empty or all-NA entries is deprecated. In a future version, this will no longer exclude empty or all-NA columns when determining the result dtypes. To retain the old behavior, exclude the relevant entries before the concat operation.\n",
      "  outdf[count]=pd.concat([outdf[count], out], axis=0, ignore_index=True)\n",
      "/tmp/ipykernel_1620840/3401802185.py:44: FutureWarning: The behavior of DataFrame concatenation with empty or all-NA entries is deprecated. In a future version, this will no longer exclude empty or all-NA columns when determining the result dtypes. To retain the old behavior, exclude the relevant entries before the concat operation.\n",
      "  outdf[count]=pd.concat([outdf[count], out], axis=0, ignore_index=True)\n",
      "/tmp/ipykernel_1620840/3401802185.py:44: FutureWarning: The behavior of DataFrame concatenation with empty or all-NA entries is deprecated. In a future version, this will no longer exclude empty or all-NA columns when determining the result dtypes. To retain the old behavior, exclude the relevant entries before the concat operation.\n",
      "  outdf[count]=pd.concat([outdf[count], out], axis=0, ignore_index=True)\n",
      "/tmp/ipykernel_1620840/3401802185.py:44: FutureWarning: The behavior of DataFrame concatenation with empty or all-NA entries is deprecated. In a future version, this will no longer exclude empty or all-NA columns when determining the result dtypes. To retain the old behavior, exclude the relevant entries before the concat operation.\n",
      "  outdf[count]=pd.concat([outdf[count], out], axis=0, ignore_index=True)\n",
      "/tmp/ipykernel_1620840/3401802185.py:44: FutureWarning: The behavior of DataFrame concatenation with empty or all-NA entries is deprecated. In a future version, this will no longer exclude empty or all-NA columns when determining the result dtypes. To retain the old behavior, exclude the relevant entries before the concat operation.\n",
      "  outdf[count]=pd.concat([outdf[count], out], axis=0, ignore_index=True)\n",
      "/tmp/ipykernel_1620840/3401802185.py:44: FutureWarning: The behavior of DataFrame concatenation with empty or all-NA entries is deprecated. In a future version, this will no longer exclude empty or all-NA columns when determining the result dtypes. To retain the old behavior, exclude the relevant entries before the concat operation.\n",
      "  outdf[count]=pd.concat([outdf[count], out], axis=0, ignore_index=True)\n",
      "/tmp/ipykernel_1620840/3401802185.py:44: FutureWarning: The behavior of DataFrame concatenation with empty or all-NA entries is deprecated. In a future version, this will no longer exclude empty or all-NA columns when determining the result dtypes. To retain the old behavior, exclude the relevant entries before the concat operation.\n",
      "  outdf[count]=pd.concat([outdf[count], out], axis=0, ignore_index=True)\n",
      "/tmp/ipykernel_1620840/3401802185.py:44: FutureWarning: The behavior of DataFrame concatenation with empty or all-NA entries is deprecated. In a future version, this will no longer exclude empty or all-NA columns when determining the result dtypes. To retain the old behavior, exclude the relevant entries before the concat operation.\n",
      "  outdf[count]=pd.concat([outdf[count], out], axis=0, ignore_index=True)\n",
      "/tmp/ipykernel_1620840/3401802185.py:44: FutureWarning: The behavior of DataFrame concatenation with empty or all-NA entries is deprecated. In a future version, this will no longer exclude empty or all-NA columns when determining the result dtypes. To retain the old behavior, exclude the relevant entries before the concat operation.\n",
      "  outdf[count]=pd.concat([outdf[count], out], axis=0, ignore_index=True)\n",
      "/tmp/ipykernel_1620840/3401802185.py:44: FutureWarning: The behavior of DataFrame concatenation with empty or all-NA entries is deprecated. In a future version, this will no longer exclude empty or all-NA columns when determining the result dtypes. To retain the old behavior, exclude the relevant entries before the concat operation.\n",
      "  outdf[count]=pd.concat([outdf[count], out], axis=0, ignore_index=True)\n",
      "/tmp/ipykernel_1620840/3401802185.py:44: FutureWarning: The behavior of DataFrame concatenation with empty or all-NA entries is deprecated. In a future version, this will no longer exclude empty or all-NA columns when determining the result dtypes. To retain the old behavior, exclude the relevant entries before the concat operation.\n",
      "  outdf[count]=pd.concat([outdf[count], out], axis=0, ignore_index=True)\n",
      "/tmp/ipykernel_1620840/3401802185.py:44: FutureWarning: The behavior of DataFrame concatenation with empty or all-NA entries is deprecated. In a future version, this will no longer exclude empty or all-NA columns when determining the result dtypes. To retain the old behavior, exclude the relevant entries before the concat operation.\n",
      "  outdf[count]=pd.concat([outdf[count], out], axis=0, ignore_index=True)\n",
      "/tmp/ipykernel_1620840/3401802185.py:44: FutureWarning: The behavior of DataFrame concatenation with empty or all-NA entries is deprecated. In a future version, this will no longer exclude empty or all-NA columns when determining the result dtypes. To retain the old behavior, exclude the relevant entries before the concat operation.\n",
      "  outdf[count]=pd.concat([outdf[count], out], axis=0, ignore_index=True)\n",
      "/tmp/ipykernel_1620840/3401802185.py:44: FutureWarning: The behavior of DataFrame concatenation with empty or all-NA entries is deprecated. In a future version, this will no longer exclude empty or all-NA columns when determining the result dtypes. To retain the old behavior, exclude the relevant entries before the concat operation.\n",
      "  outdf[count]=pd.concat([outdf[count], out], axis=0, ignore_index=True)\n",
      "/tmp/ipykernel_1620840/3401802185.py:44: FutureWarning: The behavior of DataFrame concatenation with empty or all-NA entries is deprecated. In a future version, this will no longer exclude empty or all-NA columns when determining the result dtypes. To retain the old behavior, exclude the relevant entries before the concat operation.\n",
      "  outdf[count]=pd.concat([outdf[count], out], axis=0, ignore_index=True)\n",
      "/tmp/ipykernel_1620840/3401802185.py:44: FutureWarning: The behavior of DataFrame concatenation with empty or all-NA entries is deprecated. In a future version, this will no longer exclude empty or all-NA columns when determining the result dtypes. To retain the old behavior, exclude the relevant entries before the concat operation.\n",
      "  outdf[count]=pd.concat([outdf[count], out], axis=0, ignore_index=True)\n",
      "/tmp/ipykernel_1620840/3401802185.py:44: FutureWarning: The behavior of DataFrame concatenation with empty or all-NA entries is deprecated. In a future version, this will no longer exclude empty or all-NA columns when determining the result dtypes. To retain the old behavior, exclude the relevant entries before the concat operation.\n",
      "  outdf[count]=pd.concat([outdf[count], out], axis=0, ignore_index=True)\n",
      "/tmp/ipykernel_1620840/3401802185.py:44: FutureWarning: The behavior of DataFrame concatenation with empty or all-NA entries is deprecated. In a future version, this will no longer exclude empty or all-NA columns when determining the result dtypes. To retain the old behavior, exclude the relevant entries before the concat operation.\n",
      "  outdf[count]=pd.concat([outdf[count], out], axis=0, ignore_index=True)\n",
      "/tmp/ipykernel_1620840/3401802185.py:44: FutureWarning: The behavior of DataFrame concatenation with empty or all-NA entries is deprecated. In a future version, this will no longer exclude empty or all-NA columns when determining the result dtypes. To retain the old behavior, exclude the relevant entries before the concat operation.\n",
      "  outdf[count]=pd.concat([outdf[count], out], axis=0, ignore_index=True)\n",
      "/tmp/ipykernel_1620840/3401802185.py:44: FutureWarning: The behavior of DataFrame concatenation with empty or all-NA entries is deprecated. In a future version, this will no longer exclude empty or all-NA columns when determining the result dtypes. To retain the old behavior, exclude the relevant entries before the concat operation.\n",
      "  outdf[count]=pd.concat([outdf[count], out], axis=0, ignore_index=True)\n",
      "/tmp/ipykernel_1620840/3401802185.py:44: FutureWarning: The behavior of DataFrame concatenation with empty or all-NA entries is deprecated. In a future version, this will no longer exclude empty or all-NA columns when determining the result dtypes. To retain the old behavior, exclude the relevant entries before the concat operation.\n",
      "  outdf[count]=pd.concat([outdf[count], out], axis=0, ignore_index=True)\n",
      "/tmp/ipykernel_1620840/3401802185.py:44: FutureWarning: The behavior of DataFrame concatenation with empty or all-NA entries is deprecated. In a future version, this will no longer exclude empty or all-NA columns when determining the result dtypes. To retain the old behavior, exclude the relevant entries before the concat operation.\n",
      "  outdf[count]=pd.concat([outdf[count], out], axis=0, ignore_index=True)\n",
      "/tmp/ipykernel_1620840/3401802185.py:44: FutureWarning: The behavior of DataFrame concatenation with empty or all-NA entries is deprecated. In a future version, this will no longer exclude empty or all-NA columns when determining the result dtypes. To retain the old behavior, exclude the relevant entries before the concat operation.\n",
      "  outdf[count]=pd.concat([outdf[count], out], axis=0, ignore_index=True)\n",
      "/tmp/ipykernel_1620840/3401802185.py:44: FutureWarning: The behavior of DataFrame concatenation with empty or all-NA entries is deprecated. In a future version, this will no longer exclude empty or all-NA columns when determining the result dtypes. To retain the old behavior, exclude the relevant entries before the concat operation.\n",
      "  outdf[count]=pd.concat([outdf[count], out], axis=0, ignore_index=True)\n",
      "/tmp/ipykernel_1620840/3401802185.py:44: FutureWarning: The behavior of DataFrame concatenation with empty or all-NA entries is deprecated. In a future version, this will no longer exclude empty or all-NA columns when determining the result dtypes. To retain the old behavior, exclude the relevant entries before the concat operation.\n",
      "  outdf[count]=pd.concat([outdf[count], out], axis=0, ignore_index=True)\n",
      "/tmp/ipykernel_1620840/3401802185.py:44: FutureWarning: The behavior of DataFrame concatenation with empty or all-NA entries is deprecated. In a future version, this will no longer exclude empty or all-NA columns when determining the result dtypes. To retain the old behavior, exclude the relevant entries before the concat operation.\n",
      "  outdf[count]=pd.concat([outdf[count], out], axis=0, ignore_index=True)\n",
      "/tmp/ipykernel_1620840/3401802185.py:44: FutureWarning: The behavior of DataFrame concatenation with empty or all-NA entries is deprecated. In a future version, this will no longer exclude empty or all-NA columns when determining the result dtypes. To retain the old behavior, exclude the relevant entries before the concat operation.\n",
      "  outdf[count]=pd.concat([outdf[count], out], axis=0, ignore_index=True)\n",
      "/tmp/ipykernel_1620840/3401802185.py:44: FutureWarning: The behavior of DataFrame concatenation with empty or all-NA entries is deprecated. In a future version, this will no longer exclude empty or all-NA columns when determining the result dtypes. To retain the old behavior, exclude the relevant entries before the concat operation.\n",
      "  outdf[count]=pd.concat([outdf[count], out], axis=0, ignore_index=True)\n",
      "/tmp/ipykernel_1620840/3401802185.py:44: FutureWarning: The behavior of DataFrame concatenation with empty or all-NA entries is deprecated. In a future version, this will no longer exclude empty or all-NA columns when determining the result dtypes. To retain the old behavior, exclude the relevant entries before the concat operation.\n",
      "  outdf[count]=pd.concat([outdf[count], out], axis=0, ignore_index=True)\n",
      "/tmp/ipykernel_1620840/3401802185.py:44: FutureWarning: The behavior of DataFrame concatenation with empty or all-NA entries is deprecated. In a future version, this will no longer exclude empty or all-NA columns when determining the result dtypes. To retain the old behavior, exclude the relevant entries before the concat operation.\n",
      "  outdf[count]=pd.concat([outdf[count], out], axis=0, ignore_index=True)\n",
      "/tmp/ipykernel_1620840/3401802185.py:44: FutureWarning: The behavior of DataFrame concatenation with empty or all-NA entries is deprecated. In a future version, this will no longer exclude empty or all-NA columns when determining the result dtypes. To retain the old behavior, exclude the relevant entries before the concat operation.\n",
      "  outdf[count]=pd.concat([outdf[count], out], axis=0, ignore_index=True)\n",
      "/tmp/ipykernel_1620840/3401802185.py:44: FutureWarning: The behavior of DataFrame concatenation with empty or all-NA entries is deprecated. In a future version, this will no longer exclude empty or all-NA columns when determining the result dtypes. To retain the old behavior, exclude the relevant entries before the concat operation.\n",
      "  outdf[count]=pd.concat([outdf[count], out], axis=0, ignore_index=True)\n",
      "/tmp/ipykernel_1620840/3401802185.py:44: FutureWarning: The behavior of DataFrame concatenation with empty or all-NA entries is deprecated. In a future version, this will no longer exclude empty or all-NA columns when determining the result dtypes. To retain the old behavior, exclude the relevant entries before the concat operation.\n",
      "  outdf[count]=pd.concat([outdf[count], out], axis=0, ignore_index=True)\n",
      "/tmp/ipykernel_1620840/3401802185.py:44: FutureWarning: The behavior of DataFrame concatenation with empty or all-NA entries is deprecated. In a future version, this will no longer exclude empty or all-NA columns when determining the result dtypes. To retain the old behavior, exclude the relevant entries before the concat operation.\n",
      "  outdf[count]=pd.concat([outdf[count], out], axis=0, ignore_index=True)\n",
      "Ignoring index file '/home/au472091/OneDrive/au/projects/pam_bats/analysis/data/weather/windv/era5_windv_2023_02.grib.5b7b6.idx' older than GRIB file\n"
     ]
    },
    {
     "name": "stdout",
     "output_type": "stream",
     "text": [
      "reading era5_windv_2023_02.grib\n"
     ]
    },
    {
     "name": "stderr",
     "output_type": "stream",
     "text": [
      "/home/au472091/venv/lib/python3.12/site-packages/cfgrib/xarray_plugin.py:131: FutureWarning: In a future version of xarray decode_timedelta will default to False rather than None. To silence this warning, set decode_timedelta to True, False, or a 'CFTimedeltaCoder' instance.\n",
      "  vars, attrs, coord_names = xr.conventions.decode_cf_variables(\n",
      "Ignoring index file '/home/au472091/OneDrive/au/projects/pam_bats/analysis/data/weather/windv/era5_windv_2023_03.grib.5b7b6.idx' older than GRIB file\n"
     ]
    },
    {
     "name": "stdout",
     "output_type": "stream",
     "text": [
      "reading era5_windv_2023_03.grib\n"
     ]
    },
    {
     "name": "stderr",
     "output_type": "stream",
     "text": [
      "/home/au472091/venv/lib/python3.12/site-packages/cfgrib/xarray_plugin.py:131: FutureWarning: In a future version of xarray decode_timedelta will default to False rather than None. To silence this warning, set decode_timedelta to True, False, or a 'CFTimedeltaCoder' instance.\n",
      "  vars, attrs, coord_names = xr.conventions.decode_cf_variables(\n",
      "Ignoring index file '/home/au472091/OneDrive/au/projects/pam_bats/analysis/data/weather/windv/era5_windv_2023_04.grib.5b7b6.idx' older than GRIB file\n"
     ]
    },
    {
     "name": "stdout",
     "output_type": "stream",
     "text": [
      "reading era5_windv_2023_04.grib\n"
     ]
    },
    {
     "name": "stderr",
     "output_type": "stream",
     "text": [
      "/home/au472091/venv/lib/python3.12/site-packages/cfgrib/xarray_plugin.py:131: FutureWarning: In a future version of xarray decode_timedelta will default to False rather than None. To silence this warning, set decode_timedelta to True, False, or a 'CFTimedeltaCoder' instance.\n",
      "  vars, attrs, coord_names = xr.conventions.decode_cf_variables(\n",
      "Ignoring index file '/home/au472091/OneDrive/au/projects/pam_bats/analysis/data/weather/windv/era5_windv_2023_05.grib.5b7b6.idx' older than GRIB file\n"
     ]
    },
    {
     "name": "stdout",
     "output_type": "stream",
     "text": [
      "reading era5_windv_2023_05.grib\n"
     ]
    },
    {
     "name": "stderr",
     "output_type": "stream",
     "text": [
      "/home/au472091/venv/lib/python3.12/site-packages/cfgrib/xarray_plugin.py:131: FutureWarning: In a future version of xarray decode_timedelta will default to False rather than None. To silence this warning, set decode_timedelta to True, False, or a 'CFTimedeltaCoder' instance.\n",
      "  vars, attrs, coord_names = xr.conventions.decode_cf_variables(\n",
      "Ignoring index file '/home/au472091/OneDrive/au/projects/pam_bats/analysis/data/weather/windv/era5_windv_2023_06.grib.5b7b6.idx' older than GRIB file\n"
     ]
    },
    {
     "name": "stdout",
     "output_type": "stream",
     "text": [
      "reading era5_windv_2023_06.grib\n"
     ]
    },
    {
     "name": "stderr",
     "output_type": "stream",
     "text": [
      "/home/au472091/venv/lib/python3.12/site-packages/cfgrib/xarray_plugin.py:131: FutureWarning: In a future version of xarray decode_timedelta will default to False rather than None. To silence this warning, set decode_timedelta to True, False, or a 'CFTimedeltaCoder' instance.\n",
      "  vars, attrs, coord_names = xr.conventions.decode_cf_variables(\n",
      "Ignoring index file '/home/au472091/OneDrive/au/projects/pam_bats/analysis/data/weather/windv/era5_windv_2023_07.grib.5b7b6.idx' older than GRIB file\n"
     ]
    },
    {
     "name": "stdout",
     "output_type": "stream",
     "text": [
      "reading era5_windv_2023_07.grib\n"
     ]
    },
    {
     "name": "stderr",
     "output_type": "stream",
     "text": [
      "/home/au472091/venv/lib/python3.12/site-packages/cfgrib/xarray_plugin.py:131: FutureWarning: In a future version of xarray decode_timedelta will default to False rather than None. To silence this warning, set decode_timedelta to True, False, or a 'CFTimedeltaCoder' instance.\n",
      "  vars, attrs, coord_names = xr.conventions.decode_cf_variables(\n",
      "Ignoring index file '/home/au472091/OneDrive/au/projects/pam_bats/analysis/data/weather/windv/era5_windv_2023_08.grib.5b7b6.idx' older than GRIB file\n"
     ]
    },
    {
     "name": "stdout",
     "output_type": "stream",
     "text": [
      "reading era5_windv_2023_08.grib\n"
     ]
    },
    {
     "name": "stderr",
     "output_type": "stream",
     "text": [
      "/home/au472091/venv/lib/python3.12/site-packages/cfgrib/xarray_plugin.py:131: FutureWarning: In a future version of xarray decode_timedelta will default to False rather than None. To silence this warning, set decode_timedelta to True, False, or a 'CFTimedeltaCoder' instance.\n",
      "  vars, attrs, coord_names = xr.conventions.decode_cf_variables(\n",
      "Ignoring index file '/home/au472091/OneDrive/au/projects/pam_bats/analysis/data/weather/windv/era5_windv_2023_09.grib.5b7b6.idx' older than GRIB file\n"
     ]
    },
    {
     "name": "stdout",
     "output_type": "stream",
     "text": [
      "reading era5_windv_2023_09.grib\n"
     ]
    },
    {
     "name": "stderr",
     "output_type": "stream",
     "text": [
      "/home/au472091/venv/lib/python3.12/site-packages/cfgrib/xarray_plugin.py:131: FutureWarning: In a future version of xarray decode_timedelta will default to False rather than None. To silence this warning, set decode_timedelta to True, False, or a 'CFTimedeltaCoder' instance.\n",
      "  vars, attrs, coord_names = xr.conventions.decode_cf_variables(\n",
      "Ignoring index file '/home/au472091/OneDrive/au/projects/pam_bats/analysis/data/weather/windv/era5_windv_2023_10.grib.5b7b6.idx' older than GRIB file\n"
     ]
    },
    {
     "name": "stdout",
     "output_type": "stream",
     "text": [
      "reading era5_windv_2023_10.grib\n"
     ]
    },
    {
     "name": "stderr",
     "output_type": "stream",
     "text": [
      "/home/au472091/venv/lib/python3.12/site-packages/cfgrib/xarray_plugin.py:131: FutureWarning: In a future version of xarray decode_timedelta will default to False rather than None. To silence this warning, set decode_timedelta to True, False, or a 'CFTimedeltaCoder' instance.\n",
      "  vars, attrs, coord_names = xr.conventions.decode_cf_variables(\n",
      "Ignoring index file '/home/au472091/OneDrive/au/projects/pam_bats/analysis/data/weather/windv/era5_windv_2023_11.grib.5b7b6.idx' older than GRIB file\n"
     ]
    },
    {
     "name": "stdout",
     "output_type": "stream",
     "text": [
      "reading era5_windv_2023_11.grib\n"
     ]
    },
    {
     "name": "stderr",
     "output_type": "stream",
     "text": [
      "/home/au472091/venv/lib/python3.12/site-packages/cfgrib/xarray_plugin.py:131: FutureWarning: In a future version of xarray decode_timedelta will default to False rather than None. To silence this warning, set decode_timedelta to True, False, or a 'CFTimedeltaCoder' instance.\n",
      "  vars, attrs, coord_names = xr.conventions.decode_cf_variables(\n",
      "Ignoring index file '/home/au472091/OneDrive/au/projects/pam_bats/analysis/data/weather/windv/era5_windv_2023_12.grib.5b7b6.idx' older than GRIB file\n"
     ]
    },
    {
     "name": "stdout",
     "output_type": "stream",
     "text": [
      "reading era5_windv_2023_12.grib\n"
     ]
    },
    {
     "name": "stderr",
     "output_type": "stream",
     "text": [
      "/home/au472091/venv/lib/python3.12/site-packages/cfgrib/xarray_plugin.py:131: FutureWarning: In a future version of xarray decode_timedelta will default to False rather than None. To silence this warning, set decode_timedelta to True, False, or a 'CFTimedeltaCoder' instance.\n",
      "  vars, attrs, coord_names = xr.conventions.decode_cf_variables(\n",
      "Ignoring index file '/home/au472091/OneDrive/au/projects/pam_bats/analysis/data/weather/windv/era5_windv_2024_01.grib.5b7b6.idx' older than GRIB file\n"
     ]
    },
    {
     "name": "stdout",
     "output_type": "stream",
     "text": [
      "reading era5_windv_2024_01.grib\n"
     ]
    },
    {
     "name": "stderr",
     "output_type": "stream",
     "text": [
      "/home/au472091/venv/lib/python3.12/site-packages/cfgrib/xarray_plugin.py:131: FutureWarning: In a future version of xarray decode_timedelta will default to False rather than None. To silence this warning, set decode_timedelta to True, False, or a 'CFTimedeltaCoder' instance.\n",
      "  vars, attrs, coord_names = xr.conventions.decode_cf_variables(\n",
      "Ignoring index file '/home/au472091/OneDrive/au/projects/pam_bats/analysis/data/weather/windv/era5_windv_2024_02.grib.5b7b6.idx' older than GRIB file\n"
     ]
    },
    {
     "name": "stdout",
     "output_type": "stream",
     "text": [
      "reading era5_windv_2024_02.grib\n"
     ]
    },
    {
     "name": "stderr",
     "output_type": "stream",
     "text": [
      "/home/au472091/venv/lib/python3.12/site-packages/cfgrib/xarray_plugin.py:131: FutureWarning: In a future version of xarray decode_timedelta will default to False rather than None. To silence this warning, set decode_timedelta to True, False, or a 'CFTimedeltaCoder' instance.\n",
      "  vars, attrs, coord_names = xr.conventions.decode_cf_variables(\n",
      "Ignoring index file '/home/au472091/OneDrive/au/projects/pam_bats/analysis/data/weather/windv/era5_windv_2024_03.grib.5b7b6.idx' older than GRIB file\n"
     ]
    },
    {
     "name": "stdout",
     "output_type": "stream",
     "text": [
      "reading era5_windv_2024_03.grib\n"
     ]
    },
    {
     "name": "stderr",
     "output_type": "stream",
     "text": [
      "/home/au472091/venv/lib/python3.12/site-packages/cfgrib/xarray_plugin.py:131: FutureWarning: In a future version of xarray decode_timedelta will default to False rather than None. To silence this warning, set decode_timedelta to True, False, or a 'CFTimedeltaCoder' instance.\n",
      "  vars, attrs, coord_names = xr.conventions.decode_cf_variables(\n",
      "Ignoring index file '/home/au472091/OneDrive/au/projects/pam_bats/analysis/data/weather/windv/era5_windv_2024_04.grib.5b7b6.idx' older than GRIB file\n"
     ]
    },
    {
     "name": "stdout",
     "output_type": "stream",
     "text": [
      "reading era5_windv_2024_04.grib\n"
     ]
    },
    {
     "name": "stderr",
     "output_type": "stream",
     "text": [
      "/home/au472091/venv/lib/python3.12/site-packages/cfgrib/xarray_plugin.py:131: FutureWarning: In a future version of xarray decode_timedelta will default to False rather than None. To silence this warning, set decode_timedelta to True, False, or a 'CFTimedeltaCoder' instance.\n",
      "  vars, attrs, coord_names = xr.conventions.decode_cf_variables(\n",
      "Ignoring index file '/home/au472091/OneDrive/au/projects/pam_bats/analysis/data/weather/windv/era5_windv_2024_05.grib.5b7b6.idx' older than GRIB file\n"
     ]
    },
    {
     "name": "stdout",
     "output_type": "stream",
     "text": [
      "reading era5_windv_2024_05.grib\n"
     ]
    },
    {
     "name": "stderr",
     "output_type": "stream",
     "text": [
      "/home/au472091/venv/lib/python3.12/site-packages/cfgrib/xarray_plugin.py:131: FutureWarning: In a future version of xarray decode_timedelta will default to False rather than None. To silence this warning, set decode_timedelta to True, False, or a 'CFTimedeltaCoder' instance.\n",
      "  vars, attrs, coord_names = xr.conventions.decode_cf_variables(\n",
      "Ignoring index file '/home/au472091/OneDrive/au/projects/pam_bats/analysis/data/weather/windv/era5_windv_2024_06.grib.5b7b6.idx' older than GRIB file\n"
     ]
    },
    {
     "name": "stdout",
     "output_type": "stream",
     "text": [
      "reading era5_windv_2024_06.grib\n"
     ]
    },
    {
     "name": "stderr",
     "output_type": "stream",
     "text": [
      "/home/au472091/venv/lib/python3.12/site-packages/cfgrib/xarray_plugin.py:131: FutureWarning: In a future version of xarray decode_timedelta will default to False rather than None. To silence this warning, set decode_timedelta to True, False, or a 'CFTimedeltaCoder' instance.\n",
      "  vars, attrs, coord_names = xr.conventions.decode_cf_variables(\n",
      "Ignoring index file '/home/au472091/OneDrive/au/projects/pam_bats/analysis/data/weather/windv/era5_windv_2024_07.grib.5b7b6.idx' older than GRIB file\n"
     ]
    },
    {
     "name": "stdout",
     "output_type": "stream",
     "text": [
      "reading era5_windv_2024_07.grib\n"
     ]
    },
    {
     "name": "stderr",
     "output_type": "stream",
     "text": [
      "/home/au472091/venv/lib/python3.12/site-packages/cfgrib/xarray_plugin.py:131: FutureWarning: In a future version of xarray decode_timedelta will default to False rather than None. To silence this warning, set decode_timedelta to True, False, or a 'CFTimedeltaCoder' instance.\n",
      "  vars, attrs, coord_names = xr.conventions.decode_cf_variables(\n",
      "Ignoring index file '/home/au472091/OneDrive/au/projects/pam_bats/analysis/data/weather/windv/era5_windv_2024_08.grib.5b7b6.idx' older than GRIB file\n"
     ]
    },
    {
     "name": "stdout",
     "output_type": "stream",
     "text": [
      "reading era5_windv_2024_08.grib\n"
     ]
    },
    {
     "name": "stderr",
     "output_type": "stream",
     "text": [
      "/home/au472091/venv/lib/python3.12/site-packages/cfgrib/xarray_plugin.py:131: FutureWarning: In a future version of xarray decode_timedelta will default to False rather than None. To silence this warning, set decode_timedelta to True, False, or a 'CFTimedeltaCoder' instance.\n",
      "  vars, attrs, coord_names = xr.conventions.decode_cf_variables(\n",
      "Ignoring index file '/home/au472091/OneDrive/au/projects/pam_bats/analysis/data/weather/windv/era5_windv_2024_09.grib.5b7b6.idx' older than GRIB file\n"
     ]
    },
    {
     "name": "stdout",
     "output_type": "stream",
     "text": [
      "reading era5_windv_2024_09.grib\n"
     ]
    },
    {
     "name": "stderr",
     "output_type": "stream",
     "text": [
      "/home/au472091/venv/lib/python3.12/site-packages/cfgrib/xarray_plugin.py:131: FutureWarning: In a future version of xarray decode_timedelta will default to False rather than None. To silence this warning, set decode_timedelta to True, False, or a 'CFTimedeltaCoder' instance.\n",
      "  vars, attrs, coord_names = xr.conventions.decode_cf_variables(\n",
      "Ignoring index file '/home/au472091/OneDrive/au/projects/pam_bats/analysis/data/weather/windv/era5_windv_2024_10.grib.5b7b6.idx' older than GRIB file\n"
     ]
    },
    {
     "name": "stdout",
     "output_type": "stream",
     "text": [
      "reading era5_windv_2024_10.grib\n"
     ]
    },
    {
     "name": "stderr",
     "output_type": "stream",
     "text": [
      "/home/au472091/venv/lib/python3.12/site-packages/cfgrib/xarray_plugin.py:131: FutureWarning: In a future version of xarray decode_timedelta will default to False rather than None. To silence this warning, set decode_timedelta to True, False, or a 'CFTimedeltaCoder' instance.\n",
      "  vars, attrs, coord_names = xr.conventions.decode_cf_variables(\n",
      "Ignoring index file '/home/au472091/OneDrive/au/projects/pam_bats/analysis/data/weather/windv/era5_windv_2024_11.grib.5b7b6.idx' older than GRIB file\n"
     ]
    },
    {
     "name": "stdout",
     "output_type": "stream",
     "text": [
      "reading era5_windv_2024_11.grib\n"
     ]
    },
    {
     "name": "stderr",
     "output_type": "stream",
     "text": [
      "/home/au472091/venv/lib/python3.12/site-packages/cfgrib/xarray_plugin.py:131: FutureWarning: In a future version of xarray decode_timedelta will default to False rather than None. To silence this warning, set decode_timedelta to True, False, or a 'CFTimedeltaCoder' instance.\n",
      "  vars, attrs, coord_names = xr.conventions.decode_cf_variables(\n"
     ]
    },
    {
     "name": "stdout",
     "output_type": "stream",
     "text": [
      "reading era5_windv_2024_12.grib\n"
     ]
    },
    {
     "name": "stderr",
     "output_type": "stream",
     "text": [
      "/home/au472091/venv/lib/python3.12/site-packages/cfgrib/xarray_plugin.py:131: FutureWarning: In a future version of xarray decode_timedelta will default to False rather than None. To silence this warning, set decode_timedelta to True, False, or a 'CFTimedeltaCoder' instance.\n",
      "  vars, attrs, coord_names = xr.conventions.decode_cf_variables(\n"
     ]
    },
    {
     "name": "stdout",
     "output_type": "stream",
     "text": [
      "reading era5_windv_2025_01.grib\n"
     ]
    },
    {
     "name": "stderr",
     "output_type": "stream",
     "text": [
      "/home/au472091/venv/lib/python3.12/site-packages/cfgrib/xarray_plugin.py:131: FutureWarning: In a future version of xarray decode_timedelta will default to False rather than None. To silence this warning, set decode_timedelta to True, False, or a 'CFTimedeltaCoder' instance.\n",
      "  vars, attrs, coord_names = xr.conventions.decode_cf_variables(\n"
     ]
    },
    {
     "name": "stdout",
     "output_type": "stream",
     "text": [
      "reading era5_windv_2025_02.grib\n"
     ]
    },
    {
     "name": "stderr",
     "output_type": "stream",
     "text": [
      "/home/au472091/venv/lib/python3.12/site-packages/cfgrib/xarray_plugin.py:131: FutureWarning: In a future version of xarray decode_timedelta will default to False rather than None. To silence this warning, set decode_timedelta to True, False, or a 'CFTimedeltaCoder' instance.\n",
      "  vars, attrs, coord_names = xr.conventions.decode_cf_variables(\n"
     ]
    },
    {
     "name": "stdout",
     "output_type": "stream",
     "text": [
      "reading era5_windv_2025_03.grib\n"
     ]
    },
    {
     "name": "stderr",
     "output_type": "stream",
     "text": [
      "/home/au472091/venv/lib/python3.12/site-packages/cfgrib/xarray_plugin.py:131: FutureWarning: In a future version of xarray decode_timedelta will default to False rather than None. To silence this warning, set decode_timedelta to True, False, or a 'CFTimedeltaCoder' instance.\n",
      "  vars, attrs, coord_names = xr.conventions.decode_cf_variables(\n"
     ]
    },
    {
     "name": "stdout",
     "output_type": "stream",
     "text": [
      "reading era5_windv_2025_04.grib\n"
     ]
    },
    {
     "name": "stderr",
     "output_type": "stream",
     "text": [
      "/home/au472091/venv/lib/python3.12/site-packages/cfgrib/xarray_plugin.py:131: FutureWarning: In a future version of xarray decode_timedelta will default to False rather than None. To silence this warning, set decode_timedelta to True, False, or a 'CFTimedeltaCoder' instance.\n",
      "  vars, attrs, coord_names = xr.conventions.decode_cf_variables(\n",
      "Ignoring index file '/home/au472091/OneDrive/au/projects/pam_bats/analysis/data/weather/precip/era5_precip_2023_01.grib.5b7b6.idx' older than GRIB file\n"
     ]
    },
    {
     "name": "stdout",
     "output_type": "stream",
     "text": [
      "reading era5_precip_2023_01.grib\n"
     ]
    },
    {
     "name": "stderr",
     "output_type": "stream",
     "text": [
      "/home/au472091/venv/lib/python3.12/site-packages/cfgrib/xarray_plugin.py:131: FutureWarning: In a future version of xarray decode_timedelta will default to False rather than None. To silence this warning, set decode_timedelta to True, False, or a 'CFTimedeltaCoder' instance.\n",
      "  vars, attrs, coord_names = xr.conventions.decode_cf_variables(\n",
      "/tmp/ipykernel_1620840/3401802185.py:44: FutureWarning: The behavior of DataFrame concatenation with empty or all-NA entries is deprecated. In a future version, this will no longer exclude empty or all-NA columns when determining the result dtypes. To retain the old behavior, exclude the relevant entries before the concat operation.\n",
      "  outdf[count]=pd.concat([outdf[count], out], axis=0, ignore_index=True)\n",
      "/tmp/ipykernel_1620840/3401802185.py:44: FutureWarning: The behavior of DataFrame concatenation with empty or all-NA entries is deprecated. In a future version, this will no longer exclude empty or all-NA columns when determining the result dtypes. To retain the old behavior, exclude the relevant entries before the concat operation.\n",
      "  outdf[count]=pd.concat([outdf[count], out], axis=0, ignore_index=True)\n",
      "/tmp/ipykernel_1620840/3401802185.py:44: FutureWarning: The behavior of DataFrame concatenation with empty or all-NA entries is deprecated. In a future version, this will no longer exclude empty or all-NA columns when determining the result dtypes. To retain the old behavior, exclude the relevant entries before the concat operation.\n",
      "  outdf[count]=pd.concat([outdf[count], out], axis=0, ignore_index=True)\n",
      "/tmp/ipykernel_1620840/3401802185.py:44: FutureWarning: The behavior of DataFrame concatenation with empty or all-NA entries is deprecated. In a future version, this will no longer exclude empty or all-NA columns when determining the result dtypes. To retain the old behavior, exclude the relevant entries before the concat operation.\n",
      "  outdf[count]=pd.concat([outdf[count], out], axis=0, ignore_index=True)\n",
      "/tmp/ipykernel_1620840/3401802185.py:44: FutureWarning: The behavior of DataFrame concatenation with empty or all-NA entries is deprecated. In a future version, this will no longer exclude empty or all-NA columns when determining the result dtypes. To retain the old behavior, exclude the relevant entries before the concat operation.\n",
      "  outdf[count]=pd.concat([outdf[count], out], axis=0, ignore_index=True)\n",
      "/tmp/ipykernel_1620840/3401802185.py:44: FutureWarning: The behavior of DataFrame concatenation with empty or all-NA entries is deprecated. In a future version, this will no longer exclude empty or all-NA columns when determining the result dtypes. To retain the old behavior, exclude the relevant entries before the concat operation.\n",
      "  outdf[count]=pd.concat([outdf[count], out], axis=0, ignore_index=True)\n",
      "/tmp/ipykernel_1620840/3401802185.py:44: FutureWarning: The behavior of DataFrame concatenation with empty or all-NA entries is deprecated. In a future version, this will no longer exclude empty or all-NA columns when determining the result dtypes. To retain the old behavior, exclude the relevant entries before the concat operation.\n",
      "  outdf[count]=pd.concat([outdf[count], out], axis=0, ignore_index=True)\n",
      "/tmp/ipykernel_1620840/3401802185.py:44: FutureWarning: The behavior of DataFrame concatenation with empty or all-NA entries is deprecated. In a future version, this will no longer exclude empty or all-NA columns when determining the result dtypes. To retain the old behavior, exclude the relevant entries before the concat operation.\n",
      "  outdf[count]=pd.concat([outdf[count], out], axis=0, ignore_index=True)\n",
      "/tmp/ipykernel_1620840/3401802185.py:44: FutureWarning: The behavior of DataFrame concatenation with empty or all-NA entries is deprecated. In a future version, this will no longer exclude empty or all-NA columns when determining the result dtypes. To retain the old behavior, exclude the relevant entries before the concat operation.\n",
      "  outdf[count]=pd.concat([outdf[count], out], axis=0, ignore_index=True)\n",
      "/tmp/ipykernel_1620840/3401802185.py:44: FutureWarning: The behavior of DataFrame concatenation with empty or all-NA entries is deprecated. In a future version, this will no longer exclude empty or all-NA columns when determining the result dtypes. To retain the old behavior, exclude the relevant entries before the concat operation.\n",
      "  outdf[count]=pd.concat([outdf[count], out], axis=0, ignore_index=True)\n",
      "/tmp/ipykernel_1620840/3401802185.py:44: FutureWarning: The behavior of DataFrame concatenation with empty or all-NA entries is deprecated. In a future version, this will no longer exclude empty or all-NA columns when determining the result dtypes. To retain the old behavior, exclude the relevant entries before the concat operation.\n",
      "  outdf[count]=pd.concat([outdf[count], out], axis=0, ignore_index=True)\n",
      "/tmp/ipykernel_1620840/3401802185.py:44: FutureWarning: The behavior of DataFrame concatenation with empty or all-NA entries is deprecated. In a future version, this will no longer exclude empty or all-NA columns when determining the result dtypes. To retain the old behavior, exclude the relevant entries before the concat operation.\n",
      "  outdf[count]=pd.concat([outdf[count], out], axis=0, ignore_index=True)\n",
      "/tmp/ipykernel_1620840/3401802185.py:44: FutureWarning: The behavior of DataFrame concatenation with empty or all-NA entries is deprecated. In a future version, this will no longer exclude empty or all-NA columns when determining the result dtypes. To retain the old behavior, exclude the relevant entries before the concat operation.\n",
      "  outdf[count]=pd.concat([outdf[count], out], axis=0, ignore_index=True)\n",
      "/tmp/ipykernel_1620840/3401802185.py:44: FutureWarning: The behavior of DataFrame concatenation with empty or all-NA entries is deprecated. In a future version, this will no longer exclude empty or all-NA columns when determining the result dtypes. To retain the old behavior, exclude the relevant entries before the concat operation.\n",
      "  outdf[count]=pd.concat([outdf[count], out], axis=0, ignore_index=True)\n",
      "/tmp/ipykernel_1620840/3401802185.py:44: FutureWarning: The behavior of DataFrame concatenation with empty or all-NA entries is deprecated. In a future version, this will no longer exclude empty or all-NA columns when determining the result dtypes. To retain the old behavior, exclude the relevant entries before the concat operation.\n",
      "  outdf[count]=pd.concat([outdf[count], out], axis=0, ignore_index=True)\n",
      "/tmp/ipykernel_1620840/3401802185.py:44: FutureWarning: The behavior of DataFrame concatenation with empty or all-NA entries is deprecated. In a future version, this will no longer exclude empty or all-NA columns when determining the result dtypes. To retain the old behavior, exclude the relevant entries before the concat operation.\n",
      "  outdf[count]=pd.concat([outdf[count], out], axis=0, ignore_index=True)\n",
      "/tmp/ipykernel_1620840/3401802185.py:44: FutureWarning: The behavior of DataFrame concatenation with empty or all-NA entries is deprecated. In a future version, this will no longer exclude empty or all-NA columns when determining the result dtypes. To retain the old behavior, exclude the relevant entries before the concat operation.\n",
      "  outdf[count]=pd.concat([outdf[count], out], axis=0, ignore_index=True)\n",
      "/tmp/ipykernel_1620840/3401802185.py:44: FutureWarning: The behavior of DataFrame concatenation with empty or all-NA entries is deprecated. In a future version, this will no longer exclude empty or all-NA columns when determining the result dtypes. To retain the old behavior, exclude the relevant entries before the concat operation.\n",
      "  outdf[count]=pd.concat([outdf[count], out], axis=0, ignore_index=True)\n",
      "/tmp/ipykernel_1620840/3401802185.py:44: FutureWarning: The behavior of DataFrame concatenation with empty or all-NA entries is deprecated. In a future version, this will no longer exclude empty or all-NA columns when determining the result dtypes. To retain the old behavior, exclude the relevant entries before the concat operation.\n",
      "  outdf[count]=pd.concat([outdf[count], out], axis=0, ignore_index=True)\n",
      "/tmp/ipykernel_1620840/3401802185.py:44: FutureWarning: The behavior of DataFrame concatenation with empty or all-NA entries is deprecated. In a future version, this will no longer exclude empty or all-NA columns when determining the result dtypes. To retain the old behavior, exclude the relevant entries before the concat operation.\n",
      "  outdf[count]=pd.concat([outdf[count], out], axis=0, ignore_index=True)\n",
      "/tmp/ipykernel_1620840/3401802185.py:44: FutureWarning: The behavior of DataFrame concatenation with empty or all-NA entries is deprecated. In a future version, this will no longer exclude empty or all-NA columns when determining the result dtypes. To retain the old behavior, exclude the relevant entries before the concat operation.\n",
      "  outdf[count]=pd.concat([outdf[count], out], axis=0, ignore_index=True)\n",
      "/tmp/ipykernel_1620840/3401802185.py:44: FutureWarning: The behavior of DataFrame concatenation with empty or all-NA entries is deprecated. In a future version, this will no longer exclude empty or all-NA columns when determining the result dtypes. To retain the old behavior, exclude the relevant entries before the concat operation.\n",
      "  outdf[count]=pd.concat([outdf[count], out], axis=0, ignore_index=True)\n",
      "/tmp/ipykernel_1620840/3401802185.py:44: FutureWarning: The behavior of DataFrame concatenation with empty or all-NA entries is deprecated. In a future version, this will no longer exclude empty or all-NA columns when determining the result dtypes. To retain the old behavior, exclude the relevant entries before the concat operation.\n",
      "  outdf[count]=pd.concat([outdf[count], out], axis=0, ignore_index=True)\n",
      "/tmp/ipykernel_1620840/3401802185.py:44: FutureWarning: The behavior of DataFrame concatenation with empty or all-NA entries is deprecated. In a future version, this will no longer exclude empty or all-NA columns when determining the result dtypes. To retain the old behavior, exclude the relevant entries before the concat operation.\n",
      "  outdf[count]=pd.concat([outdf[count], out], axis=0, ignore_index=True)\n",
      "/tmp/ipykernel_1620840/3401802185.py:44: FutureWarning: The behavior of DataFrame concatenation with empty or all-NA entries is deprecated. In a future version, this will no longer exclude empty or all-NA columns when determining the result dtypes. To retain the old behavior, exclude the relevant entries before the concat operation.\n",
      "  outdf[count]=pd.concat([outdf[count], out], axis=0, ignore_index=True)\n",
      "/tmp/ipykernel_1620840/3401802185.py:44: FutureWarning: The behavior of DataFrame concatenation with empty or all-NA entries is deprecated. In a future version, this will no longer exclude empty or all-NA columns when determining the result dtypes. To retain the old behavior, exclude the relevant entries before the concat operation.\n",
      "  outdf[count]=pd.concat([outdf[count], out], axis=0, ignore_index=True)\n",
      "/tmp/ipykernel_1620840/3401802185.py:44: FutureWarning: The behavior of DataFrame concatenation with empty or all-NA entries is deprecated. In a future version, this will no longer exclude empty or all-NA columns when determining the result dtypes. To retain the old behavior, exclude the relevant entries before the concat operation.\n",
      "  outdf[count]=pd.concat([outdf[count], out], axis=0, ignore_index=True)\n",
      "/tmp/ipykernel_1620840/3401802185.py:44: FutureWarning: The behavior of DataFrame concatenation with empty or all-NA entries is deprecated. In a future version, this will no longer exclude empty or all-NA columns when determining the result dtypes. To retain the old behavior, exclude the relevant entries before the concat operation.\n",
      "  outdf[count]=pd.concat([outdf[count], out], axis=0, ignore_index=True)\n",
      "/tmp/ipykernel_1620840/3401802185.py:44: FutureWarning: The behavior of DataFrame concatenation with empty or all-NA entries is deprecated. In a future version, this will no longer exclude empty or all-NA columns when determining the result dtypes. To retain the old behavior, exclude the relevant entries before the concat operation.\n",
      "  outdf[count]=pd.concat([outdf[count], out], axis=0, ignore_index=True)\n",
      "/tmp/ipykernel_1620840/3401802185.py:44: FutureWarning: The behavior of DataFrame concatenation with empty or all-NA entries is deprecated. In a future version, this will no longer exclude empty or all-NA columns when determining the result dtypes. To retain the old behavior, exclude the relevant entries before the concat operation.\n",
      "  outdf[count]=pd.concat([outdf[count], out], axis=0, ignore_index=True)\n",
      "/tmp/ipykernel_1620840/3401802185.py:44: FutureWarning: The behavior of DataFrame concatenation with empty or all-NA entries is deprecated. In a future version, this will no longer exclude empty or all-NA columns when determining the result dtypes. To retain the old behavior, exclude the relevant entries before the concat operation.\n",
      "  outdf[count]=pd.concat([outdf[count], out], axis=0, ignore_index=True)\n",
      "/tmp/ipykernel_1620840/3401802185.py:44: FutureWarning: The behavior of DataFrame concatenation with empty or all-NA entries is deprecated. In a future version, this will no longer exclude empty or all-NA columns when determining the result dtypes. To retain the old behavior, exclude the relevant entries before the concat operation.\n",
      "  outdf[count]=pd.concat([outdf[count], out], axis=0, ignore_index=True)\n",
      "/tmp/ipykernel_1620840/3401802185.py:44: FutureWarning: The behavior of DataFrame concatenation with empty or all-NA entries is deprecated. In a future version, this will no longer exclude empty or all-NA columns when determining the result dtypes. To retain the old behavior, exclude the relevant entries before the concat operation.\n",
      "  outdf[count]=pd.concat([outdf[count], out], axis=0, ignore_index=True)\n",
      "/tmp/ipykernel_1620840/3401802185.py:44: FutureWarning: The behavior of DataFrame concatenation with empty or all-NA entries is deprecated. In a future version, this will no longer exclude empty or all-NA columns when determining the result dtypes. To retain the old behavior, exclude the relevant entries before the concat operation.\n",
      "  outdf[count]=pd.concat([outdf[count], out], axis=0, ignore_index=True)\n",
      "/tmp/ipykernel_1620840/3401802185.py:44: FutureWarning: The behavior of DataFrame concatenation with empty or all-NA entries is deprecated. In a future version, this will no longer exclude empty or all-NA columns when determining the result dtypes. To retain the old behavior, exclude the relevant entries before the concat operation.\n",
      "  outdf[count]=pd.concat([outdf[count], out], axis=0, ignore_index=True)\n",
      "/tmp/ipykernel_1620840/3401802185.py:44: FutureWarning: The behavior of DataFrame concatenation with empty or all-NA entries is deprecated. In a future version, this will no longer exclude empty or all-NA columns when determining the result dtypes. To retain the old behavior, exclude the relevant entries before the concat operation.\n",
      "  outdf[count]=pd.concat([outdf[count], out], axis=0, ignore_index=True)\n",
      "/tmp/ipykernel_1620840/3401802185.py:44: FutureWarning: The behavior of DataFrame concatenation with empty or all-NA entries is deprecated. In a future version, this will no longer exclude empty or all-NA columns when determining the result dtypes. To retain the old behavior, exclude the relevant entries before the concat operation.\n",
      "  outdf[count]=pd.concat([outdf[count], out], axis=0, ignore_index=True)\n",
      "/tmp/ipykernel_1620840/3401802185.py:44: FutureWarning: The behavior of DataFrame concatenation with empty or all-NA entries is deprecated. In a future version, this will no longer exclude empty or all-NA columns when determining the result dtypes. To retain the old behavior, exclude the relevant entries before the concat operation.\n",
      "  outdf[count]=pd.concat([outdf[count], out], axis=0, ignore_index=True)\n",
      "/tmp/ipykernel_1620840/3401802185.py:44: FutureWarning: The behavior of DataFrame concatenation with empty or all-NA entries is deprecated. In a future version, this will no longer exclude empty or all-NA columns when determining the result dtypes. To retain the old behavior, exclude the relevant entries before the concat operation.\n",
      "  outdf[count]=pd.concat([outdf[count], out], axis=0, ignore_index=True)\n",
      "/tmp/ipykernel_1620840/3401802185.py:44: FutureWarning: The behavior of DataFrame concatenation with empty or all-NA entries is deprecated. In a future version, this will no longer exclude empty or all-NA columns when determining the result dtypes. To retain the old behavior, exclude the relevant entries before the concat operation.\n",
      "  outdf[count]=pd.concat([outdf[count], out], axis=0, ignore_index=True)\n",
      "/tmp/ipykernel_1620840/3401802185.py:44: FutureWarning: The behavior of DataFrame concatenation with empty or all-NA entries is deprecated. In a future version, this will no longer exclude empty or all-NA columns when determining the result dtypes. To retain the old behavior, exclude the relevant entries before the concat operation.\n",
      "  outdf[count]=pd.concat([outdf[count], out], axis=0, ignore_index=True)\n",
      "/tmp/ipykernel_1620840/3401802185.py:44: FutureWarning: The behavior of DataFrame concatenation with empty or all-NA entries is deprecated. In a future version, this will no longer exclude empty or all-NA columns when determining the result dtypes. To retain the old behavior, exclude the relevant entries before the concat operation.\n",
      "  outdf[count]=pd.concat([outdf[count], out], axis=0, ignore_index=True)\n",
      "/tmp/ipykernel_1620840/3401802185.py:44: FutureWarning: The behavior of DataFrame concatenation with empty or all-NA entries is deprecated. In a future version, this will no longer exclude empty or all-NA columns when determining the result dtypes. To retain the old behavior, exclude the relevant entries before the concat operation.\n",
      "  outdf[count]=pd.concat([outdf[count], out], axis=0, ignore_index=True)\n",
      "/tmp/ipykernel_1620840/3401802185.py:44: FutureWarning: The behavior of DataFrame concatenation with empty or all-NA entries is deprecated. In a future version, this will no longer exclude empty or all-NA columns when determining the result dtypes. To retain the old behavior, exclude the relevant entries before the concat operation.\n",
      "  outdf[count]=pd.concat([outdf[count], out], axis=0, ignore_index=True)\n",
      "/tmp/ipykernel_1620840/3401802185.py:44: FutureWarning: The behavior of DataFrame concatenation with empty or all-NA entries is deprecated. In a future version, this will no longer exclude empty or all-NA columns when determining the result dtypes. To retain the old behavior, exclude the relevant entries before the concat operation.\n",
      "  outdf[count]=pd.concat([outdf[count], out], axis=0, ignore_index=True)\n",
      "/tmp/ipykernel_1620840/3401802185.py:44: FutureWarning: The behavior of DataFrame concatenation with empty or all-NA entries is deprecated. In a future version, this will no longer exclude empty or all-NA columns when determining the result dtypes. To retain the old behavior, exclude the relevant entries before the concat operation.\n",
      "  outdf[count]=pd.concat([outdf[count], out], axis=0, ignore_index=True)\n",
      "/tmp/ipykernel_1620840/3401802185.py:44: FutureWarning: The behavior of DataFrame concatenation with empty or all-NA entries is deprecated. In a future version, this will no longer exclude empty or all-NA columns when determining the result dtypes. To retain the old behavior, exclude the relevant entries before the concat operation.\n",
      "  outdf[count]=pd.concat([outdf[count], out], axis=0, ignore_index=True)\n",
      "/tmp/ipykernel_1620840/3401802185.py:44: FutureWarning: The behavior of DataFrame concatenation with empty or all-NA entries is deprecated. In a future version, this will no longer exclude empty or all-NA columns when determining the result dtypes. To retain the old behavior, exclude the relevant entries before the concat operation.\n",
      "  outdf[count]=pd.concat([outdf[count], out], axis=0, ignore_index=True)\n",
      "/tmp/ipykernel_1620840/3401802185.py:44: FutureWarning: The behavior of DataFrame concatenation with empty or all-NA entries is deprecated. In a future version, this will no longer exclude empty or all-NA columns when determining the result dtypes. To retain the old behavior, exclude the relevant entries before the concat operation.\n",
      "  outdf[count]=pd.concat([outdf[count], out], axis=0, ignore_index=True)\n",
      "/tmp/ipykernel_1620840/3401802185.py:44: FutureWarning: The behavior of DataFrame concatenation with empty or all-NA entries is deprecated. In a future version, this will no longer exclude empty or all-NA columns when determining the result dtypes. To retain the old behavior, exclude the relevant entries before the concat operation.\n",
      "  outdf[count]=pd.concat([outdf[count], out], axis=0, ignore_index=True)\n",
      "/tmp/ipykernel_1620840/3401802185.py:44: FutureWarning: The behavior of DataFrame concatenation with empty or all-NA entries is deprecated. In a future version, this will no longer exclude empty or all-NA columns when determining the result dtypes. To retain the old behavior, exclude the relevant entries before the concat operation.\n",
      "  outdf[count]=pd.concat([outdf[count], out], axis=0, ignore_index=True)\n",
      "/tmp/ipykernel_1620840/3401802185.py:44: FutureWarning: The behavior of DataFrame concatenation with empty or all-NA entries is deprecated. In a future version, this will no longer exclude empty or all-NA columns when determining the result dtypes. To retain the old behavior, exclude the relevant entries before the concat operation.\n",
      "  outdf[count]=pd.concat([outdf[count], out], axis=0, ignore_index=True)\n",
      "/tmp/ipykernel_1620840/3401802185.py:44: FutureWarning: The behavior of DataFrame concatenation with empty or all-NA entries is deprecated. In a future version, this will no longer exclude empty or all-NA columns when determining the result dtypes. To retain the old behavior, exclude the relevant entries before the concat operation.\n",
      "  outdf[count]=pd.concat([outdf[count], out], axis=0, ignore_index=True)\n",
      "/tmp/ipykernel_1620840/3401802185.py:44: FutureWarning: The behavior of DataFrame concatenation with empty or all-NA entries is deprecated. In a future version, this will no longer exclude empty or all-NA columns when determining the result dtypes. To retain the old behavior, exclude the relevant entries before the concat operation.\n",
      "  outdf[count]=pd.concat([outdf[count], out], axis=0, ignore_index=True)\n",
      "/tmp/ipykernel_1620840/3401802185.py:44: FutureWarning: The behavior of DataFrame concatenation with empty or all-NA entries is deprecated. In a future version, this will no longer exclude empty or all-NA columns when determining the result dtypes. To retain the old behavior, exclude the relevant entries before the concat operation.\n",
      "  outdf[count]=pd.concat([outdf[count], out], axis=0, ignore_index=True)\n",
      "/tmp/ipykernel_1620840/3401802185.py:44: FutureWarning: The behavior of DataFrame concatenation with empty or all-NA entries is deprecated. In a future version, this will no longer exclude empty or all-NA columns when determining the result dtypes. To retain the old behavior, exclude the relevant entries before the concat operation.\n",
      "  outdf[count]=pd.concat([outdf[count], out], axis=0, ignore_index=True)\n",
      "/tmp/ipykernel_1620840/3401802185.py:44: FutureWarning: The behavior of DataFrame concatenation with empty or all-NA entries is deprecated. In a future version, this will no longer exclude empty or all-NA columns when determining the result dtypes. To retain the old behavior, exclude the relevant entries before the concat operation.\n",
      "  outdf[count]=pd.concat([outdf[count], out], axis=0, ignore_index=True)\n",
      "Ignoring index file '/home/au472091/OneDrive/au/projects/pam_bats/analysis/data/weather/precip/era5_precip_2023_02.grib.5b7b6.idx' older than GRIB file\n"
     ]
    },
    {
     "name": "stdout",
     "output_type": "stream",
     "text": [
      "reading era5_precip_2023_02.grib\n"
     ]
    },
    {
     "name": "stderr",
     "output_type": "stream",
     "text": [
      "/home/au472091/venv/lib/python3.12/site-packages/cfgrib/xarray_plugin.py:131: FutureWarning: In a future version of xarray decode_timedelta will default to False rather than None. To silence this warning, set decode_timedelta to True, False, or a 'CFTimedeltaCoder' instance.\n",
      "  vars, attrs, coord_names = xr.conventions.decode_cf_variables(\n",
      "Ignoring index file '/home/au472091/OneDrive/au/projects/pam_bats/analysis/data/weather/precip/era5_precip_2023_03.grib.5b7b6.idx' older than GRIB file\n"
     ]
    },
    {
     "name": "stdout",
     "output_type": "stream",
     "text": [
      "reading era5_precip_2023_03.grib\n"
     ]
    },
    {
     "name": "stderr",
     "output_type": "stream",
     "text": [
      "/home/au472091/venv/lib/python3.12/site-packages/cfgrib/xarray_plugin.py:131: FutureWarning: In a future version of xarray decode_timedelta will default to False rather than None. To silence this warning, set decode_timedelta to True, False, or a 'CFTimedeltaCoder' instance.\n",
      "  vars, attrs, coord_names = xr.conventions.decode_cf_variables(\n",
      "Ignoring index file '/home/au472091/OneDrive/au/projects/pam_bats/analysis/data/weather/precip/era5_precip_2023_04.grib.5b7b6.idx' older than GRIB file\n"
     ]
    },
    {
     "name": "stdout",
     "output_type": "stream",
     "text": [
      "reading era5_precip_2023_04.grib\n"
     ]
    },
    {
     "name": "stderr",
     "output_type": "stream",
     "text": [
      "/home/au472091/venv/lib/python3.12/site-packages/cfgrib/xarray_plugin.py:131: FutureWarning: In a future version of xarray decode_timedelta will default to False rather than None. To silence this warning, set decode_timedelta to True, False, or a 'CFTimedeltaCoder' instance.\n",
      "  vars, attrs, coord_names = xr.conventions.decode_cf_variables(\n",
      "Ignoring index file '/home/au472091/OneDrive/au/projects/pam_bats/analysis/data/weather/precip/era5_precip_2023_05.grib.5b7b6.idx' older than GRIB file\n"
     ]
    },
    {
     "name": "stdout",
     "output_type": "stream",
     "text": [
      "reading era5_precip_2023_05.grib\n"
     ]
    },
    {
     "name": "stderr",
     "output_type": "stream",
     "text": [
      "/home/au472091/venv/lib/python3.12/site-packages/cfgrib/xarray_plugin.py:131: FutureWarning: In a future version of xarray decode_timedelta will default to False rather than None. To silence this warning, set decode_timedelta to True, False, or a 'CFTimedeltaCoder' instance.\n",
      "  vars, attrs, coord_names = xr.conventions.decode_cf_variables(\n",
      "Ignoring index file '/home/au472091/OneDrive/au/projects/pam_bats/analysis/data/weather/precip/era5_precip_2023_06.grib.5b7b6.idx' older than GRIB file\n"
     ]
    },
    {
     "name": "stdout",
     "output_type": "stream",
     "text": [
      "reading era5_precip_2023_06.grib\n"
     ]
    },
    {
     "name": "stderr",
     "output_type": "stream",
     "text": [
      "/home/au472091/venv/lib/python3.12/site-packages/cfgrib/xarray_plugin.py:131: FutureWarning: In a future version of xarray decode_timedelta will default to False rather than None. To silence this warning, set decode_timedelta to True, False, or a 'CFTimedeltaCoder' instance.\n",
      "  vars, attrs, coord_names = xr.conventions.decode_cf_variables(\n",
      "Ignoring index file '/home/au472091/OneDrive/au/projects/pam_bats/analysis/data/weather/precip/era5_precip_2023_07.grib.5b7b6.idx' older than GRIB file\n"
     ]
    },
    {
     "name": "stdout",
     "output_type": "stream",
     "text": [
      "reading era5_precip_2023_07.grib\n"
     ]
    },
    {
     "name": "stderr",
     "output_type": "stream",
     "text": [
      "/home/au472091/venv/lib/python3.12/site-packages/cfgrib/xarray_plugin.py:131: FutureWarning: In a future version of xarray decode_timedelta will default to False rather than None. To silence this warning, set decode_timedelta to True, False, or a 'CFTimedeltaCoder' instance.\n",
      "  vars, attrs, coord_names = xr.conventions.decode_cf_variables(\n",
      "Ignoring index file '/home/au472091/OneDrive/au/projects/pam_bats/analysis/data/weather/precip/era5_precip_2023_08.grib.5b7b6.idx' older than GRIB file\n"
     ]
    },
    {
     "name": "stdout",
     "output_type": "stream",
     "text": [
      "reading era5_precip_2023_08.grib\n"
     ]
    },
    {
     "name": "stderr",
     "output_type": "stream",
     "text": [
      "/home/au472091/venv/lib/python3.12/site-packages/cfgrib/xarray_plugin.py:131: FutureWarning: In a future version of xarray decode_timedelta will default to False rather than None. To silence this warning, set decode_timedelta to True, False, or a 'CFTimedeltaCoder' instance.\n",
      "  vars, attrs, coord_names = xr.conventions.decode_cf_variables(\n",
      "Ignoring index file '/home/au472091/OneDrive/au/projects/pam_bats/analysis/data/weather/precip/era5_precip_2023_09.grib.5b7b6.idx' older than GRIB file\n"
     ]
    },
    {
     "name": "stdout",
     "output_type": "stream",
     "text": [
      "reading era5_precip_2023_09.grib\n"
     ]
    },
    {
     "name": "stderr",
     "output_type": "stream",
     "text": [
      "/home/au472091/venv/lib/python3.12/site-packages/cfgrib/xarray_plugin.py:131: FutureWarning: In a future version of xarray decode_timedelta will default to False rather than None. To silence this warning, set decode_timedelta to True, False, or a 'CFTimedeltaCoder' instance.\n",
      "  vars, attrs, coord_names = xr.conventions.decode_cf_variables(\n",
      "Ignoring index file '/home/au472091/OneDrive/au/projects/pam_bats/analysis/data/weather/precip/era5_precip_2023_10.grib.5b7b6.idx' older than GRIB file\n"
     ]
    },
    {
     "name": "stdout",
     "output_type": "stream",
     "text": [
      "reading era5_precip_2023_10.grib\n"
     ]
    },
    {
     "name": "stderr",
     "output_type": "stream",
     "text": [
      "/home/au472091/venv/lib/python3.12/site-packages/cfgrib/xarray_plugin.py:131: FutureWarning: In a future version of xarray decode_timedelta will default to False rather than None. To silence this warning, set decode_timedelta to True, False, or a 'CFTimedeltaCoder' instance.\n",
      "  vars, attrs, coord_names = xr.conventions.decode_cf_variables(\n",
      "Ignoring index file '/home/au472091/OneDrive/au/projects/pam_bats/analysis/data/weather/precip/era5_precip_2023_11.grib.5b7b6.idx' older than GRIB file\n"
     ]
    },
    {
     "name": "stdout",
     "output_type": "stream",
     "text": [
      "reading era5_precip_2023_11.grib\n"
     ]
    },
    {
     "name": "stderr",
     "output_type": "stream",
     "text": [
      "/home/au472091/venv/lib/python3.12/site-packages/cfgrib/xarray_plugin.py:131: FutureWarning: In a future version of xarray decode_timedelta will default to False rather than None. To silence this warning, set decode_timedelta to True, False, or a 'CFTimedeltaCoder' instance.\n",
      "  vars, attrs, coord_names = xr.conventions.decode_cf_variables(\n",
      "Ignoring index file '/home/au472091/OneDrive/au/projects/pam_bats/analysis/data/weather/precip/era5_precip_2023_12.grib.5b7b6.idx' older than GRIB file\n"
     ]
    },
    {
     "name": "stdout",
     "output_type": "stream",
     "text": [
      "reading era5_precip_2023_12.grib\n"
     ]
    },
    {
     "name": "stderr",
     "output_type": "stream",
     "text": [
      "/home/au472091/venv/lib/python3.12/site-packages/cfgrib/xarray_plugin.py:131: FutureWarning: In a future version of xarray decode_timedelta will default to False rather than None. To silence this warning, set decode_timedelta to True, False, or a 'CFTimedeltaCoder' instance.\n",
      "  vars, attrs, coord_names = xr.conventions.decode_cf_variables(\n",
      "Ignoring index file '/home/au472091/OneDrive/au/projects/pam_bats/analysis/data/weather/precip/era5_precip_2024_01.grib.5b7b6.idx' older than GRIB file\n"
     ]
    },
    {
     "name": "stdout",
     "output_type": "stream",
     "text": [
      "reading era5_precip_2024_01.grib\n"
     ]
    },
    {
     "name": "stderr",
     "output_type": "stream",
     "text": [
      "/home/au472091/venv/lib/python3.12/site-packages/cfgrib/xarray_plugin.py:131: FutureWarning: In a future version of xarray decode_timedelta will default to False rather than None. To silence this warning, set decode_timedelta to True, False, or a 'CFTimedeltaCoder' instance.\n",
      "  vars, attrs, coord_names = xr.conventions.decode_cf_variables(\n",
      "Ignoring index file '/home/au472091/OneDrive/au/projects/pam_bats/analysis/data/weather/precip/era5_precip_2024_02.grib.5b7b6.idx' older than GRIB file\n"
     ]
    },
    {
     "name": "stdout",
     "output_type": "stream",
     "text": [
      "reading era5_precip_2024_02.grib\n"
     ]
    },
    {
     "name": "stderr",
     "output_type": "stream",
     "text": [
      "/home/au472091/venv/lib/python3.12/site-packages/cfgrib/xarray_plugin.py:131: FutureWarning: In a future version of xarray decode_timedelta will default to False rather than None. To silence this warning, set decode_timedelta to True, False, or a 'CFTimedeltaCoder' instance.\n",
      "  vars, attrs, coord_names = xr.conventions.decode_cf_variables(\n",
      "Ignoring index file '/home/au472091/OneDrive/au/projects/pam_bats/analysis/data/weather/precip/era5_precip_2024_03.grib.5b7b6.idx' older than GRIB file\n"
     ]
    },
    {
     "name": "stdout",
     "output_type": "stream",
     "text": [
      "reading era5_precip_2024_03.grib\n"
     ]
    },
    {
     "name": "stderr",
     "output_type": "stream",
     "text": [
      "/home/au472091/venv/lib/python3.12/site-packages/cfgrib/xarray_plugin.py:131: FutureWarning: In a future version of xarray decode_timedelta will default to False rather than None. To silence this warning, set decode_timedelta to True, False, or a 'CFTimedeltaCoder' instance.\n",
      "  vars, attrs, coord_names = xr.conventions.decode_cf_variables(\n",
      "Ignoring index file '/home/au472091/OneDrive/au/projects/pam_bats/analysis/data/weather/precip/era5_precip_2024_04.grib.5b7b6.idx' older than GRIB file\n"
     ]
    },
    {
     "name": "stdout",
     "output_type": "stream",
     "text": [
      "reading era5_precip_2024_04.grib\n"
     ]
    },
    {
     "name": "stderr",
     "output_type": "stream",
     "text": [
      "/home/au472091/venv/lib/python3.12/site-packages/cfgrib/xarray_plugin.py:131: FutureWarning: In a future version of xarray decode_timedelta will default to False rather than None. To silence this warning, set decode_timedelta to True, False, or a 'CFTimedeltaCoder' instance.\n",
      "  vars, attrs, coord_names = xr.conventions.decode_cf_variables(\n",
      "Ignoring index file '/home/au472091/OneDrive/au/projects/pam_bats/analysis/data/weather/precip/era5_precip_2024_05.grib.5b7b6.idx' older than GRIB file\n"
     ]
    },
    {
     "name": "stdout",
     "output_type": "stream",
     "text": [
      "reading era5_precip_2024_05.grib\n"
     ]
    },
    {
     "name": "stderr",
     "output_type": "stream",
     "text": [
      "/home/au472091/venv/lib/python3.12/site-packages/cfgrib/xarray_plugin.py:131: FutureWarning: In a future version of xarray decode_timedelta will default to False rather than None. To silence this warning, set decode_timedelta to True, False, or a 'CFTimedeltaCoder' instance.\n",
      "  vars, attrs, coord_names = xr.conventions.decode_cf_variables(\n",
      "Ignoring index file '/home/au472091/OneDrive/au/projects/pam_bats/analysis/data/weather/precip/era5_precip_2024_06.grib.5b7b6.idx' older than GRIB file\n"
     ]
    },
    {
     "name": "stdout",
     "output_type": "stream",
     "text": [
      "reading era5_precip_2024_06.grib\n"
     ]
    },
    {
     "name": "stderr",
     "output_type": "stream",
     "text": [
      "/home/au472091/venv/lib/python3.12/site-packages/cfgrib/xarray_plugin.py:131: FutureWarning: In a future version of xarray decode_timedelta will default to False rather than None. To silence this warning, set decode_timedelta to True, False, or a 'CFTimedeltaCoder' instance.\n",
      "  vars, attrs, coord_names = xr.conventions.decode_cf_variables(\n",
      "Ignoring index file '/home/au472091/OneDrive/au/projects/pam_bats/analysis/data/weather/precip/era5_precip_2024_07.grib.5b7b6.idx' older than GRIB file\n"
     ]
    },
    {
     "name": "stdout",
     "output_type": "stream",
     "text": [
      "reading era5_precip_2024_07.grib\n"
     ]
    },
    {
     "name": "stderr",
     "output_type": "stream",
     "text": [
      "/home/au472091/venv/lib/python3.12/site-packages/cfgrib/xarray_plugin.py:131: FutureWarning: In a future version of xarray decode_timedelta will default to False rather than None. To silence this warning, set decode_timedelta to True, False, or a 'CFTimedeltaCoder' instance.\n",
      "  vars, attrs, coord_names = xr.conventions.decode_cf_variables(\n",
      "Ignoring index file '/home/au472091/OneDrive/au/projects/pam_bats/analysis/data/weather/precip/era5_precip_2024_08.grib.5b7b6.idx' older than GRIB file\n"
     ]
    },
    {
     "name": "stdout",
     "output_type": "stream",
     "text": [
      "reading era5_precip_2024_08.grib\n"
     ]
    },
    {
     "name": "stderr",
     "output_type": "stream",
     "text": [
      "/home/au472091/venv/lib/python3.12/site-packages/cfgrib/xarray_plugin.py:131: FutureWarning: In a future version of xarray decode_timedelta will default to False rather than None. To silence this warning, set decode_timedelta to True, False, or a 'CFTimedeltaCoder' instance.\n",
      "  vars, attrs, coord_names = xr.conventions.decode_cf_variables(\n",
      "Ignoring index file '/home/au472091/OneDrive/au/projects/pam_bats/analysis/data/weather/precip/era5_precip_2024_09.grib.5b7b6.idx' older than GRIB file\n"
     ]
    },
    {
     "name": "stdout",
     "output_type": "stream",
     "text": [
      "reading era5_precip_2024_09.grib\n"
     ]
    },
    {
     "name": "stderr",
     "output_type": "stream",
     "text": [
      "/home/au472091/venv/lib/python3.12/site-packages/cfgrib/xarray_plugin.py:131: FutureWarning: In a future version of xarray decode_timedelta will default to False rather than None. To silence this warning, set decode_timedelta to True, False, or a 'CFTimedeltaCoder' instance.\n",
      "  vars, attrs, coord_names = xr.conventions.decode_cf_variables(\n",
      "Ignoring index file '/home/au472091/OneDrive/au/projects/pam_bats/analysis/data/weather/precip/era5_precip_2024_10.grib.5b7b6.idx' older than GRIB file\n"
     ]
    },
    {
     "name": "stdout",
     "output_type": "stream",
     "text": [
      "reading era5_precip_2024_10.grib\n"
     ]
    },
    {
     "name": "stderr",
     "output_type": "stream",
     "text": [
      "/home/au472091/venv/lib/python3.12/site-packages/cfgrib/xarray_plugin.py:131: FutureWarning: In a future version of xarray decode_timedelta will default to False rather than None. To silence this warning, set decode_timedelta to True, False, or a 'CFTimedeltaCoder' instance.\n",
      "  vars, attrs, coord_names = xr.conventions.decode_cf_variables(\n",
      "Ignoring index file '/home/au472091/OneDrive/au/projects/pam_bats/analysis/data/weather/precip/era5_precip_2024_11.grib.5b7b6.idx' older than GRIB file\n"
     ]
    },
    {
     "name": "stdout",
     "output_type": "stream",
     "text": [
      "reading era5_precip_2024_11.grib\n"
     ]
    },
    {
     "name": "stderr",
     "output_type": "stream",
     "text": [
      "/home/au472091/venv/lib/python3.12/site-packages/cfgrib/xarray_plugin.py:131: FutureWarning: In a future version of xarray decode_timedelta will default to False rather than None. To silence this warning, set decode_timedelta to True, False, or a 'CFTimedeltaCoder' instance.\n",
      "  vars, attrs, coord_names = xr.conventions.decode_cf_variables(\n"
     ]
    },
    {
     "name": "stdout",
     "output_type": "stream",
     "text": [
      "reading era5_precip_2024_12.grib\n"
     ]
    },
    {
     "name": "stderr",
     "output_type": "stream",
     "text": [
      "/home/au472091/venv/lib/python3.12/site-packages/cfgrib/xarray_plugin.py:131: FutureWarning: In a future version of xarray decode_timedelta will default to False rather than None. To silence this warning, set decode_timedelta to True, False, or a 'CFTimedeltaCoder' instance.\n",
      "  vars, attrs, coord_names = xr.conventions.decode_cf_variables(\n"
     ]
    },
    {
     "name": "stdout",
     "output_type": "stream",
     "text": [
      "reading era5_precip_2025_01.grib\n"
     ]
    },
    {
     "name": "stderr",
     "output_type": "stream",
     "text": [
      "/home/au472091/venv/lib/python3.12/site-packages/cfgrib/xarray_plugin.py:131: FutureWarning: In a future version of xarray decode_timedelta will default to False rather than None. To silence this warning, set decode_timedelta to True, False, or a 'CFTimedeltaCoder' instance.\n",
      "  vars, attrs, coord_names = xr.conventions.decode_cf_variables(\n"
     ]
    },
    {
     "name": "stdout",
     "output_type": "stream",
     "text": [
      "reading era5_precip_2025_02.grib\n"
     ]
    },
    {
     "name": "stderr",
     "output_type": "stream",
     "text": [
      "/home/au472091/venv/lib/python3.12/site-packages/cfgrib/xarray_plugin.py:131: FutureWarning: In a future version of xarray decode_timedelta will default to False rather than None. To silence this warning, set decode_timedelta to True, False, or a 'CFTimedeltaCoder' instance.\n",
      "  vars, attrs, coord_names = xr.conventions.decode_cf_variables(\n"
     ]
    },
    {
     "name": "stdout",
     "output_type": "stream",
     "text": [
      "reading era5_precip_2025_03.grib\n"
     ]
    },
    {
     "name": "stderr",
     "output_type": "stream",
     "text": [
      "/home/au472091/venv/lib/python3.12/site-packages/cfgrib/xarray_plugin.py:131: FutureWarning: In a future version of xarray decode_timedelta will default to False rather than None. To silence this warning, set decode_timedelta to True, False, or a 'CFTimedeltaCoder' instance.\n",
      "  vars, attrs, coord_names = xr.conventions.decode_cf_variables(\n"
     ]
    },
    {
     "name": "stdout",
     "output_type": "stream",
     "text": [
      "reading era5_precip_2025_04.grib\n"
     ]
    },
    {
     "name": "stderr",
     "output_type": "stream",
     "text": [
      "/home/au472091/venv/lib/python3.12/site-packages/cfgrib/xarray_plugin.py:131: FutureWarning: In a future version of xarray decode_timedelta will default to False rather than None. To silence this warning, set decode_timedelta to True, False, or a 'CFTimedeltaCoder' instance.\n",
      "  vars, attrs, coord_names = xr.conventions.decode_cf_variables(\n",
      "Ignoring index file '/home/au472091/OneDrive/au/projects/pam_bats/analysis/data/weather/cloud_coverage/era5_cloud_coverage_2023_01.grib.5b7b6.idx' older than GRIB file\n"
     ]
    },
    {
     "name": "stdout",
     "output_type": "stream",
     "text": [
      "reading era5_cloud_coverage_2023_01.grib\n"
     ]
    },
    {
     "name": "stderr",
     "output_type": "stream",
     "text": [
      "/home/au472091/venv/lib/python3.12/site-packages/cfgrib/xarray_plugin.py:131: FutureWarning: In a future version of xarray decode_timedelta will default to False rather than None. To silence this warning, set decode_timedelta to True, False, or a 'CFTimedeltaCoder' instance.\n",
      "  vars, attrs, coord_names = xr.conventions.decode_cf_variables(\n",
      "/tmp/ipykernel_1620840/3401802185.py:44: FutureWarning: The behavior of DataFrame concatenation with empty or all-NA entries is deprecated. In a future version, this will no longer exclude empty or all-NA columns when determining the result dtypes. To retain the old behavior, exclude the relevant entries before the concat operation.\n",
      "  outdf[count]=pd.concat([outdf[count], out], axis=0, ignore_index=True)\n",
      "/tmp/ipykernel_1620840/3401802185.py:44: FutureWarning: The behavior of DataFrame concatenation with empty or all-NA entries is deprecated. In a future version, this will no longer exclude empty or all-NA columns when determining the result dtypes. To retain the old behavior, exclude the relevant entries before the concat operation.\n",
      "  outdf[count]=pd.concat([outdf[count], out], axis=0, ignore_index=True)\n",
      "/tmp/ipykernel_1620840/3401802185.py:44: FutureWarning: The behavior of DataFrame concatenation with empty or all-NA entries is deprecated. In a future version, this will no longer exclude empty or all-NA columns when determining the result dtypes. To retain the old behavior, exclude the relevant entries before the concat operation.\n",
      "  outdf[count]=pd.concat([outdf[count], out], axis=0, ignore_index=True)\n",
      "/tmp/ipykernel_1620840/3401802185.py:44: FutureWarning: The behavior of DataFrame concatenation with empty or all-NA entries is deprecated. In a future version, this will no longer exclude empty or all-NA columns when determining the result dtypes. To retain the old behavior, exclude the relevant entries before the concat operation.\n",
      "  outdf[count]=pd.concat([outdf[count], out], axis=0, ignore_index=True)\n",
      "/tmp/ipykernel_1620840/3401802185.py:44: FutureWarning: The behavior of DataFrame concatenation with empty or all-NA entries is deprecated. In a future version, this will no longer exclude empty or all-NA columns when determining the result dtypes. To retain the old behavior, exclude the relevant entries before the concat operation.\n",
      "  outdf[count]=pd.concat([outdf[count], out], axis=0, ignore_index=True)\n",
      "/tmp/ipykernel_1620840/3401802185.py:44: FutureWarning: The behavior of DataFrame concatenation with empty or all-NA entries is deprecated. In a future version, this will no longer exclude empty or all-NA columns when determining the result dtypes. To retain the old behavior, exclude the relevant entries before the concat operation.\n",
      "  outdf[count]=pd.concat([outdf[count], out], axis=0, ignore_index=True)\n",
      "/tmp/ipykernel_1620840/3401802185.py:44: FutureWarning: The behavior of DataFrame concatenation with empty or all-NA entries is deprecated. In a future version, this will no longer exclude empty or all-NA columns when determining the result dtypes. To retain the old behavior, exclude the relevant entries before the concat operation.\n",
      "  outdf[count]=pd.concat([outdf[count], out], axis=0, ignore_index=True)\n",
      "/tmp/ipykernel_1620840/3401802185.py:44: FutureWarning: The behavior of DataFrame concatenation with empty or all-NA entries is deprecated. In a future version, this will no longer exclude empty or all-NA columns when determining the result dtypes. To retain the old behavior, exclude the relevant entries before the concat operation.\n",
      "  outdf[count]=pd.concat([outdf[count], out], axis=0, ignore_index=True)\n",
      "/tmp/ipykernel_1620840/3401802185.py:44: FutureWarning: The behavior of DataFrame concatenation with empty or all-NA entries is deprecated. In a future version, this will no longer exclude empty or all-NA columns when determining the result dtypes. To retain the old behavior, exclude the relevant entries before the concat operation.\n",
      "  outdf[count]=pd.concat([outdf[count], out], axis=0, ignore_index=True)\n",
      "/tmp/ipykernel_1620840/3401802185.py:44: FutureWarning: The behavior of DataFrame concatenation with empty or all-NA entries is deprecated. In a future version, this will no longer exclude empty or all-NA columns when determining the result dtypes. To retain the old behavior, exclude the relevant entries before the concat operation.\n",
      "  outdf[count]=pd.concat([outdf[count], out], axis=0, ignore_index=True)\n",
      "/tmp/ipykernel_1620840/3401802185.py:44: FutureWarning: The behavior of DataFrame concatenation with empty or all-NA entries is deprecated. In a future version, this will no longer exclude empty or all-NA columns when determining the result dtypes. To retain the old behavior, exclude the relevant entries before the concat operation.\n",
      "  outdf[count]=pd.concat([outdf[count], out], axis=0, ignore_index=True)\n",
      "/tmp/ipykernel_1620840/3401802185.py:44: FutureWarning: The behavior of DataFrame concatenation with empty or all-NA entries is deprecated. In a future version, this will no longer exclude empty or all-NA columns when determining the result dtypes. To retain the old behavior, exclude the relevant entries before the concat operation.\n",
      "  outdf[count]=pd.concat([outdf[count], out], axis=0, ignore_index=True)\n",
      "/tmp/ipykernel_1620840/3401802185.py:44: FutureWarning: The behavior of DataFrame concatenation with empty or all-NA entries is deprecated. In a future version, this will no longer exclude empty or all-NA columns when determining the result dtypes. To retain the old behavior, exclude the relevant entries before the concat operation.\n",
      "  outdf[count]=pd.concat([outdf[count], out], axis=0, ignore_index=True)\n",
      "/tmp/ipykernel_1620840/3401802185.py:44: FutureWarning: The behavior of DataFrame concatenation with empty or all-NA entries is deprecated. In a future version, this will no longer exclude empty or all-NA columns when determining the result dtypes. To retain the old behavior, exclude the relevant entries before the concat operation.\n",
      "  outdf[count]=pd.concat([outdf[count], out], axis=0, ignore_index=True)\n",
      "/tmp/ipykernel_1620840/3401802185.py:44: FutureWarning: The behavior of DataFrame concatenation with empty or all-NA entries is deprecated. In a future version, this will no longer exclude empty or all-NA columns when determining the result dtypes. To retain the old behavior, exclude the relevant entries before the concat operation.\n",
      "  outdf[count]=pd.concat([outdf[count], out], axis=0, ignore_index=True)\n",
      "/tmp/ipykernel_1620840/3401802185.py:44: FutureWarning: The behavior of DataFrame concatenation with empty or all-NA entries is deprecated. In a future version, this will no longer exclude empty or all-NA columns when determining the result dtypes. To retain the old behavior, exclude the relevant entries before the concat operation.\n",
      "  outdf[count]=pd.concat([outdf[count], out], axis=0, ignore_index=True)\n",
      "/tmp/ipykernel_1620840/3401802185.py:44: FutureWarning: The behavior of DataFrame concatenation with empty or all-NA entries is deprecated. In a future version, this will no longer exclude empty or all-NA columns when determining the result dtypes. To retain the old behavior, exclude the relevant entries before the concat operation.\n",
      "  outdf[count]=pd.concat([outdf[count], out], axis=0, ignore_index=True)\n",
      "/tmp/ipykernel_1620840/3401802185.py:44: FutureWarning: The behavior of DataFrame concatenation with empty or all-NA entries is deprecated. In a future version, this will no longer exclude empty or all-NA columns when determining the result dtypes. To retain the old behavior, exclude the relevant entries before the concat operation.\n",
      "  outdf[count]=pd.concat([outdf[count], out], axis=0, ignore_index=True)\n",
      "/tmp/ipykernel_1620840/3401802185.py:44: FutureWarning: The behavior of DataFrame concatenation with empty or all-NA entries is deprecated. In a future version, this will no longer exclude empty or all-NA columns when determining the result dtypes. To retain the old behavior, exclude the relevant entries before the concat operation.\n",
      "  outdf[count]=pd.concat([outdf[count], out], axis=0, ignore_index=True)\n",
      "/tmp/ipykernel_1620840/3401802185.py:44: FutureWarning: The behavior of DataFrame concatenation with empty or all-NA entries is deprecated. In a future version, this will no longer exclude empty or all-NA columns when determining the result dtypes. To retain the old behavior, exclude the relevant entries before the concat operation.\n",
      "  outdf[count]=pd.concat([outdf[count], out], axis=0, ignore_index=True)\n",
      "/tmp/ipykernel_1620840/3401802185.py:44: FutureWarning: The behavior of DataFrame concatenation with empty or all-NA entries is deprecated. In a future version, this will no longer exclude empty or all-NA columns when determining the result dtypes. To retain the old behavior, exclude the relevant entries before the concat operation.\n",
      "  outdf[count]=pd.concat([outdf[count], out], axis=0, ignore_index=True)\n",
      "/tmp/ipykernel_1620840/3401802185.py:44: FutureWarning: The behavior of DataFrame concatenation with empty or all-NA entries is deprecated. In a future version, this will no longer exclude empty or all-NA columns when determining the result dtypes. To retain the old behavior, exclude the relevant entries before the concat operation.\n",
      "  outdf[count]=pd.concat([outdf[count], out], axis=0, ignore_index=True)\n",
      "/tmp/ipykernel_1620840/3401802185.py:44: FutureWarning: The behavior of DataFrame concatenation with empty or all-NA entries is deprecated. In a future version, this will no longer exclude empty or all-NA columns when determining the result dtypes. To retain the old behavior, exclude the relevant entries before the concat operation.\n",
      "  outdf[count]=pd.concat([outdf[count], out], axis=0, ignore_index=True)\n",
      "/tmp/ipykernel_1620840/3401802185.py:44: FutureWarning: The behavior of DataFrame concatenation with empty or all-NA entries is deprecated. In a future version, this will no longer exclude empty or all-NA columns when determining the result dtypes. To retain the old behavior, exclude the relevant entries before the concat operation.\n",
      "  outdf[count]=pd.concat([outdf[count], out], axis=0, ignore_index=True)\n",
      "/tmp/ipykernel_1620840/3401802185.py:44: FutureWarning: The behavior of DataFrame concatenation with empty or all-NA entries is deprecated. In a future version, this will no longer exclude empty or all-NA columns when determining the result dtypes. To retain the old behavior, exclude the relevant entries before the concat operation.\n",
      "  outdf[count]=pd.concat([outdf[count], out], axis=0, ignore_index=True)\n",
      "/tmp/ipykernel_1620840/3401802185.py:44: FutureWarning: The behavior of DataFrame concatenation with empty or all-NA entries is deprecated. In a future version, this will no longer exclude empty or all-NA columns when determining the result dtypes. To retain the old behavior, exclude the relevant entries before the concat operation.\n",
      "  outdf[count]=pd.concat([outdf[count], out], axis=0, ignore_index=True)\n",
      "/tmp/ipykernel_1620840/3401802185.py:44: FutureWarning: The behavior of DataFrame concatenation with empty or all-NA entries is deprecated. In a future version, this will no longer exclude empty or all-NA columns when determining the result dtypes. To retain the old behavior, exclude the relevant entries before the concat operation.\n",
      "  outdf[count]=pd.concat([outdf[count], out], axis=0, ignore_index=True)\n",
      "/tmp/ipykernel_1620840/3401802185.py:44: FutureWarning: The behavior of DataFrame concatenation with empty or all-NA entries is deprecated. In a future version, this will no longer exclude empty or all-NA columns when determining the result dtypes. To retain the old behavior, exclude the relevant entries before the concat operation.\n",
      "  outdf[count]=pd.concat([outdf[count], out], axis=0, ignore_index=True)\n",
      "/tmp/ipykernel_1620840/3401802185.py:44: FutureWarning: The behavior of DataFrame concatenation with empty or all-NA entries is deprecated. In a future version, this will no longer exclude empty or all-NA columns when determining the result dtypes. To retain the old behavior, exclude the relevant entries before the concat operation.\n",
      "  outdf[count]=pd.concat([outdf[count], out], axis=0, ignore_index=True)\n",
      "/tmp/ipykernel_1620840/3401802185.py:44: FutureWarning: The behavior of DataFrame concatenation with empty or all-NA entries is deprecated. In a future version, this will no longer exclude empty or all-NA columns when determining the result dtypes. To retain the old behavior, exclude the relevant entries before the concat operation.\n",
      "  outdf[count]=pd.concat([outdf[count], out], axis=0, ignore_index=True)\n",
      "/tmp/ipykernel_1620840/3401802185.py:44: FutureWarning: The behavior of DataFrame concatenation with empty or all-NA entries is deprecated. In a future version, this will no longer exclude empty or all-NA columns when determining the result dtypes. To retain the old behavior, exclude the relevant entries before the concat operation.\n",
      "  outdf[count]=pd.concat([outdf[count], out], axis=0, ignore_index=True)\n",
      "/tmp/ipykernel_1620840/3401802185.py:44: FutureWarning: The behavior of DataFrame concatenation with empty or all-NA entries is deprecated. In a future version, this will no longer exclude empty or all-NA columns when determining the result dtypes. To retain the old behavior, exclude the relevant entries before the concat operation.\n",
      "  outdf[count]=pd.concat([outdf[count], out], axis=0, ignore_index=True)\n",
      "/tmp/ipykernel_1620840/3401802185.py:44: FutureWarning: The behavior of DataFrame concatenation with empty or all-NA entries is deprecated. In a future version, this will no longer exclude empty or all-NA columns when determining the result dtypes. To retain the old behavior, exclude the relevant entries before the concat operation.\n",
      "  outdf[count]=pd.concat([outdf[count], out], axis=0, ignore_index=True)\n",
      "/tmp/ipykernel_1620840/3401802185.py:44: FutureWarning: The behavior of DataFrame concatenation with empty or all-NA entries is deprecated. In a future version, this will no longer exclude empty or all-NA columns when determining the result dtypes. To retain the old behavior, exclude the relevant entries before the concat operation.\n",
      "  outdf[count]=pd.concat([outdf[count], out], axis=0, ignore_index=True)\n",
      "/tmp/ipykernel_1620840/3401802185.py:44: FutureWarning: The behavior of DataFrame concatenation with empty or all-NA entries is deprecated. In a future version, this will no longer exclude empty or all-NA columns when determining the result dtypes. To retain the old behavior, exclude the relevant entries before the concat operation.\n",
      "  outdf[count]=pd.concat([outdf[count], out], axis=0, ignore_index=True)\n",
      "/tmp/ipykernel_1620840/3401802185.py:44: FutureWarning: The behavior of DataFrame concatenation with empty or all-NA entries is deprecated. In a future version, this will no longer exclude empty or all-NA columns when determining the result dtypes. To retain the old behavior, exclude the relevant entries before the concat operation.\n",
      "  outdf[count]=pd.concat([outdf[count], out], axis=0, ignore_index=True)\n",
      "/tmp/ipykernel_1620840/3401802185.py:44: FutureWarning: The behavior of DataFrame concatenation with empty or all-NA entries is deprecated. In a future version, this will no longer exclude empty or all-NA columns when determining the result dtypes. To retain the old behavior, exclude the relevant entries before the concat operation.\n",
      "  outdf[count]=pd.concat([outdf[count], out], axis=0, ignore_index=True)\n",
      "/tmp/ipykernel_1620840/3401802185.py:44: FutureWarning: The behavior of DataFrame concatenation with empty or all-NA entries is deprecated. In a future version, this will no longer exclude empty or all-NA columns when determining the result dtypes. To retain the old behavior, exclude the relevant entries before the concat operation.\n",
      "  outdf[count]=pd.concat([outdf[count], out], axis=0, ignore_index=True)\n",
      "/tmp/ipykernel_1620840/3401802185.py:44: FutureWarning: The behavior of DataFrame concatenation with empty or all-NA entries is deprecated. In a future version, this will no longer exclude empty or all-NA columns when determining the result dtypes. To retain the old behavior, exclude the relevant entries before the concat operation.\n",
      "  outdf[count]=pd.concat([outdf[count], out], axis=0, ignore_index=True)\n",
      "/tmp/ipykernel_1620840/3401802185.py:44: FutureWarning: The behavior of DataFrame concatenation with empty or all-NA entries is deprecated. In a future version, this will no longer exclude empty or all-NA columns when determining the result dtypes. To retain the old behavior, exclude the relevant entries before the concat operation.\n",
      "  outdf[count]=pd.concat([outdf[count], out], axis=0, ignore_index=True)\n",
      "/tmp/ipykernel_1620840/3401802185.py:44: FutureWarning: The behavior of DataFrame concatenation with empty or all-NA entries is deprecated. In a future version, this will no longer exclude empty or all-NA columns when determining the result dtypes. To retain the old behavior, exclude the relevant entries before the concat operation.\n",
      "  outdf[count]=pd.concat([outdf[count], out], axis=0, ignore_index=True)\n",
      "/tmp/ipykernel_1620840/3401802185.py:44: FutureWarning: The behavior of DataFrame concatenation with empty or all-NA entries is deprecated. In a future version, this will no longer exclude empty or all-NA columns when determining the result dtypes. To retain the old behavior, exclude the relevant entries before the concat operation.\n",
      "  outdf[count]=pd.concat([outdf[count], out], axis=0, ignore_index=True)\n",
      "/tmp/ipykernel_1620840/3401802185.py:44: FutureWarning: The behavior of DataFrame concatenation with empty or all-NA entries is deprecated. In a future version, this will no longer exclude empty or all-NA columns when determining the result dtypes. To retain the old behavior, exclude the relevant entries before the concat operation.\n",
      "  outdf[count]=pd.concat([outdf[count], out], axis=0, ignore_index=True)\n",
      "/tmp/ipykernel_1620840/3401802185.py:44: FutureWarning: The behavior of DataFrame concatenation with empty or all-NA entries is deprecated. In a future version, this will no longer exclude empty or all-NA columns when determining the result dtypes. To retain the old behavior, exclude the relevant entries before the concat operation.\n",
      "  outdf[count]=pd.concat([outdf[count], out], axis=0, ignore_index=True)\n",
      "/tmp/ipykernel_1620840/3401802185.py:44: FutureWarning: The behavior of DataFrame concatenation with empty or all-NA entries is deprecated. In a future version, this will no longer exclude empty or all-NA columns when determining the result dtypes. To retain the old behavior, exclude the relevant entries before the concat operation.\n",
      "  outdf[count]=pd.concat([outdf[count], out], axis=0, ignore_index=True)\n",
      "/tmp/ipykernel_1620840/3401802185.py:44: FutureWarning: The behavior of DataFrame concatenation with empty or all-NA entries is deprecated. In a future version, this will no longer exclude empty or all-NA columns when determining the result dtypes. To retain the old behavior, exclude the relevant entries before the concat operation.\n",
      "  outdf[count]=pd.concat([outdf[count], out], axis=0, ignore_index=True)\n",
      "/tmp/ipykernel_1620840/3401802185.py:44: FutureWarning: The behavior of DataFrame concatenation with empty or all-NA entries is deprecated. In a future version, this will no longer exclude empty or all-NA columns when determining the result dtypes. To retain the old behavior, exclude the relevant entries before the concat operation.\n",
      "  outdf[count]=pd.concat([outdf[count], out], axis=0, ignore_index=True)\n",
      "/tmp/ipykernel_1620840/3401802185.py:44: FutureWarning: The behavior of DataFrame concatenation with empty or all-NA entries is deprecated. In a future version, this will no longer exclude empty or all-NA columns when determining the result dtypes. To retain the old behavior, exclude the relevant entries before the concat operation.\n",
      "  outdf[count]=pd.concat([outdf[count], out], axis=0, ignore_index=True)\n",
      "/tmp/ipykernel_1620840/3401802185.py:44: FutureWarning: The behavior of DataFrame concatenation with empty or all-NA entries is deprecated. In a future version, this will no longer exclude empty or all-NA columns when determining the result dtypes. To retain the old behavior, exclude the relevant entries before the concat operation.\n",
      "  outdf[count]=pd.concat([outdf[count], out], axis=0, ignore_index=True)\n",
      "/tmp/ipykernel_1620840/3401802185.py:44: FutureWarning: The behavior of DataFrame concatenation with empty or all-NA entries is deprecated. In a future version, this will no longer exclude empty or all-NA columns when determining the result dtypes. To retain the old behavior, exclude the relevant entries before the concat operation.\n",
      "  outdf[count]=pd.concat([outdf[count], out], axis=0, ignore_index=True)\n",
      "/tmp/ipykernel_1620840/3401802185.py:44: FutureWarning: The behavior of DataFrame concatenation with empty or all-NA entries is deprecated. In a future version, this will no longer exclude empty or all-NA columns when determining the result dtypes. To retain the old behavior, exclude the relevant entries before the concat operation.\n",
      "  outdf[count]=pd.concat([outdf[count], out], axis=0, ignore_index=True)\n",
      "/tmp/ipykernel_1620840/3401802185.py:44: FutureWarning: The behavior of DataFrame concatenation with empty or all-NA entries is deprecated. In a future version, this will no longer exclude empty or all-NA columns when determining the result dtypes. To retain the old behavior, exclude the relevant entries before the concat operation.\n",
      "  outdf[count]=pd.concat([outdf[count], out], axis=0, ignore_index=True)\n",
      "/tmp/ipykernel_1620840/3401802185.py:44: FutureWarning: The behavior of DataFrame concatenation with empty or all-NA entries is deprecated. In a future version, this will no longer exclude empty or all-NA columns when determining the result dtypes. To retain the old behavior, exclude the relevant entries before the concat operation.\n",
      "  outdf[count]=pd.concat([outdf[count], out], axis=0, ignore_index=True)\n",
      "/tmp/ipykernel_1620840/3401802185.py:44: FutureWarning: The behavior of DataFrame concatenation with empty or all-NA entries is deprecated. In a future version, this will no longer exclude empty or all-NA columns when determining the result dtypes. To retain the old behavior, exclude the relevant entries before the concat operation.\n",
      "  outdf[count]=pd.concat([outdf[count], out], axis=0, ignore_index=True)\n",
      "/tmp/ipykernel_1620840/3401802185.py:44: FutureWarning: The behavior of DataFrame concatenation with empty or all-NA entries is deprecated. In a future version, this will no longer exclude empty or all-NA columns when determining the result dtypes. To retain the old behavior, exclude the relevant entries before the concat operation.\n",
      "  outdf[count]=pd.concat([outdf[count], out], axis=0, ignore_index=True)\n",
      "/tmp/ipykernel_1620840/3401802185.py:44: FutureWarning: The behavior of DataFrame concatenation with empty or all-NA entries is deprecated. In a future version, this will no longer exclude empty or all-NA columns when determining the result dtypes. To retain the old behavior, exclude the relevant entries before the concat operation.\n",
      "  outdf[count]=pd.concat([outdf[count], out], axis=0, ignore_index=True)\n",
      "/tmp/ipykernel_1620840/3401802185.py:44: FutureWarning: The behavior of DataFrame concatenation with empty or all-NA entries is deprecated. In a future version, this will no longer exclude empty or all-NA columns when determining the result dtypes. To retain the old behavior, exclude the relevant entries before the concat operation.\n",
      "  outdf[count]=pd.concat([outdf[count], out], axis=0, ignore_index=True)\n",
      "Ignoring index file '/home/au472091/OneDrive/au/projects/pam_bats/analysis/data/weather/cloud_coverage/era5_cloud_coverage_2023_02.grib.5b7b6.idx' older than GRIB file\n"
     ]
    },
    {
     "name": "stdout",
     "output_type": "stream",
     "text": [
      "reading era5_cloud_coverage_2023_02.grib\n"
     ]
    },
    {
     "name": "stderr",
     "output_type": "stream",
     "text": [
      "/home/au472091/venv/lib/python3.12/site-packages/cfgrib/xarray_plugin.py:131: FutureWarning: In a future version of xarray decode_timedelta will default to False rather than None. To silence this warning, set decode_timedelta to True, False, or a 'CFTimedeltaCoder' instance.\n",
      "  vars, attrs, coord_names = xr.conventions.decode_cf_variables(\n",
      "Ignoring index file '/home/au472091/OneDrive/au/projects/pam_bats/analysis/data/weather/cloud_coverage/era5_cloud_coverage_2023_03.grib.5b7b6.idx' older than GRIB file\n"
     ]
    },
    {
     "name": "stdout",
     "output_type": "stream",
     "text": [
      "reading era5_cloud_coverage_2023_03.grib\n"
     ]
    },
    {
     "name": "stderr",
     "output_type": "stream",
     "text": [
      "/home/au472091/venv/lib/python3.12/site-packages/cfgrib/xarray_plugin.py:131: FutureWarning: In a future version of xarray decode_timedelta will default to False rather than None. To silence this warning, set decode_timedelta to True, False, or a 'CFTimedeltaCoder' instance.\n",
      "  vars, attrs, coord_names = xr.conventions.decode_cf_variables(\n",
      "Ignoring index file '/home/au472091/OneDrive/au/projects/pam_bats/analysis/data/weather/cloud_coverage/era5_cloud_coverage_2023_04.grib.5b7b6.idx' older than GRIB file\n"
     ]
    },
    {
     "name": "stdout",
     "output_type": "stream",
     "text": [
      "reading era5_cloud_coverage_2023_04.grib\n"
     ]
    },
    {
     "name": "stderr",
     "output_type": "stream",
     "text": [
      "/home/au472091/venv/lib/python3.12/site-packages/cfgrib/xarray_plugin.py:131: FutureWarning: In a future version of xarray decode_timedelta will default to False rather than None. To silence this warning, set decode_timedelta to True, False, or a 'CFTimedeltaCoder' instance.\n",
      "  vars, attrs, coord_names = xr.conventions.decode_cf_variables(\n",
      "Ignoring index file '/home/au472091/OneDrive/au/projects/pam_bats/analysis/data/weather/cloud_coverage/era5_cloud_coverage_2023_05.grib.5b7b6.idx' older than GRIB file\n"
     ]
    },
    {
     "name": "stdout",
     "output_type": "stream",
     "text": [
      "reading era5_cloud_coverage_2023_05.grib\n"
     ]
    },
    {
     "name": "stderr",
     "output_type": "stream",
     "text": [
      "/home/au472091/venv/lib/python3.12/site-packages/cfgrib/xarray_plugin.py:131: FutureWarning: In a future version of xarray decode_timedelta will default to False rather than None. To silence this warning, set decode_timedelta to True, False, or a 'CFTimedeltaCoder' instance.\n",
      "  vars, attrs, coord_names = xr.conventions.decode_cf_variables(\n",
      "Ignoring index file '/home/au472091/OneDrive/au/projects/pam_bats/analysis/data/weather/cloud_coverage/era5_cloud_coverage_2023_06.grib.5b7b6.idx' older than GRIB file\n"
     ]
    },
    {
     "name": "stdout",
     "output_type": "stream",
     "text": [
      "reading era5_cloud_coverage_2023_06.grib\n"
     ]
    },
    {
     "name": "stderr",
     "output_type": "stream",
     "text": [
      "/home/au472091/venv/lib/python3.12/site-packages/cfgrib/xarray_plugin.py:131: FutureWarning: In a future version of xarray decode_timedelta will default to False rather than None. To silence this warning, set decode_timedelta to True, False, or a 'CFTimedeltaCoder' instance.\n",
      "  vars, attrs, coord_names = xr.conventions.decode_cf_variables(\n",
      "Ignoring index file '/home/au472091/OneDrive/au/projects/pam_bats/analysis/data/weather/cloud_coverage/era5_cloud_coverage_2023_07.grib.5b7b6.idx' older than GRIB file\n"
     ]
    },
    {
     "name": "stdout",
     "output_type": "stream",
     "text": [
      "reading era5_cloud_coverage_2023_07.grib\n"
     ]
    },
    {
     "name": "stderr",
     "output_type": "stream",
     "text": [
      "/home/au472091/venv/lib/python3.12/site-packages/cfgrib/xarray_plugin.py:131: FutureWarning: In a future version of xarray decode_timedelta will default to False rather than None. To silence this warning, set decode_timedelta to True, False, or a 'CFTimedeltaCoder' instance.\n",
      "  vars, attrs, coord_names = xr.conventions.decode_cf_variables(\n",
      "Ignoring index file '/home/au472091/OneDrive/au/projects/pam_bats/analysis/data/weather/cloud_coverage/era5_cloud_coverage_2023_08.grib.5b7b6.idx' older than GRIB file\n"
     ]
    },
    {
     "name": "stdout",
     "output_type": "stream",
     "text": [
      "reading era5_cloud_coverage_2023_08.grib\n"
     ]
    },
    {
     "name": "stderr",
     "output_type": "stream",
     "text": [
      "/home/au472091/venv/lib/python3.12/site-packages/cfgrib/xarray_plugin.py:131: FutureWarning: In a future version of xarray decode_timedelta will default to False rather than None. To silence this warning, set decode_timedelta to True, False, or a 'CFTimedeltaCoder' instance.\n",
      "  vars, attrs, coord_names = xr.conventions.decode_cf_variables(\n",
      "Ignoring index file '/home/au472091/OneDrive/au/projects/pam_bats/analysis/data/weather/cloud_coverage/era5_cloud_coverage_2023_09.grib.5b7b6.idx' older than GRIB file\n"
     ]
    },
    {
     "name": "stdout",
     "output_type": "stream",
     "text": [
      "reading era5_cloud_coverage_2023_09.grib\n"
     ]
    },
    {
     "name": "stderr",
     "output_type": "stream",
     "text": [
      "/home/au472091/venv/lib/python3.12/site-packages/cfgrib/xarray_plugin.py:131: FutureWarning: In a future version of xarray decode_timedelta will default to False rather than None. To silence this warning, set decode_timedelta to True, False, or a 'CFTimedeltaCoder' instance.\n",
      "  vars, attrs, coord_names = xr.conventions.decode_cf_variables(\n",
      "Ignoring index file '/home/au472091/OneDrive/au/projects/pam_bats/analysis/data/weather/cloud_coverage/era5_cloud_coverage_2023_10.grib.5b7b6.idx' older than GRIB file\n"
     ]
    },
    {
     "name": "stdout",
     "output_type": "stream",
     "text": [
      "reading era5_cloud_coverage_2023_10.grib\n"
     ]
    },
    {
     "name": "stderr",
     "output_type": "stream",
     "text": [
      "/home/au472091/venv/lib/python3.12/site-packages/cfgrib/xarray_plugin.py:131: FutureWarning: In a future version of xarray decode_timedelta will default to False rather than None. To silence this warning, set decode_timedelta to True, False, or a 'CFTimedeltaCoder' instance.\n",
      "  vars, attrs, coord_names = xr.conventions.decode_cf_variables(\n",
      "Ignoring index file '/home/au472091/OneDrive/au/projects/pam_bats/analysis/data/weather/cloud_coverage/era5_cloud_coverage_2023_11.grib.5b7b6.idx' older than GRIB file\n"
     ]
    },
    {
     "name": "stdout",
     "output_type": "stream",
     "text": [
      "reading era5_cloud_coverage_2023_11.grib\n"
     ]
    },
    {
     "name": "stderr",
     "output_type": "stream",
     "text": [
      "/home/au472091/venv/lib/python3.12/site-packages/cfgrib/xarray_plugin.py:131: FutureWarning: In a future version of xarray decode_timedelta will default to False rather than None. To silence this warning, set decode_timedelta to True, False, or a 'CFTimedeltaCoder' instance.\n",
      "  vars, attrs, coord_names = xr.conventions.decode_cf_variables(\n",
      "Ignoring index file '/home/au472091/OneDrive/au/projects/pam_bats/analysis/data/weather/cloud_coverage/era5_cloud_coverage_2023_12.grib.5b7b6.idx' older than GRIB file\n"
     ]
    },
    {
     "name": "stdout",
     "output_type": "stream",
     "text": [
      "reading era5_cloud_coverage_2023_12.grib\n"
     ]
    },
    {
     "name": "stderr",
     "output_type": "stream",
     "text": [
      "/home/au472091/venv/lib/python3.12/site-packages/cfgrib/xarray_plugin.py:131: FutureWarning: In a future version of xarray decode_timedelta will default to False rather than None. To silence this warning, set decode_timedelta to True, False, or a 'CFTimedeltaCoder' instance.\n",
      "  vars, attrs, coord_names = xr.conventions.decode_cf_variables(\n",
      "Ignoring index file '/home/au472091/OneDrive/au/projects/pam_bats/analysis/data/weather/cloud_coverage/era5_cloud_coverage_2024_01.grib.5b7b6.idx' older than GRIB file\n"
     ]
    },
    {
     "name": "stdout",
     "output_type": "stream",
     "text": [
      "reading era5_cloud_coverage_2024_01.grib\n"
     ]
    },
    {
     "name": "stderr",
     "output_type": "stream",
     "text": [
      "/home/au472091/venv/lib/python3.12/site-packages/cfgrib/xarray_plugin.py:131: FutureWarning: In a future version of xarray decode_timedelta will default to False rather than None. To silence this warning, set decode_timedelta to True, False, or a 'CFTimedeltaCoder' instance.\n",
      "  vars, attrs, coord_names = xr.conventions.decode_cf_variables(\n",
      "Ignoring index file '/home/au472091/OneDrive/au/projects/pam_bats/analysis/data/weather/cloud_coverage/era5_cloud_coverage_2024_02.grib.5b7b6.idx' older than GRIB file\n"
     ]
    },
    {
     "name": "stdout",
     "output_type": "stream",
     "text": [
      "reading era5_cloud_coverage_2024_02.grib\n"
     ]
    },
    {
     "name": "stderr",
     "output_type": "stream",
     "text": [
      "/home/au472091/venv/lib/python3.12/site-packages/cfgrib/xarray_plugin.py:131: FutureWarning: In a future version of xarray decode_timedelta will default to False rather than None. To silence this warning, set decode_timedelta to True, False, or a 'CFTimedeltaCoder' instance.\n",
      "  vars, attrs, coord_names = xr.conventions.decode_cf_variables(\n",
      "Ignoring index file '/home/au472091/OneDrive/au/projects/pam_bats/analysis/data/weather/cloud_coverage/era5_cloud_coverage_2024_03.grib.5b7b6.idx' older than GRIB file\n"
     ]
    },
    {
     "name": "stdout",
     "output_type": "stream",
     "text": [
      "reading era5_cloud_coverage_2024_03.grib\n"
     ]
    },
    {
     "name": "stderr",
     "output_type": "stream",
     "text": [
      "/home/au472091/venv/lib/python3.12/site-packages/cfgrib/xarray_plugin.py:131: FutureWarning: In a future version of xarray decode_timedelta will default to False rather than None. To silence this warning, set decode_timedelta to True, False, or a 'CFTimedeltaCoder' instance.\n",
      "  vars, attrs, coord_names = xr.conventions.decode_cf_variables(\n",
      "Ignoring index file '/home/au472091/OneDrive/au/projects/pam_bats/analysis/data/weather/cloud_coverage/era5_cloud_coverage_2024_04.grib.5b7b6.idx' older than GRIB file\n"
     ]
    },
    {
     "name": "stdout",
     "output_type": "stream",
     "text": [
      "reading era5_cloud_coverage_2024_04.grib\n"
     ]
    },
    {
     "name": "stderr",
     "output_type": "stream",
     "text": [
      "/home/au472091/venv/lib/python3.12/site-packages/cfgrib/xarray_plugin.py:131: FutureWarning: In a future version of xarray decode_timedelta will default to False rather than None. To silence this warning, set decode_timedelta to True, False, or a 'CFTimedeltaCoder' instance.\n",
      "  vars, attrs, coord_names = xr.conventions.decode_cf_variables(\n",
      "Ignoring index file '/home/au472091/OneDrive/au/projects/pam_bats/analysis/data/weather/cloud_coverage/era5_cloud_coverage_2024_05.grib.5b7b6.idx' older than GRIB file\n"
     ]
    },
    {
     "name": "stdout",
     "output_type": "stream",
     "text": [
      "reading era5_cloud_coverage_2024_05.grib\n"
     ]
    },
    {
     "name": "stderr",
     "output_type": "stream",
     "text": [
      "/home/au472091/venv/lib/python3.12/site-packages/cfgrib/xarray_plugin.py:131: FutureWarning: In a future version of xarray decode_timedelta will default to False rather than None. To silence this warning, set decode_timedelta to True, False, or a 'CFTimedeltaCoder' instance.\n",
      "  vars, attrs, coord_names = xr.conventions.decode_cf_variables(\n",
      "Ignoring index file '/home/au472091/OneDrive/au/projects/pam_bats/analysis/data/weather/cloud_coverage/era5_cloud_coverage_2024_06.grib.5b7b6.idx' older than GRIB file\n"
     ]
    },
    {
     "name": "stdout",
     "output_type": "stream",
     "text": [
      "reading era5_cloud_coverage_2024_06.grib\n"
     ]
    },
    {
     "name": "stderr",
     "output_type": "stream",
     "text": [
      "/home/au472091/venv/lib/python3.12/site-packages/cfgrib/xarray_plugin.py:131: FutureWarning: In a future version of xarray decode_timedelta will default to False rather than None. To silence this warning, set decode_timedelta to True, False, or a 'CFTimedeltaCoder' instance.\n",
      "  vars, attrs, coord_names = xr.conventions.decode_cf_variables(\n",
      "Ignoring index file '/home/au472091/OneDrive/au/projects/pam_bats/analysis/data/weather/cloud_coverage/era5_cloud_coverage_2024_07.grib.5b7b6.idx' older than GRIB file\n"
     ]
    },
    {
     "name": "stdout",
     "output_type": "stream",
     "text": [
      "reading era5_cloud_coverage_2024_07.grib\n"
     ]
    },
    {
     "name": "stderr",
     "output_type": "stream",
     "text": [
      "/home/au472091/venv/lib/python3.12/site-packages/cfgrib/xarray_plugin.py:131: FutureWarning: In a future version of xarray decode_timedelta will default to False rather than None. To silence this warning, set decode_timedelta to True, False, or a 'CFTimedeltaCoder' instance.\n",
      "  vars, attrs, coord_names = xr.conventions.decode_cf_variables(\n",
      "Ignoring index file '/home/au472091/OneDrive/au/projects/pam_bats/analysis/data/weather/cloud_coverage/era5_cloud_coverage_2024_08.grib.5b7b6.idx' older than GRIB file\n"
     ]
    },
    {
     "name": "stdout",
     "output_type": "stream",
     "text": [
      "reading era5_cloud_coverage_2024_08.grib\n"
     ]
    },
    {
     "name": "stderr",
     "output_type": "stream",
     "text": [
      "/home/au472091/venv/lib/python3.12/site-packages/cfgrib/xarray_plugin.py:131: FutureWarning: In a future version of xarray decode_timedelta will default to False rather than None. To silence this warning, set decode_timedelta to True, False, or a 'CFTimedeltaCoder' instance.\n",
      "  vars, attrs, coord_names = xr.conventions.decode_cf_variables(\n",
      "Ignoring index file '/home/au472091/OneDrive/au/projects/pam_bats/analysis/data/weather/cloud_coverage/era5_cloud_coverage_2024_09.grib.5b7b6.idx' older than GRIB file\n"
     ]
    },
    {
     "name": "stdout",
     "output_type": "stream",
     "text": [
      "reading era5_cloud_coverage_2024_09.grib\n"
     ]
    },
    {
     "name": "stderr",
     "output_type": "stream",
     "text": [
      "/home/au472091/venv/lib/python3.12/site-packages/cfgrib/xarray_plugin.py:131: FutureWarning: In a future version of xarray decode_timedelta will default to False rather than None. To silence this warning, set decode_timedelta to True, False, or a 'CFTimedeltaCoder' instance.\n",
      "  vars, attrs, coord_names = xr.conventions.decode_cf_variables(\n",
      "Ignoring index file '/home/au472091/OneDrive/au/projects/pam_bats/analysis/data/weather/cloud_coverage/era5_cloud_coverage_2024_10.grib.5b7b6.idx' older than GRIB file\n"
     ]
    },
    {
     "name": "stdout",
     "output_type": "stream",
     "text": [
      "reading era5_cloud_coverage_2024_10.grib\n"
     ]
    },
    {
     "name": "stderr",
     "output_type": "stream",
     "text": [
      "/home/au472091/venv/lib/python3.12/site-packages/cfgrib/xarray_plugin.py:131: FutureWarning: In a future version of xarray decode_timedelta will default to False rather than None. To silence this warning, set decode_timedelta to True, False, or a 'CFTimedeltaCoder' instance.\n",
      "  vars, attrs, coord_names = xr.conventions.decode_cf_variables(\n",
      "Ignoring index file '/home/au472091/OneDrive/au/projects/pam_bats/analysis/data/weather/cloud_coverage/era5_cloud_coverage_2024_11.grib.5b7b6.idx' older than GRIB file\n"
     ]
    },
    {
     "name": "stdout",
     "output_type": "stream",
     "text": [
      "reading era5_cloud_coverage_2024_11.grib\n"
     ]
    },
    {
     "name": "stderr",
     "output_type": "stream",
     "text": [
      "/home/au472091/venv/lib/python3.12/site-packages/cfgrib/xarray_plugin.py:131: FutureWarning: In a future version of xarray decode_timedelta will default to False rather than None. To silence this warning, set decode_timedelta to True, False, or a 'CFTimedeltaCoder' instance.\n",
      "  vars, attrs, coord_names = xr.conventions.decode_cf_variables(\n"
     ]
    },
    {
     "name": "stdout",
     "output_type": "stream",
     "text": [
      "reading era5_cloud_coverage_2024_12.grib\n"
     ]
    },
    {
     "name": "stderr",
     "output_type": "stream",
     "text": [
      "/home/au472091/venv/lib/python3.12/site-packages/cfgrib/xarray_plugin.py:131: FutureWarning: In a future version of xarray decode_timedelta will default to False rather than None. To silence this warning, set decode_timedelta to True, False, or a 'CFTimedeltaCoder' instance.\n",
      "  vars, attrs, coord_names = xr.conventions.decode_cf_variables(\n"
     ]
    },
    {
     "name": "stdout",
     "output_type": "stream",
     "text": [
      "reading era5_cloud_coverage_2025_01.grib\n"
     ]
    },
    {
     "name": "stderr",
     "output_type": "stream",
     "text": [
      "/home/au472091/venv/lib/python3.12/site-packages/cfgrib/xarray_plugin.py:131: FutureWarning: In a future version of xarray decode_timedelta will default to False rather than None. To silence this warning, set decode_timedelta to True, False, or a 'CFTimedeltaCoder' instance.\n",
      "  vars, attrs, coord_names = xr.conventions.decode_cf_variables(\n"
     ]
    },
    {
     "name": "stdout",
     "output_type": "stream",
     "text": [
      "reading era5_cloud_coverage_2025_02.grib\n"
     ]
    },
    {
     "name": "stderr",
     "output_type": "stream",
     "text": [
      "/home/au472091/venv/lib/python3.12/site-packages/cfgrib/xarray_plugin.py:131: FutureWarning: In a future version of xarray decode_timedelta will default to False rather than None. To silence this warning, set decode_timedelta to True, False, or a 'CFTimedeltaCoder' instance.\n",
      "  vars, attrs, coord_names = xr.conventions.decode_cf_variables(\n"
     ]
    },
    {
     "name": "stdout",
     "output_type": "stream",
     "text": [
      "reading era5_cloud_coverage_2025_03.grib\n"
     ]
    },
    {
     "name": "stderr",
     "output_type": "stream",
     "text": [
      "/home/au472091/venv/lib/python3.12/site-packages/cfgrib/xarray_plugin.py:131: FutureWarning: In a future version of xarray decode_timedelta will default to False rather than None. To silence this warning, set decode_timedelta to True, False, or a 'CFTimedeltaCoder' instance.\n",
      "  vars, attrs, coord_names = xr.conventions.decode_cf_variables(\n"
     ]
    },
    {
     "name": "stdout",
     "output_type": "stream",
     "text": [
      "reading era5_cloud_coverage_2025_04.grib\n"
     ]
    },
    {
     "name": "stderr",
     "output_type": "stream",
     "text": [
      "/home/au472091/venv/lib/python3.12/site-packages/cfgrib/xarray_plugin.py:131: FutureWarning: In a future version of xarray decode_timedelta will default to False rather than None. To silence this warning, set decode_timedelta to True, False, or a 'CFTimedeltaCoder' instance.\n",
      "  vars, attrs, coord_names = xr.conventions.decode_cf_variables(\n",
      "Ignoring index file '/home/au472091/OneDrive/au/projects/pam_bats/analysis/data/weather/atm_pressure/era5_atm_pressure_2023_01.grib.5b7b6.idx' older than GRIB file\n"
     ]
    },
    {
     "name": "stdout",
     "output_type": "stream",
     "text": [
      "reading era5_atm_pressure_2023_01.grib\n"
     ]
    },
    {
     "name": "stderr",
     "output_type": "stream",
     "text": [
      "/home/au472091/venv/lib/python3.12/site-packages/cfgrib/xarray_plugin.py:131: FutureWarning: In a future version of xarray decode_timedelta will default to False rather than None. To silence this warning, set decode_timedelta to True, False, or a 'CFTimedeltaCoder' instance.\n",
      "  vars, attrs, coord_names = xr.conventions.decode_cf_variables(\n",
      "/tmp/ipykernel_1620840/3401802185.py:44: FutureWarning: The behavior of DataFrame concatenation with empty or all-NA entries is deprecated. In a future version, this will no longer exclude empty or all-NA columns when determining the result dtypes. To retain the old behavior, exclude the relevant entries before the concat operation.\n",
      "  outdf[count]=pd.concat([outdf[count], out], axis=0, ignore_index=True)\n",
      "/tmp/ipykernel_1620840/3401802185.py:44: FutureWarning: The behavior of DataFrame concatenation with empty or all-NA entries is deprecated. In a future version, this will no longer exclude empty or all-NA columns when determining the result dtypes. To retain the old behavior, exclude the relevant entries before the concat operation.\n",
      "  outdf[count]=pd.concat([outdf[count], out], axis=0, ignore_index=True)\n",
      "/tmp/ipykernel_1620840/3401802185.py:44: FutureWarning: The behavior of DataFrame concatenation with empty or all-NA entries is deprecated. In a future version, this will no longer exclude empty or all-NA columns when determining the result dtypes. To retain the old behavior, exclude the relevant entries before the concat operation.\n",
      "  outdf[count]=pd.concat([outdf[count], out], axis=0, ignore_index=True)\n",
      "/tmp/ipykernel_1620840/3401802185.py:44: FutureWarning: The behavior of DataFrame concatenation with empty or all-NA entries is deprecated. In a future version, this will no longer exclude empty or all-NA columns when determining the result dtypes. To retain the old behavior, exclude the relevant entries before the concat operation.\n",
      "  outdf[count]=pd.concat([outdf[count], out], axis=0, ignore_index=True)\n",
      "/tmp/ipykernel_1620840/3401802185.py:44: FutureWarning: The behavior of DataFrame concatenation with empty or all-NA entries is deprecated. In a future version, this will no longer exclude empty or all-NA columns when determining the result dtypes. To retain the old behavior, exclude the relevant entries before the concat operation.\n",
      "  outdf[count]=pd.concat([outdf[count], out], axis=0, ignore_index=True)\n",
      "/tmp/ipykernel_1620840/3401802185.py:44: FutureWarning: The behavior of DataFrame concatenation with empty or all-NA entries is deprecated. In a future version, this will no longer exclude empty or all-NA columns when determining the result dtypes. To retain the old behavior, exclude the relevant entries before the concat operation.\n",
      "  outdf[count]=pd.concat([outdf[count], out], axis=0, ignore_index=True)\n",
      "/tmp/ipykernel_1620840/3401802185.py:44: FutureWarning: The behavior of DataFrame concatenation with empty or all-NA entries is deprecated. In a future version, this will no longer exclude empty or all-NA columns when determining the result dtypes. To retain the old behavior, exclude the relevant entries before the concat operation.\n",
      "  outdf[count]=pd.concat([outdf[count], out], axis=0, ignore_index=True)\n",
      "/tmp/ipykernel_1620840/3401802185.py:44: FutureWarning: The behavior of DataFrame concatenation with empty or all-NA entries is deprecated. In a future version, this will no longer exclude empty or all-NA columns when determining the result dtypes. To retain the old behavior, exclude the relevant entries before the concat operation.\n",
      "  outdf[count]=pd.concat([outdf[count], out], axis=0, ignore_index=True)\n",
      "/tmp/ipykernel_1620840/3401802185.py:44: FutureWarning: The behavior of DataFrame concatenation with empty or all-NA entries is deprecated. In a future version, this will no longer exclude empty or all-NA columns when determining the result dtypes. To retain the old behavior, exclude the relevant entries before the concat operation.\n",
      "  outdf[count]=pd.concat([outdf[count], out], axis=0, ignore_index=True)\n",
      "/tmp/ipykernel_1620840/3401802185.py:44: FutureWarning: The behavior of DataFrame concatenation with empty or all-NA entries is deprecated. In a future version, this will no longer exclude empty or all-NA columns when determining the result dtypes. To retain the old behavior, exclude the relevant entries before the concat operation.\n",
      "  outdf[count]=pd.concat([outdf[count], out], axis=0, ignore_index=True)\n",
      "/tmp/ipykernel_1620840/3401802185.py:44: FutureWarning: The behavior of DataFrame concatenation with empty or all-NA entries is deprecated. In a future version, this will no longer exclude empty or all-NA columns when determining the result dtypes. To retain the old behavior, exclude the relevant entries before the concat operation.\n",
      "  outdf[count]=pd.concat([outdf[count], out], axis=0, ignore_index=True)\n",
      "/tmp/ipykernel_1620840/3401802185.py:44: FutureWarning: The behavior of DataFrame concatenation with empty or all-NA entries is deprecated. In a future version, this will no longer exclude empty or all-NA columns when determining the result dtypes. To retain the old behavior, exclude the relevant entries before the concat operation.\n",
      "  outdf[count]=pd.concat([outdf[count], out], axis=0, ignore_index=True)\n",
      "/tmp/ipykernel_1620840/3401802185.py:44: FutureWarning: The behavior of DataFrame concatenation with empty or all-NA entries is deprecated. In a future version, this will no longer exclude empty or all-NA columns when determining the result dtypes. To retain the old behavior, exclude the relevant entries before the concat operation.\n",
      "  outdf[count]=pd.concat([outdf[count], out], axis=0, ignore_index=True)\n",
      "/tmp/ipykernel_1620840/3401802185.py:44: FutureWarning: The behavior of DataFrame concatenation with empty or all-NA entries is deprecated. In a future version, this will no longer exclude empty or all-NA columns when determining the result dtypes. To retain the old behavior, exclude the relevant entries before the concat operation.\n",
      "  outdf[count]=pd.concat([outdf[count], out], axis=0, ignore_index=True)\n",
      "/tmp/ipykernel_1620840/3401802185.py:44: FutureWarning: The behavior of DataFrame concatenation with empty or all-NA entries is deprecated. In a future version, this will no longer exclude empty or all-NA columns when determining the result dtypes. To retain the old behavior, exclude the relevant entries before the concat operation.\n",
      "  outdf[count]=pd.concat([outdf[count], out], axis=0, ignore_index=True)\n",
      "/tmp/ipykernel_1620840/3401802185.py:44: FutureWarning: The behavior of DataFrame concatenation with empty or all-NA entries is deprecated. In a future version, this will no longer exclude empty or all-NA columns when determining the result dtypes. To retain the old behavior, exclude the relevant entries before the concat operation.\n",
      "  outdf[count]=pd.concat([outdf[count], out], axis=0, ignore_index=True)\n",
      "/tmp/ipykernel_1620840/3401802185.py:44: FutureWarning: The behavior of DataFrame concatenation with empty or all-NA entries is deprecated. In a future version, this will no longer exclude empty or all-NA columns when determining the result dtypes. To retain the old behavior, exclude the relevant entries before the concat operation.\n",
      "  outdf[count]=pd.concat([outdf[count], out], axis=0, ignore_index=True)\n",
      "/tmp/ipykernel_1620840/3401802185.py:44: FutureWarning: The behavior of DataFrame concatenation with empty or all-NA entries is deprecated. In a future version, this will no longer exclude empty or all-NA columns when determining the result dtypes. To retain the old behavior, exclude the relevant entries before the concat operation.\n",
      "  outdf[count]=pd.concat([outdf[count], out], axis=0, ignore_index=True)\n",
      "/tmp/ipykernel_1620840/3401802185.py:44: FutureWarning: The behavior of DataFrame concatenation with empty or all-NA entries is deprecated. In a future version, this will no longer exclude empty or all-NA columns when determining the result dtypes. To retain the old behavior, exclude the relevant entries before the concat operation.\n",
      "  outdf[count]=pd.concat([outdf[count], out], axis=0, ignore_index=True)\n",
      "/tmp/ipykernel_1620840/3401802185.py:44: FutureWarning: The behavior of DataFrame concatenation with empty or all-NA entries is deprecated. In a future version, this will no longer exclude empty or all-NA columns when determining the result dtypes. To retain the old behavior, exclude the relevant entries before the concat operation.\n",
      "  outdf[count]=pd.concat([outdf[count], out], axis=0, ignore_index=True)\n",
      "/tmp/ipykernel_1620840/3401802185.py:44: FutureWarning: The behavior of DataFrame concatenation with empty or all-NA entries is deprecated. In a future version, this will no longer exclude empty or all-NA columns when determining the result dtypes. To retain the old behavior, exclude the relevant entries before the concat operation.\n",
      "  outdf[count]=pd.concat([outdf[count], out], axis=0, ignore_index=True)\n",
      "/tmp/ipykernel_1620840/3401802185.py:44: FutureWarning: The behavior of DataFrame concatenation with empty or all-NA entries is deprecated. In a future version, this will no longer exclude empty or all-NA columns when determining the result dtypes. To retain the old behavior, exclude the relevant entries before the concat operation.\n",
      "  outdf[count]=pd.concat([outdf[count], out], axis=0, ignore_index=True)\n",
      "/tmp/ipykernel_1620840/3401802185.py:44: FutureWarning: The behavior of DataFrame concatenation with empty or all-NA entries is deprecated. In a future version, this will no longer exclude empty or all-NA columns when determining the result dtypes. To retain the old behavior, exclude the relevant entries before the concat operation.\n",
      "  outdf[count]=pd.concat([outdf[count], out], axis=0, ignore_index=True)\n",
      "/tmp/ipykernel_1620840/3401802185.py:44: FutureWarning: The behavior of DataFrame concatenation with empty or all-NA entries is deprecated. In a future version, this will no longer exclude empty or all-NA columns when determining the result dtypes. To retain the old behavior, exclude the relevant entries before the concat operation.\n",
      "  outdf[count]=pd.concat([outdf[count], out], axis=0, ignore_index=True)\n",
      "/tmp/ipykernel_1620840/3401802185.py:44: FutureWarning: The behavior of DataFrame concatenation with empty or all-NA entries is deprecated. In a future version, this will no longer exclude empty or all-NA columns when determining the result dtypes. To retain the old behavior, exclude the relevant entries before the concat operation.\n",
      "  outdf[count]=pd.concat([outdf[count], out], axis=0, ignore_index=True)\n",
      "/tmp/ipykernel_1620840/3401802185.py:44: FutureWarning: The behavior of DataFrame concatenation with empty or all-NA entries is deprecated. In a future version, this will no longer exclude empty or all-NA columns when determining the result dtypes. To retain the old behavior, exclude the relevant entries before the concat operation.\n",
      "  outdf[count]=pd.concat([outdf[count], out], axis=0, ignore_index=True)\n",
      "/tmp/ipykernel_1620840/3401802185.py:44: FutureWarning: The behavior of DataFrame concatenation with empty or all-NA entries is deprecated. In a future version, this will no longer exclude empty or all-NA columns when determining the result dtypes. To retain the old behavior, exclude the relevant entries before the concat operation.\n",
      "  outdf[count]=pd.concat([outdf[count], out], axis=0, ignore_index=True)\n",
      "/tmp/ipykernel_1620840/3401802185.py:44: FutureWarning: The behavior of DataFrame concatenation with empty or all-NA entries is deprecated. In a future version, this will no longer exclude empty or all-NA columns when determining the result dtypes. To retain the old behavior, exclude the relevant entries before the concat operation.\n",
      "  outdf[count]=pd.concat([outdf[count], out], axis=0, ignore_index=True)\n",
      "/tmp/ipykernel_1620840/3401802185.py:44: FutureWarning: The behavior of DataFrame concatenation with empty or all-NA entries is deprecated. In a future version, this will no longer exclude empty or all-NA columns when determining the result dtypes. To retain the old behavior, exclude the relevant entries before the concat operation.\n",
      "  outdf[count]=pd.concat([outdf[count], out], axis=0, ignore_index=True)\n",
      "/tmp/ipykernel_1620840/3401802185.py:44: FutureWarning: The behavior of DataFrame concatenation with empty or all-NA entries is deprecated. In a future version, this will no longer exclude empty or all-NA columns when determining the result dtypes. To retain the old behavior, exclude the relevant entries before the concat operation.\n",
      "  outdf[count]=pd.concat([outdf[count], out], axis=0, ignore_index=True)\n",
      "/tmp/ipykernel_1620840/3401802185.py:44: FutureWarning: The behavior of DataFrame concatenation with empty or all-NA entries is deprecated. In a future version, this will no longer exclude empty or all-NA columns when determining the result dtypes. To retain the old behavior, exclude the relevant entries before the concat operation.\n",
      "  outdf[count]=pd.concat([outdf[count], out], axis=0, ignore_index=True)\n",
      "/tmp/ipykernel_1620840/3401802185.py:44: FutureWarning: The behavior of DataFrame concatenation with empty or all-NA entries is deprecated. In a future version, this will no longer exclude empty or all-NA columns when determining the result dtypes. To retain the old behavior, exclude the relevant entries before the concat operation.\n",
      "  outdf[count]=pd.concat([outdf[count], out], axis=0, ignore_index=True)\n",
      "/tmp/ipykernel_1620840/3401802185.py:44: FutureWarning: The behavior of DataFrame concatenation with empty or all-NA entries is deprecated. In a future version, this will no longer exclude empty or all-NA columns when determining the result dtypes. To retain the old behavior, exclude the relevant entries before the concat operation.\n",
      "  outdf[count]=pd.concat([outdf[count], out], axis=0, ignore_index=True)\n",
      "/tmp/ipykernel_1620840/3401802185.py:44: FutureWarning: The behavior of DataFrame concatenation with empty or all-NA entries is deprecated. In a future version, this will no longer exclude empty or all-NA columns when determining the result dtypes. To retain the old behavior, exclude the relevant entries before the concat operation.\n",
      "  outdf[count]=pd.concat([outdf[count], out], axis=0, ignore_index=True)\n",
      "/tmp/ipykernel_1620840/3401802185.py:44: FutureWarning: The behavior of DataFrame concatenation with empty or all-NA entries is deprecated. In a future version, this will no longer exclude empty or all-NA columns when determining the result dtypes. To retain the old behavior, exclude the relevant entries before the concat operation.\n",
      "  outdf[count]=pd.concat([outdf[count], out], axis=0, ignore_index=True)\n",
      "/tmp/ipykernel_1620840/3401802185.py:44: FutureWarning: The behavior of DataFrame concatenation with empty or all-NA entries is deprecated. In a future version, this will no longer exclude empty or all-NA columns when determining the result dtypes. To retain the old behavior, exclude the relevant entries before the concat operation.\n",
      "  outdf[count]=pd.concat([outdf[count], out], axis=0, ignore_index=True)\n",
      "/tmp/ipykernel_1620840/3401802185.py:44: FutureWarning: The behavior of DataFrame concatenation with empty or all-NA entries is deprecated. In a future version, this will no longer exclude empty or all-NA columns when determining the result dtypes. To retain the old behavior, exclude the relevant entries before the concat operation.\n",
      "  outdf[count]=pd.concat([outdf[count], out], axis=0, ignore_index=True)\n",
      "/tmp/ipykernel_1620840/3401802185.py:44: FutureWarning: The behavior of DataFrame concatenation with empty or all-NA entries is deprecated. In a future version, this will no longer exclude empty or all-NA columns when determining the result dtypes. To retain the old behavior, exclude the relevant entries before the concat operation.\n",
      "  outdf[count]=pd.concat([outdf[count], out], axis=0, ignore_index=True)\n",
      "/tmp/ipykernel_1620840/3401802185.py:44: FutureWarning: The behavior of DataFrame concatenation with empty or all-NA entries is deprecated. In a future version, this will no longer exclude empty or all-NA columns when determining the result dtypes. To retain the old behavior, exclude the relevant entries before the concat operation.\n",
      "  outdf[count]=pd.concat([outdf[count], out], axis=0, ignore_index=True)\n",
      "/tmp/ipykernel_1620840/3401802185.py:44: FutureWarning: The behavior of DataFrame concatenation with empty or all-NA entries is deprecated. In a future version, this will no longer exclude empty or all-NA columns when determining the result dtypes. To retain the old behavior, exclude the relevant entries before the concat operation.\n",
      "  outdf[count]=pd.concat([outdf[count], out], axis=0, ignore_index=True)\n",
      "/tmp/ipykernel_1620840/3401802185.py:44: FutureWarning: The behavior of DataFrame concatenation with empty or all-NA entries is deprecated. In a future version, this will no longer exclude empty or all-NA columns when determining the result dtypes. To retain the old behavior, exclude the relevant entries before the concat operation.\n",
      "  outdf[count]=pd.concat([outdf[count], out], axis=0, ignore_index=True)\n",
      "/tmp/ipykernel_1620840/3401802185.py:44: FutureWarning: The behavior of DataFrame concatenation with empty or all-NA entries is deprecated. In a future version, this will no longer exclude empty or all-NA columns when determining the result dtypes. To retain the old behavior, exclude the relevant entries before the concat operation.\n",
      "  outdf[count]=pd.concat([outdf[count], out], axis=0, ignore_index=True)\n",
      "/tmp/ipykernel_1620840/3401802185.py:44: FutureWarning: The behavior of DataFrame concatenation with empty or all-NA entries is deprecated. In a future version, this will no longer exclude empty or all-NA columns when determining the result dtypes. To retain the old behavior, exclude the relevant entries before the concat operation.\n",
      "  outdf[count]=pd.concat([outdf[count], out], axis=0, ignore_index=True)\n",
      "/tmp/ipykernel_1620840/3401802185.py:44: FutureWarning: The behavior of DataFrame concatenation with empty or all-NA entries is deprecated. In a future version, this will no longer exclude empty or all-NA columns when determining the result dtypes. To retain the old behavior, exclude the relevant entries before the concat operation.\n",
      "  outdf[count]=pd.concat([outdf[count], out], axis=0, ignore_index=True)\n",
      "/tmp/ipykernel_1620840/3401802185.py:44: FutureWarning: The behavior of DataFrame concatenation with empty or all-NA entries is deprecated. In a future version, this will no longer exclude empty or all-NA columns when determining the result dtypes. To retain the old behavior, exclude the relevant entries before the concat operation.\n",
      "  outdf[count]=pd.concat([outdf[count], out], axis=0, ignore_index=True)\n",
      "/tmp/ipykernel_1620840/3401802185.py:44: FutureWarning: The behavior of DataFrame concatenation with empty or all-NA entries is deprecated. In a future version, this will no longer exclude empty or all-NA columns when determining the result dtypes. To retain the old behavior, exclude the relevant entries before the concat operation.\n",
      "  outdf[count]=pd.concat([outdf[count], out], axis=0, ignore_index=True)\n",
      "/tmp/ipykernel_1620840/3401802185.py:44: FutureWarning: The behavior of DataFrame concatenation with empty or all-NA entries is deprecated. In a future version, this will no longer exclude empty or all-NA columns when determining the result dtypes. To retain the old behavior, exclude the relevant entries before the concat operation.\n",
      "  outdf[count]=pd.concat([outdf[count], out], axis=0, ignore_index=True)\n",
      "/tmp/ipykernel_1620840/3401802185.py:44: FutureWarning: The behavior of DataFrame concatenation with empty or all-NA entries is deprecated. In a future version, this will no longer exclude empty or all-NA columns when determining the result dtypes. To retain the old behavior, exclude the relevant entries before the concat operation.\n",
      "  outdf[count]=pd.concat([outdf[count], out], axis=0, ignore_index=True)\n",
      "/tmp/ipykernel_1620840/3401802185.py:44: FutureWarning: The behavior of DataFrame concatenation with empty or all-NA entries is deprecated. In a future version, this will no longer exclude empty or all-NA columns when determining the result dtypes. To retain the old behavior, exclude the relevant entries before the concat operation.\n",
      "  outdf[count]=pd.concat([outdf[count], out], axis=0, ignore_index=True)\n",
      "/tmp/ipykernel_1620840/3401802185.py:44: FutureWarning: The behavior of DataFrame concatenation with empty or all-NA entries is deprecated. In a future version, this will no longer exclude empty or all-NA columns when determining the result dtypes. To retain the old behavior, exclude the relevant entries before the concat operation.\n",
      "  outdf[count]=pd.concat([outdf[count], out], axis=0, ignore_index=True)\n",
      "/tmp/ipykernel_1620840/3401802185.py:44: FutureWarning: The behavior of DataFrame concatenation with empty or all-NA entries is deprecated. In a future version, this will no longer exclude empty or all-NA columns when determining the result dtypes. To retain the old behavior, exclude the relevant entries before the concat operation.\n",
      "  outdf[count]=pd.concat([outdf[count], out], axis=0, ignore_index=True)\n",
      "/tmp/ipykernel_1620840/3401802185.py:44: FutureWarning: The behavior of DataFrame concatenation with empty or all-NA entries is deprecated. In a future version, this will no longer exclude empty or all-NA columns when determining the result dtypes. To retain the old behavior, exclude the relevant entries before the concat operation.\n",
      "  outdf[count]=pd.concat([outdf[count], out], axis=0, ignore_index=True)\n",
      "/tmp/ipykernel_1620840/3401802185.py:44: FutureWarning: The behavior of DataFrame concatenation with empty or all-NA entries is deprecated. In a future version, this will no longer exclude empty or all-NA columns when determining the result dtypes. To retain the old behavior, exclude the relevant entries before the concat operation.\n",
      "  outdf[count]=pd.concat([outdf[count], out], axis=0, ignore_index=True)\n",
      "/tmp/ipykernel_1620840/3401802185.py:44: FutureWarning: The behavior of DataFrame concatenation with empty or all-NA entries is deprecated. In a future version, this will no longer exclude empty or all-NA columns when determining the result dtypes. To retain the old behavior, exclude the relevant entries before the concat operation.\n",
      "  outdf[count]=pd.concat([outdf[count], out], axis=0, ignore_index=True)\n",
      "/tmp/ipykernel_1620840/3401802185.py:44: FutureWarning: The behavior of DataFrame concatenation with empty or all-NA entries is deprecated. In a future version, this will no longer exclude empty or all-NA columns when determining the result dtypes. To retain the old behavior, exclude the relevant entries before the concat operation.\n",
      "  outdf[count]=pd.concat([outdf[count], out], axis=0, ignore_index=True)\n",
      "/tmp/ipykernel_1620840/3401802185.py:44: FutureWarning: The behavior of DataFrame concatenation with empty or all-NA entries is deprecated. In a future version, this will no longer exclude empty or all-NA columns when determining the result dtypes. To retain the old behavior, exclude the relevant entries before the concat operation.\n",
      "  outdf[count]=pd.concat([outdf[count], out], axis=0, ignore_index=True)\n",
      "/tmp/ipykernel_1620840/3401802185.py:44: FutureWarning: The behavior of DataFrame concatenation with empty or all-NA entries is deprecated. In a future version, this will no longer exclude empty or all-NA columns when determining the result dtypes. To retain the old behavior, exclude the relevant entries before the concat operation.\n",
      "  outdf[count]=pd.concat([outdf[count], out], axis=0, ignore_index=True)\n",
      "Ignoring index file '/home/au472091/OneDrive/au/projects/pam_bats/analysis/data/weather/atm_pressure/era5_atm_pressure_2023_02.grib.5b7b6.idx' older than GRIB file\n"
     ]
    },
    {
     "name": "stdout",
     "output_type": "stream",
     "text": [
      "reading era5_atm_pressure_2023_02.grib\n"
     ]
    },
    {
     "name": "stderr",
     "output_type": "stream",
     "text": [
      "/home/au472091/venv/lib/python3.12/site-packages/cfgrib/xarray_plugin.py:131: FutureWarning: In a future version of xarray decode_timedelta will default to False rather than None. To silence this warning, set decode_timedelta to True, False, or a 'CFTimedeltaCoder' instance.\n",
      "  vars, attrs, coord_names = xr.conventions.decode_cf_variables(\n",
      "Ignoring index file '/home/au472091/OneDrive/au/projects/pam_bats/analysis/data/weather/atm_pressure/era5_atm_pressure_2023_03.grib.5b7b6.idx' older than GRIB file\n"
     ]
    },
    {
     "name": "stdout",
     "output_type": "stream",
     "text": [
      "reading era5_atm_pressure_2023_03.grib\n"
     ]
    },
    {
     "name": "stderr",
     "output_type": "stream",
     "text": [
      "/home/au472091/venv/lib/python3.12/site-packages/cfgrib/xarray_plugin.py:131: FutureWarning: In a future version of xarray decode_timedelta will default to False rather than None. To silence this warning, set decode_timedelta to True, False, or a 'CFTimedeltaCoder' instance.\n",
      "  vars, attrs, coord_names = xr.conventions.decode_cf_variables(\n",
      "Ignoring index file '/home/au472091/OneDrive/au/projects/pam_bats/analysis/data/weather/atm_pressure/era5_atm_pressure_2023_04.grib.5b7b6.idx' older than GRIB file\n"
     ]
    },
    {
     "name": "stdout",
     "output_type": "stream",
     "text": [
      "reading era5_atm_pressure_2023_04.grib\n"
     ]
    },
    {
     "name": "stderr",
     "output_type": "stream",
     "text": [
      "/home/au472091/venv/lib/python3.12/site-packages/cfgrib/xarray_plugin.py:131: FutureWarning: In a future version of xarray decode_timedelta will default to False rather than None. To silence this warning, set decode_timedelta to True, False, or a 'CFTimedeltaCoder' instance.\n",
      "  vars, attrs, coord_names = xr.conventions.decode_cf_variables(\n",
      "Ignoring index file '/home/au472091/OneDrive/au/projects/pam_bats/analysis/data/weather/atm_pressure/era5_atm_pressure_2023_05.grib.5b7b6.idx' older than GRIB file\n"
     ]
    },
    {
     "name": "stdout",
     "output_type": "stream",
     "text": [
      "reading era5_atm_pressure_2023_05.grib\n"
     ]
    },
    {
     "name": "stderr",
     "output_type": "stream",
     "text": [
      "/home/au472091/venv/lib/python3.12/site-packages/cfgrib/xarray_plugin.py:131: FutureWarning: In a future version of xarray decode_timedelta will default to False rather than None. To silence this warning, set decode_timedelta to True, False, or a 'CFTimedeltaCoder' instance.\n",
      "  vars, attrs, coord_names = xr.conventions.decode_cf_variables(\n",
      "Ignoring index file '/home/au472091/OneDrive/au/projects/pam_bats/analysis/data/weather/atm_pressure/era5_atm_pressure_2023_06.grib.5b7b6.idx' older than GRIB file\n"
     ]
    },
    {
     "name": "stdout",
     "output_type": "stream",
     "text": [
      "reading era5_atm_pressure_2023_06.grib\n"
     ]
    },
    {
     "name": "stderr",
     "output_type": "stream",
     "text": [
      "/home/au472091/venv/lib/python3.12/site-packages/cfgrib/xarray_plugin.py:131: FutureWarning: In a future version of xarray decode_timedelta will default to False rather than None. To silence this warning, set decode_timedelta to True, False, or a 'CFTimedeltaCoder' instance.\n",
      "  vars, attrs, coord_names = xr.conventions.decode_cf_variables(\n",
      "Ignoring index file '/home/au472091/OneDrive/au/projects/pam_bats/analysis/data/weather/atm_pressure/era5_atm_pressure_2023_07.grib.5b7b6.idx' older than GRIB file\n"
     ]
    },
    {
     "name": "stdout",
     "output_type": "stream",
     "text": [
      "reading era5_atm_pressure_2023_07.grib\n"
     ]
    },
    {
     "name": "stderr",
     "output_type": "stream",
     "text": [
      "/home/au472091/venv/lib/python3.12/site-packages/cfgrib/xarray_plugin.py:131: FutureWarning: In a future version of xarray decode_timedelta will default to False rather than None. To silence this warning, set decode_timedelta to True, False, or a 'CFTimedeltaCoder' instance.\n",
      "  vars, attrs, coord_names = xr.conventions.decode_cf_variables(\n",
      "Ignoring index file '/home/au472091/OneDrive/au/projects/pam_bats/analysis/data/weather/atm_pressure/era5_atm_pressure_2023_08.grib.5b7b6.idx' older than GRIB file\n"
     ]
    },
    {
     "name": "stdout",
     "output_type": "stream",
     "text": [
      "reading era5_atm_pressure_2023_08.grib\n"
     ]
    },
    {
     "name": "stderr",
     "output_type": "stream",
     "text": [
      "/home/au472091/venv/lib/python3.12/site-packages/cfgrib/xarray_plugin.py:131: FutureWarning: In a future version of xarray decode_timedelta will default to False rather than None. To silence this warning, set decode_timedelta to True, False, or a 'CFTimedeltaCoder' instance.\n",
      "  vars, attrs, coord_names = xr.conventions.decode_cf_variables(\n",
      "Ignoring index file '/home/au472091/OneDrive/au/projects/pam_bats/analysis/data/weather/atm_pressure/era5_atm_pressure_2023_09.grib.5b7b6.idx' older than GRIB file\n"
     ]
    },
    {
     "name": "stdout",
     "output_type": "stream",
     "text": [
      "reading era5_atm_pressure_2023_09.grib\n"
     ]
    },
    {
     "name": "stderr",
     "output_type": "stream",
     "text": [
      "/home/au472091/venv/lib/python3.12/site-packages/cfgrib/xarray_plugin.py:131: FutureWarning: In a future version of xarray decode_timedelta will default to False rather than None. To silence this warning, set decode_timedelta to True, False, or a 'CFTimedeltaCoder' instance.\n",
      "  vars, attrs, coord_names = xr.conventions.decode_cf_variables(\n",
      "Ignoring index file '/home/au472091/OneDrive/au/projects/pam_bats/analysis/data/weather/atm_pressure/era5_atm_pressure_2023_10.grib.5b7b6.idx' older than GRIB file\n"
     ]
    },
    {
     "name": "stdout",
     "output_type": "stream",
     "text": [
      "reading era5_atm_pressure_2023_10.grib\n"
     ]
    },
    {
     "name": "stderr",
     "output_type": "stream",
     "text": [
      "/home/au472091/venv/lib/python3.12/site-packages/cfgrib/xarray_plugin.py:131: FutureWarning: In a future version of xarray decode_timedelta will default to False rather than None. To silence this warning, set decode_timedelta to True, False, or a 'CFTimedeltaCoder' instance.\n",
      "  vars, attrs, coord_names = xr.conventions.decode_cf_variables(\n",
      "Ignoring index file '/home/au472091/OneDrive/au/projects/pam_bats/analysis/data/weather/atm_pressure/era5_atm_pressure_2023_11.grib.5b7b6.idx' older than GRIB file\n"
     ]
    },
    {
     "name": "stdout",
     "output_type": "stream",
     "text": [
      "reading era5_atm_pressure_2023_11.grib\n"
     ]
    },
    {
     "name": "stderr",
     "output_type": "stream",
     "text": [
      "/home/au472091/venv/lib/python3.12/site-packages/cfgrib/xarray_plugin.py:131: FutureWarning: In a future version of xarray decode_timedelta will default to False rather than None. To silence this warning, set decode_timedelta to True, False, or a 'CFTimedeltaCoder' instance.\n",
      "  vars, attrs, coord_names = xr.conventions.decode_cf_variables(\n",
      "Ignoring index file '/home/au472091/OneDrive/au/projects/pam_bats/analysis/data/weather/atm_pressure/era5_atm_pressure_2023_12.grib.5b7b6.idx' older than GRIB file\n"
     ]
    },
    {
     "name": "stdout",
     "output_type": "stream",
     "text": [
      "reading era5_atm_pressure_2023_12.grib\n"
     ]
    },
    {
     "name": "stderr",
     "output_type": "stream",
     "text": [
      "/home/au472091/venv/lib/python3.12/site-packages/cfgrib/xarray_plugin.py:131: FutureWarning: In a future version of xarray decode_timedelta will default to False rather than None. To silence this warning, set decode_timedelta to True, False, or a 'CFTimedeltaCoder' instance.\n",
      "  vars, attrs, coord_names = xr.conventions.decode_cf_variables(\n",
      "Ignoring index file '/home/au472091/OneDrive/au/projects/pam_bats/analysis/data/weather/atm_pressure/era5_atm_pressure_2024_01.grib.5b7b6.idx' older than GRIB file\n"
     ]
    },
    {
     "name": "stdout",
     "output_type": "stream",
     "text": [
      "reading era5_atm_pressure_2024_01.grib\n"
     ]
    },
    {
     "name": "stderr",
     "output_type": "stream",
     "text": [
      "/home/au472091/venv/lib/python3.12/site-packages/cfgrib/xarray_plugin.py:131: FutureWarning: In a future version of xarray decode_timedelta will default to False rather than None. To silence this warning, set decode_timedelta to True, False, or a 'CFTimedeltaCoder' instance.\n",
      "  vars, attrs, coord_names = xr.conventions.decode_cf_variables(\n",
      "Ignoring index file '/home/au472091/OneDrive/au/projects/pam_bats/analysis/data/weather/atm_pressure/era5_atm_pressure_2024_02.grib.5b7b6.idx' older than GRIB file\n"
     ]
    },
    {
     "name": "stdout",
     "output_type": "stream",
     "text": [
      "reading era5_atm_pressure_2024_02.grib\n"
     ]
    },
    {
     "name": "stderr",
     "output_type": "stream",
     "text": [
      "/home/au472091/venv/lib/python3.12/site-packages/cfgrib/xarray_plugin.py:131: FutureWarning: In a future version of xarray decode_timedelta will default to False rather than None. To silence this warning, set decode_timedelta to True, False, or a 'CFTimedeltaCoder' instance.\n",
      "  vars, attrs, coord_names = xr.conventions.decode_cf_variables(\n",
      "Ignoring index file '/home/au472091/OneDrive/au/projects/pam_bats/analysis/data/weather/atm_pressure/era5_atm_pressure_2024_03.grib.5b7b6.idx' older than GRIB file\n"
     ]
    },
    {
     "name": "stdout",
     "output_type": "stream",
     "text": [
      "reading era5_atm_pressure_2024_03.grib\n"
     ]
    },
    {
     "name": "stderr",
     "output_type": "stream",
     "text": [
      "/home/au472091/venv/lib/python3.12/site-packages/cfgrib/xarray_plugin.py:131: FutureWarning: In a future version of xarray decode_timedelta will default to False rather than None. To silence this warning, set decode_timedelta to True, False, or a 'CFTimedeltaCoder' instance.\n",
      "  vars, attrs, coord_names = xr.conventions.decode_cf_variables(\n",
      "Ignoring index file '/home/au472091/OneDrive/au/projects/pam_bats/analysis/data/weather/atm_pressure/era5_atm_pressure_2024_04.grib.5b7b6.idx' older than GRIB file\n"
     ]
    },
    {
     "name": "stdout",
     "output_type": "stream",
     "text": [
      "reading era5_atm_pressure_2024_04.grib\n"
     ]
    },
    {
     "name": "stderr",
     "output_type": "stream",
     "text": [
      "/home/au472091/venv/lib/python3.12/site-packages/cfgrib/xarray_plugin.py:131: FutureWarning: In a future version of xarray decode_timedelta will default to False rather than None. To silence this warning, set decode_timedelta to True, False, or a 'CFTimedeltaCoder' instance.\n",
      "  vars, attrs, coord_names = xr.conventions.decode_cf_variables(\n",
      "Ignoring index file '/home/au472091/OneDrive/au/projects/pam_bats/analysis/data/weather/atm_pressure/era5_atm_pressure_2024_05.grib.5b7b6.idx' older than GRIB file\n"
     ]
    },
    {
     "name": "stdout",
     "output_type": "stream",
     "text": [
      "reading era5_atm_pressure_2024_05.grib\n"
     ]
    },
    {
     "name": "stderr",
     "output_type": "stream",
     "text": [
      "/home/au472091/venv/lib/python3.12/site-packages/cfgrib/xarray_plugin.py:131: FutureWarning: In a future version of xarray decode_timedelta will default to False rather than None. To silence this warning, set decode_timedelta to True, False, or a 'CFTimedeltaCoder' instance.\n",
      "  vars, attrs, coord_names = xr.conventions.decode_cf_variables(\n",
      "Ignoring index file '/home/au472091/OneDrive/au/projects/pam_bats/analysis/data/weather/atm_pressure/era5_atm_pressure_2024_06.grib.5b7b6.idx' older than GRIB file\n"
     ]
    },
    {
     "name": "stdout",
     "output_type": "stream",
     "text": [
      "reading era5_atm_pressure_2024_06.grib\n"
     ]
    },
    {
     "name": "stderr",
     "output_type": "stream",
     "text": [
      "/home/au472091/venv/lib/python3.12/site-packages/cfgrib/xarray_plugin.py:131: FutureWarning: In a future version of xarray decode_timedelta will default to False rather than None. To silence this warning, set decode_timedelta to True, False, or a 'CFTimedeltaCoder' instance.\n",
      "  vars, attrs, coord_names = xr.conventions.decode_cf_variables(\n",
      "Ignoring index file '/home/au472091/OneDrive/au/projects/pam_bats/analysis/data/weather/atm_pressure/era5_atm_pressure_2024_07.grib.5b7b6.idx' older than GRIB file\n"
     ]
    },
    {
     "name": "stdout",
     "output_type": "stream",
     "text": [
      "reading era5_atm_pressure_2024_07.grib\n"
     ]
    },
    {
     "name": "stderr",
     "output_type": "stream",
     "text": [
      "/home/au472091/venv/lib/python3.12/site-packages/cfgrib/xarray_plugin.py:131: FutureWarning: In a future version of xarray decode_timedelta will default to False rather than None. To silence this warning, set decode_timedelta to True, False, or a 'CFTimedeltaCoder' instance.\n",
      "  vars, attrs, coord_names = xr.conventions.decode_cf_variables(\n",
      "Ignoring index file '/home/au472091/OneDrive/au/projects/pam_bats/analysis/data/weather/atm_pressure/era5_atm_pressure_2024_08.grib.5b7b6.idx' older than GRIB file\n"
     ]
    },
    {
     "name": "stdout",
     "output_type": "stream",
     "text": [
      "reading era5_atm_pressure_2024_08.grib\n"
     ]
    },
    {
     "name": "stderr",
     "output_type": "stream",
     "text": [
      "/home/au472091/venv/lib/python3.12/site-packages/cfgrib/xarray_plugin.py:131: FutureWarning: In a future version of xarray decode_timedelta will default to False rather than None. To silence this warning, set decode_timedelta to True, False, or a 'CFTimedeltaCoder' instance.\n",
      "  vars, attrs, coord_names = xr.conventions.decode_cf_variables(\n",
      "Ignoring index file '/home/au472091/OneDrive/au/projects/pam_bats/analysis/data/weather/atm_pressure/era5_atm_pressure_2024_09.grib.5b7b6.idx' older than GRIB file\n"
     ]
    },
    {
     "name": "stdout",
     "output_type": "stream",
     "text": [
      "reading era5_atm_pressure_2024_09.grib\n"
     ]
    },
    {
     "name": "stderr",
     "output_type": "stream",
     "text": [
      "/home/au472091/venv/lib/python3.12/site-packages/cfgrib/xarray_plugin.py:131: FutureWarning: In a future version of xarray decode_timedelta will default to False rather than None. To silence this warning, set decode_timedelta to True, False, or a 'CFTimedeltaCoder' instance.\n",
      "  vars, attrs, coord_names = xr.conventions.decode_cf_variables(\n",
      "Ignoring index file '/home/au472091/OneDrive/au/projects/pam_bats/analysis/data/weather/atm_pressure/era5_atm_pressure_2024_10.grib.5b7b6.idx' older than GRIB file\n"
     ]
    },
    {
     "name": "stdout",
     "output_type": "stream",
     "text": [
      "reading era5_atm_pressure_2024_10.grib\n"
     ]
    },
    {
     "name": "stderr",
     "output_type": "stream",
     "text": [
      "/home/au472091/venv/lib/python3.12/site-packages/cfgrib/xarray_plugin.py:131: FutureWarning: In a future version of xarray decode_timedelta will default to False rather than None. To silence this warning, set decode_timedelta to True, False, or a 'CFTimedeltaCoder' instance.\n",
      "  vars, attrs, coord_names = xr.conventions.decode_cf_variables(\n",
      "Ignoring index file '/home/au472091/OneDrive/au/projects/pam_bats/analysis/data/weather/atm_pressure/era5_atm_pressure_2024_11.grib.5b7b6.idx' older than GRIB file\n"
     ]
    },
    {
     "name": "stdout",
     "output_type": "stream",
     "text": [
      "reading era5_atm_pressure_2024_11.grib\n"
     ]
    },
    {
     "name": "stderr",
     "output_type": "stream",
     "text": [
      "/home/au472091/venv/lib/python3.12/site-packages/cfgrib/xarray_plugin.py:131: FutureWarning: In a future version of xarray decode_timedelta will default to False rather than None. To silence this warning, set decode_timedelta to True, False, or a 'CFTimedeltaCoder' instance.\n",
      "  vars, attrs, coord_names = xr.conventions.decode_cf_variables(\n"
     ]
    },
    {
     "name": "stdout",
     "output_type": "stream",
     "text": [
      "reading era5_atm_pressure_2024_12.grib\n"
     ]
    },
    {
     "name": "stderr",
     "output_type": "stream",
     "text": [
      "/home/au472091/venv/lib/python3.12/site-packages/cfgrib/xarray_plugin.py:131: FutureWarning: In a future version of xarray decode_timedelta will default to False rather than None. To silence this warning, set decode_timedelta to True, False, or a 'CFTimedeltaCoder' instance.\n",
      "  vars, attrs, coord_names = xr.conventions.decode_cf_variables(\n"
     ]
    },
    {
     "name": "stdout",
     "output_type": "stream",
     "text": [
      "reading era5_atm_pressure_2025_01.grib\n"
     ]
    },
    {
     "name": "stderr",
     "output_type": "stream",
     "text": [
      "/home/au472091/venv/lib/python3.12/site-packages/cfgrib/xarray_plugin.py:131: FutureWarning: In a future version of xarray decode_timedelta will default to False rather than None. To silence this warning, set decode_timedelta to True, False, or a 'CFTimedeltaCoder' instance.\n",
      "  vars, attrs, coord_names = xr.conventions.decode_cf_variables(\n"
     ]
    },
    {
     "name": "stdout",
     "output_type": "stream",
     "text": [
      "reading era5_atm_pressure_2025_02.grib\n"
     ]
    },
    {
     "name": "stderr",
     "output_type": "stream",
     "text": [
      "/home/au472091/venv/lib/python3.12/site-packages/cfgrib/xarray_plugin.py:131: FutureWarning: In a future version of xarray decode_timedelta will default to False rather than None. To silence this warning, set decode_timedelta to True, False, or a 'CFTimedeltaCoder' instance.\n",
      "  vars, attrs, coord_names = xr.conventions.decode_cf_variables(\n"
     ]
    },
    {
     "name": "stdout",
     "output_type": "stream",
     "text": [
      "reading era5_atm_pressure_2025_03.grib\n"
     ]
    },
    {
     "name": "stderr",
     "output_type": "stream",
     "text": [
      "/home/au472091/venv/lib/python3.12/site-packages/cfgrib/xarray_plugin.py:131: FutureWarning: In a future version of xarray decode_timedelta will default to False rather than None. To silence this warning, set decode_timedelta to True, False, or a 'CFTimedeltaCoder' instance.\n",
      "  vars, attrs, coord_names = xr.conventions.decode_cf_variables(\n"
     ]
    },
    {
     "name": "stdout",
     "output_type": "stream",
     "text": [
      "reading era5_atm_pressure_2025_04.grib\n"
     ]
    },
    {
     "name": "stderr",
     "output_type": "stream",
     "text": [
      "/home/au472091/venv/lib/python3.12/site-packages/cfgrib/xarray_plugin.py:131: FutureWarning: In a future version of xarray decode_timedelta will default to False rather than None. To silence this warning, set decode_timedelta to True, False, or a 'CFTimedeltaCoder' instance.\n",
      "  vars, attrs, coord_names = xr.conventions.decode_cf_variables(\n"
     ]
    },
    {
     "name": "stdout",
     "output_type": "stream",
     "text": [
      "Looking for weather @ coordinates Lat: 55.6053 Long: 7.88513\n",
      "Writing /home/au472091/OneDrive/au/projects/pam_bats/analysis/data/weather/generated_data/Loc_1_era5.pre\n",
      "Looking for weather @ coordinates Lat: 55.70201 Long: 8.05116\n",
      "Writing /home/au472091/OneDrive/au/projects/pam_bats/analysis/data/weather/generated_data/Loc_2_era5.pre\n",
      "Looking for weather @ coordinates Lat: 55.79587 Long: 7.87969\n",
      "Writing /home/au472091/OneDrive/au/projects/pam_bats/analysis/data/weather/generated_data/Loc_3_era5.pre\n",
      "Looking for weather @ coordinates Lat: 55.73477 Long: 7.79082\n",
      "Writing /home/au472091/OneDrive/au/projects/pam_bats/analysis/data/weather/generated_data/Loc_4_era5.pre\n",
      "Looking for weather @ coordinates Lat: 55.88947 Long: 7.70791\n",
      "Writing /home/au472091/OneDrive/au/projects/pam_bats/analysis/data/weather/generated_data/Loc_5_era5.pre\n",
      "Looking for weather @ coordinates Lat: 55.79229 Long: 7.5397\n",
      "Writing /home/au472091/OneDrive/au/projects/pam_bats/analysis/data/weather/generated_data/Loc_6_era5.pre\n",
      "Looking for weather @ coordinates Lat: 55.89259 Long: 8.04651\n",
      "Writing /home/au472091/OneDrive/au/projects/pam_bats/analysis/data/weather/generated_data/Loc_7_era5.pre\n",
      "Looking for weather @ coordinates Lat: 55.98644 Long: 7.87419\n",
      "Writing /home/au472091/OneDrive/au/projects/pam_bats/analysis/data/weather/generated_data/Loc_8_era5.pre\n",
      "Looking for weather @ coordinates Lat: 56.08316 Long: 8.04181\n",
      "Writing /home/au472091/OneDrive/au/projects/pam_bats/analysis/data/weather/generated_data/Loc_9_era5.pre\n",
      "Looking for weather @ coordinates Lat: 56.177 Long: 7.86861\n",
      "Writing /home/au472091/OneDrive/au/projects/pam_bats/analysis/data/weather/generated_data/Loc_10_era5.pre\n",
      "Looking for weather @ coordinates Lat: 56.08137 Long: 7.70145\n",
      "Writing /home/au472091/OneDrive/au/projects/pam_bats/analysis/data/weather/generated_data/Loc_11_era5.pre\n",
      "Looking for weather @ coordinates Lat: 56.1734 Long: 7.52514\n",
      "Writing /home/au472091/OneDrive/au/projects/pam_bats/analysis/data/weather/generated_data/Loc_12_era5.pre\n",
      "Looking for weather @ coordinates Lat: 56.16899 Long: 7.18712\n",
      "Writing /home/au472091/OneDrive/au/projects/pam_bats/analysis/data/weather/generated_data/Loc_13_era5.pre\n",
      "Looking for weather @ coordinates Lat: 55.88101 Long: 7.02863\n",
      "Writing /home/au472091/OneDrive/au/projects/pam_bats/analysis/data/weather/generated_data/Loc_14_era5.pre\n",
      "Looking for weather @ coordinates Lat: 55.97842 Long: 7.19602\n",
      "Writing /home/au472091/OneDrive/au/projects/pam_bats/analysis/data/weather/generated_data/Loc_15_era5.pre\n",
      "Looking for weather @ coordinates Lat: 55.88547 Long: 7.36837\n",
      "Writing /home/au472091/OneDrive/au/projects/pam_bats/analysis/data/weather/generated_data/Loc_16_era5.pre\n",
      "Looking for weather @ coordinates Lat: 55.98287 Long: 7.53255\n",
      "Writing /home/au472091/OneDrive/au/projects/pam_bats/analysis/data/weather/generated_data/Loc_17_era5.pre\n",
      "Looking for weather @ coordinates Lat: 56.16338 Long: 6.84414\n",
      "Writing /home/au472091/OneDrive/au/projects/pam_bats/analysis/data/weather/generated_data/Loc_18_era5.pre\n",
      "Looking for weather @ coordinates Lat: 56.35936 Long: 7.17649\n",
      "Writing /home/au472091/OneDrive/au/projects/pam_bats/analysis/data/weather/generated_data/Loc_19_era5.pre\n",
      "Looking for weather @ coordinates Lat: 56.2706 Long: 7.69458\n",
      "Writing /home/au472091/OneDrive/au/projects/pam_bats/analysis/data/weather/generated_data/Loc_20_era5.pre\n",
      "Looking for weather @ coordinates Lat: 56.36755 Long: 7.86298\n",
      "Writing /home/au472091/OneDrive/au/projects/pam_bats/analysis/data/weather/generated_data/Loc_21_era5.pre\n",
      "Looking for weather @ coordinates Lat: 56.27373 Long: 8.03705\n",
      "Writing /home/au472091/OneDrive/au/projects/pam_bats/analysis/data/weather/generated_data/Loc_22_era5.pre\n",
      "Looking for weather @ coordinates Lat: 55.74873335 Long: 7.901\n",
      "Writing /home/au472091/OneDrive/au/projects/pam_bats/analysis/data/weather/generated_data/Loc_23_era5.pre\n",
      "Looking for weather @ coordinates Lat: 56.12676 Long: 7.43632\n",
      "Writing /home/au472091/OneDrive/au/projects/pam_bats/analysis/data/weather/generated_data/Loc_24_era5.pre\n",
      "Looking for weather @ coordinates Lat: 55.89034 Long: 7.0423\n",
      "Writing /home/au472091/OneDrive/au/projects/pam_bats/analysis/data/weather/generated_data/Loc_25_era5.pre\n",
      "Looking for weather @ coordinates Lat: 55.81821 Long: 7.70747\n",
      "Writing /home/au472091/OneDrive/au/projects/pam_bats/analysis/data/weather/generated_data/Loc_26_era5.pre\n",
      "Looking for weather @ coordinates Lat: 55.697319 Long: 7.571899\n",
      "Writing /home/au472091/OneDrive/au/projects/pam_bats/analysis/data/weather/generated_data/Loc_27_era5.pre\n",
      "Looking for weather @ coordinates Lat: 55.687427 Long: 7.573644\n",
      "Writing /home/au472091/OneDrive/au/projects/pam_bats/analysis/data/weather/generated_data/Loc_28_era5.pre\n",
      "Looking for weather @ coordinates Lat: 55.688484 Long: 7.601428\n",
      "Writing /home/au472091/OneDrive/au/projects/pam_bats/analysis/data/weather/generated_data/Loc_29_era5.pre\n",
      "Looking for weather @ coordinates Lat: 55.68251 Long: 7.77294\n",
      "Writing /home/au472091/OneDrive/au/projects/pam_bats/analysis/data/weather/generated_data/Loc_30_era5.pre\n",
      "Looking for weather @ coordinates Lat: 55.70688 Long: 7.7086\n",
      "Writing /home/au472091/OneDrive/au/projects/pam_bats/analysis/data/weather/generated_data/Loc_31_era5.pre\n",
      "Looking for weather @ coordinates Lat: 55.74106 Long: 7.68745\n",
      "Writing /home/au472091/OneDrive/au/projects/pam_bats/analysis/data/weather/generated_data/Loc_32_era5.pre\n",
      "Looking for weather @ coordinates Lat: 55.72575 Long: 7.553378\n",
      "Writing /home/au472091/OneDrive/au/projects/pam_bats/analysis/data/weather/generated_data/Loc_33_era5.pre\n",
      "Looking for weather @ coordinates Lat: 55.69058 Long: 7.657018\n",
      "Writing /home/au472091/OneDrive/au/projects/pam_bats/analysis/data/weather/generated_data/Loc_34_era5.pre\n",
      "Looking for weather @ coordinates Lat: 55.71823 Long: 7.599585\n",
      "Writing /home/au472091/OneDrive/au/projects/pam_bats/analysis/data/weather/generated_data/Loc_35_era5.pre\n",
      "Looking for weather @ coordinates Lat: 55.74106 Long: 7.68745\n",
      "Writing /home/au472091/OneDrive/au/projects/pam_bats/analysis/data/weather/generated_data/Loc_36_era5.pre\n",
      "Looking for weather @ coordinates Lat: 55.73732 Long: 7.575647\n",
      "Writing /home/au472091/OneDrive/au/projects/pam_bats/analysis/data/weather/generated_data/Loc_37_era5.pre\n",
      "Looking for weather @ coordinates Lat: 55.72136 Long: 7.683028\n",
      "Writing /home/au472091/OneDrive/au/projects/pam_bats/analysis/data/weather/generated_data/Loc_38_era5.pre\n",
      "Looking for weather @ coordinates Lat: 55.3403 Long: 8.6773\n",
      "Writing /home/au472091/OneDrive/au/projects/pam_bats/analysis/data/weather/generated_data/Loc_39_era5.pre\n",
      "Looking for weather @ coordinates Lat: 55.557 Long: 8.0867\n",
      "Writing /home/au472091/OneDrive/au/projects/pam_bats/analysis/data/weather/generated_data/Loc_40_era5.pre\n",
      "Looking for weather @ coordinates Lat: 55.9127 Long: 8.4048\n",
      "Writing /home/au472091/OneDrive/au/projects/pam_bats/analysis/data/weather/generated_data/Loc_41_era5.pre\n",
      "Looking for weather @ coordinates Lat: 56.1587 Long: 8.1458\n",
      "Writing /home/au472091/OneDrive/au/projects/pam_bats/analysis/data/weather/generated_data/Loc_42_era5.pre\n",
      "Looking for weather @ coordinates Lat: 56.2787 Long: 8.1706\n",
      "Writing /home/au472091/OneDrive/au/projects/pam_bats/analysis/data/weather/generated_data/Loc_43_era5.pre\n",
      "Looking for weather @ coordinates Lat: 55.7965 Long: 8.2123\n",
      "Writing /home/au472091/OneDrive/au/projects/pam_bats/analysis/data/weather/generated_data/Loc_44_era5.pre\n",
      "Looking for weather @ coordinates Lat: 55.3986 Long: 8.423\n",
      "Writing /home/au472091/OneDrive/au/projects/pam_bats/analysis/data/weather/generated_data/Loc_45_era5.pre\n",
      "Looking for weather @ coordinates Lat: 55.23715 Long: 8.7078\n",
      "Writing /home/au472091/OneDrive/au/projects/pam_bats/analysis/data/weather/generated_data/Loc_46_era5.pre\n",
      "Looking for weather @ coordinates Lat: 57.7473 Long: 10.6027\n",
      "Writing /home/au472091/OneDrive/au/projects/pam_bats/analysis/data/weather/generated_data/Loc_47_era5.pre\n",
      "Looking for weather @ coordinates Lat: 55.2802 Long: 8.5393\n",
      "Writing /home/au472091/OneDrive/au/projects/pam_bats/analysis/data/weather/generated_data/Loc_48_era5.pre\n",
      "Looking for weather @ coordinates Lat: 55.0678 Long: 8.6802\n",
      "Writing /home/au472091/OneDrive/au/projects/pam_bats/analysis/data/weather/generated_data/Loc_49_era5.pre\n",
      "Looking for weather @ coordinates Lat: 55.661573 Long: 7.668805\n",
      "Writing /home/au472091/OneDrive/au/projects/pam_bats/analysis/data/weather/generated_data/Loc_50_era5.pre\n",
      "Looking for weather @ coordinates Lat: 55.668334 Long: 7.694158\n",
      "Writing /home/au472091/OneDrive/au/projects/pam_bats/analysis/data/weather/generated_data/Loc_51_era5.pre\n",
      "Looking for weather @ coordinates Lat: 55.673155 Long: 7.719361\n",
      "Writing /home/au472091/OneDrive/au/projects/pam_bats/analysis/data/weather/generated_data/Loc_52_era5.pre\n",
      "Looking for weather @ coordinates Lat: 55.663637 Long: 7.724361\n",
      "Writing /home/au472091/OneDrive/au/projects/pam_bats/analysis/data/weather/generated_data/Loc_53_era5.pre\n",
      "Looking for weather @ coordinates Lat: 55.6903 Long: 7.6863\n",
      "Writing /home/au472091/OneDrive/au/projects/pam_bats/analysis/data/weather/generated_data/Loc_54_era5.pre\n",
      "Looking for weather @ coordinates Lat: 55.1217 Long: 8.5044\n",
      "Writing /home/au472091/OneDrive/au/projects/pam_bats/analysis/data/weather/generated_data/Loc_55_era5.pre\n",
      "Looking for weather @ coordinates Lat: 55.711433 Long: 7.682502\n",
      "Writing /home/au472091/OneDrive/au/projects/pam_bats/analysis/data/weather/generated_data/Loc_56_era5.pre\n",
      "Looking for weather @ coordinates Lat: 55.660532 Long: 7.641038\n",
      "Writing /home/au472091/OneDrive/au/projects/pam_bats/analysis/data/weather/generated_data/Loc_57_era5.pre\n"
     ]
    }
   ],
   "source": [
    "\n",
    "\n",
    "Kelvin = 273.15\n",
    "\n",
    "#source file paths\n",
    "dir_soiltemp_era5 = '/work/weather/era5monthly/soiltemp/'\n",
    "dir_snow_cover_era5 = '/work/weather/era5monthly/snowdepth/'\n",
    "dir_precip_era5 =  '/home/au472091/OneDrive/au/projects/pam_bats/analysis/data/weather/precip/'\n",
    "dir_temp_era5 = '/home/au472091/OneDrive/au/projects/pam_bats/analysis/data/weather/temp'\n",
    "dir_dewpointtemp_era5 = '/work/weather/era5monthly/dewpointtemp/'\n",
    "dir_radiation_era5 = '/work/weather/era5monthly/radiation/'\n",
    "dir_windu_era5 = '/home/au472091/OneDrive/au/projects/pam_bats/analysis/data/weather/windu/'\n",
    "dir_windv_era5 = '/home/au472091/OneDrive/au/projects/pam_bats/analysis/data/weather/windv/'\n",
    "#the following two are for Morten's bat project\n",
    "dir_cloud_coverage_era5 = '/home/au472091/OneDrive/au/projects/pam_bats/analysis/data/weather/cloud_coverage'\n",
    "dir_cloudbaseheight_era5 = '/work/weather/era5monthly/cloudbaseheight/'\n",
    "dir_atm_pressure_era5 = '/home/au472091/OneDrive/au/projects/pam_bats/analysis/data/weather/atm_pressure/'\n",
    "\n",
    "suffix_soiltemp_era5 = 'era5_soiltemp'\n",
    "suffix_snowdepth_era5 = 'era5_snowdepth'\n",
    "suffix_precip_era5 = 'era5_precip'\n",
    "suffix_dewpointtemp_era5 = 'era5_dewpointtemp'\n",
    "suffix_temp_era5 = 'era5_temp'\n",
    "suffix_radiation_era5 = 'era5_radiation'\n",
    "suffix_windu_era5 = 'era5_windu'\n",
    "suffix_windv_era5 = 'era5_windv'\n",
    "#the following two are for Morten's bat project\n",
    "suffix_cloud_coverage_era5 ='era5_cloud_coverage'\n",
    "suffix_cloudbaseheight_era5 ='era5_cloud_base_height'\n",
    "suffix_atm_pressure_era5 ='era5_atm_pressure'\n",
    "\n",
    "output_dir = '/home/au472091/OneDrive/au/projects/pam_bats/analysis/data/weather/generated_data'\n",
    "\n",
    "startyear, endyear, xs, ys, names = country_name_coordinate_year()\n",
    "\n",
    "#\n",
    "#change this to true if hourly data is needed\n",
    "hourly_flag = True\n",
    "\n",
    "##variable to store the loaded data\n",
    "actual_df = []\n",
    "#loading the data\n",
    "\n",
    "#temperature, in K, minus Kelvin\n",
    "temp = get_param_era5(dir_temp_era5, suffix_temp_era5, ys, xs, startyear, endyear, 'mean_temp', hourly_flag)\n",
    "for i in range(len(xs)):\n",
    "    temp[i]['mean_temp'] -= Kelvin\n",
    "    temp[i]['mean_temp'] = temp[i]['mean_temp'].fillna(-99999)\n",
    "    actual_df.append(temp[i])\n",
    "    actual_df[i].insert(0, \"year\", actual_df[i].apply(lambda row: row['time'].year, axis=1), True)\n",
    "    actual_df[i].insert(0, \"month\", actual_df[i].apply(lambda row: row['time'].month, axis=1), True)\n",
    "    actual_df[i].insert(0, \"day\", actual_df[i].apply(lambda row: row['time'].day, axis=1), True)\n",
    "    actual_df[i].insert(0, \"hour\", actual_df[i].apply(lambda row: row['time'].hour, axis=1), True)\n",
    "\n",
    "#wind, u: direction of east; v: direction of north, based on these two, the wind is converted into wind speed and direction (from 0 to 2pi, staring from east and anticlockwise)\n",
    "wind_u = get_param_era5(dir_windu_era5, suffix_windu_era5, ys, xs, startyear, endyear, 'wind_u', hourly_flag)\n",
    "wind_v = get_param_era5(dir_windv_era5, suffix_windv_era5, ys, xs, startyear, endyear, 'wind_v', hourly_flag)\n",
    "wind_speed = []\n",
    "wind_direction = []\n",
    "for i in range(len(xs)):\n",
    "    wind_speed.append(wind_u[i].copy(deep=True))\n",
    "    wind_speed[i].rename(columns={'wind_u':'wind_speed'}, inplace=True)\n",
    "    wind_direction.append(wind_u[i].copy(deep=True))\n",
    "    wind_direction[i].rename(columns={'wind_u':'wind_direction'}, inplace=True)\n",
    "    wind_speed[i]['wind_speed'] = np.sqrt(np.power(wind_v[i]['wind_v'],2)+np.power(wind_u[i]['wind_u'],2))\n",
    "    wind_direction[i]['wind_direction'] = np.arctan2(wind_v[i]['wind_v'], wind_u[i]['wind_u']) #east is the 0\n",
    "    wind_direction[i].loc[wind_direction[i]['wind_direction']<0, 'wind_direction'] += 2*np.pi\n",
    "    #wind_speed[i]['wind_speed'] = wind_speed[i]['wind_speed'].fillna(-99999)\n",
    "    #wind_direction[i]['wind_direction'] = wind_direction[i]['wind_direction'].fillna(-99999)\n",
    "    actual_df[i].insert(6, 'wind_speed', wind_speed[i]['wind_speed'], True)\n",
    "    actual_df[i].insert(7, 'wind_direction', wind_direction[i]['wind_direction'], True)\n",
    "\n",
    "\n",
    "#precipitation\n",
    "precip = get_param_era5(dir_precip_era5, suffix_precip_era5, ys, xs, startyear, endyear, 'precip', hourly_flag)\n",
    "for i in range(len(xs)):\n",
    "    precip[i]['precip'] *= 1000 #change to mm\n",
    "    precip[i].loc[precip[i]['precip']<0.0001, 'precip']=0.0\n",
    "    #precip[i]['precip'] = precip[i]['precip'].fillna(-99999)\n",
    "    actual_df[i].insert(8, 'precip', precip[i]['precip'], True)\n",
    "    \n",
    "# cloud_coverage (SQS)\n",
    "cloud_coverage = get_param_era5(dir_cloud_coverage_era5, suffix_cloud_coverage_era5, ys, xs, startyear, endyear, 'cloud_coverage', hourly_flag)\n",
    "for i in range(len(xs)):\n",
    "    actual_df[i].insert(9, 'cloud_coverage', cloud_coverage[i]['cloud_coverage'], True)\n",
    "\n",
    "# atm_pressure (SQS)\n",
    "atm_pressure = get_param_era5(dir_atm_pressure_era5, suffix_atm_pressure_era5, ys, xs, startyear, endyear, 'atm_pressure', hourly_flag)\n",
    "for i in range(len(xs)):\n",
    "    actual_df[i].insert(10, 'atm_pressure', atm_pressure[i]['atm_pressure'], True)\n",
    "\n",
    "# #soil Temperature\n",
    "# soiltemp = get_param_era5(dir_soiltemp_era5, suffix_soiltemp_era5, ys, xs, startyear, endyear, 'soiltemp', hourly_flag)\n",
    "# for i in range(len(xs)):\n",
    "#     soiltemp[i]['soiltemp'] -= Kelvin\n",
    "#     #soiltemp[i]['soiltemp'] = soiltemp[i]['soiltemp'].fillna(-99999)\n",
    "#     actual_df[i].insert(9, 'soiltemp', soiltemp[i]['soiltemp'], True)\n",
    "\n",
    "# #snow depth\n",
    "# snowdepth = get_param_era5(dir_snow_cover_era5, suffix_snowdepth_era5, ys, xs, startyear, endyear, 'snowdepth', hourly_flag)\n",
    "# for i in range(len(xs)):\n",
    "#     snowdepth[i].loc[snowdepth[i]['snowdepth']<0, 'snowdepth'] = 0\n",
    "#     snowdepth[i]['snowdepth'] *= 1000 #change to mm\n",
    "#     #snowdepth[i]['snowdepth'] = snowdepth[i]['snowdepth'].fillna(-99999)\n",
    "#     actual_df[i].insert(10, 'snowdepth', snowdepth[i]['snowdepth'], True)\n",
    "\n",
    "# #humidity\n",
    "# dewtemp = get_param_era5(dir_dewpointtemp_era5, suffix_dewpointtemp_era5, ys, xs, startyear, endyear, 'dewtemp', hourly_flag)\n",
    "# humidity = []\n",
    "# for i in range(len(xs)):\n",
    "#     humidity.append(dewtemp[i].copy(deep=True))\n",
    "#     humidity[i].rename(columns={'dewtemp':'humidity'}, inplace=True)\n",
    "#     dewtemp[i]['dewtemp'] -= Kelvin\n",
    "#     humidity[i]['humidity'] = 100 - 5*(temp[i]['mean_temp']-dewtemp[i]['dewtemp'])\n",
    "#     #humidity[i]['humidity'] = humidity[i]['humidity'].fillna(-99999)\n",
    "#     actual_df[i].insert(11, 'humidity', humidity[i]['humidity'], True)\n",
    "\n",
    "# #radiation\n",
    "# radiation = get_param_era5(dir_radiation_era5, suffix_radiation_era5, ys, xs, startyear, endyear, 'radiation', hourly_flag)\n",
    "# for i in range(len(xs)):\n",
    "#     radiation[i].loc[radiation[i]['radiation']<0.01, 'radiation']=0.0\n",
    "#     #radiation[i]['radiation'] /= 3600.0\n",
    "#     #radiation[i]['radiation'] = radiation[i]['radiation'].fillna(-99999)\n",
    "#     actual_df[i].insert(12, 'radiation', radiation[i]['radiation'], True)\n",
    "\n",
    "\n",
    "# #the following two are for Morten's bat project, please comment them out\n",
    "# #cloudbaseheight\n",
    "# \"\"\"\n",
    "# cloudbaseheight = get_param_era5(dir_cloudbaseheight_era5, suffix_cloudbaseheight_era5, ys, xs, startyear, endyear, 'cloudbaseheight', hourly_flag)\n",
    "# for i in range(len(xs)):\n",
    "#     #cloudbaseheight[i]['cloudbaseheight'] = cloudbaseheight[i]['cloudbaseheight'].fillna(-99999)    \n",
    "#     actual_df[i].insert(9, 'cloudbaseheight', cloudbaseheight[i]['cloudbaseheight'], True)\n",
    "# totalcloudcover = get_param_era5(dir_totalcloudcover_era5, suffix_totalcloudcover_era5, ys, xs, startyear, endyear, 'totalcloudcover', hourly_flag)\n",
    "# for i in range(len(xs)):\n",
    "#     #totalcloudcover[i]['totalcloudcover'] = totalcloudcover[i]['totalcloudcover'].fillna(-99999)\n",
    "#     actual_df[i].insert(10, 'totalcloudcover', totalcloudcover[i]['totalcloudcover'], True)\n",
    "# \"\"\"\n",
    "#processing the data.\n",
    "for i in range(len(xs)):\n",
    "    actual_df[i].drop('time', axis=1, inplace=True) # let us drop the time column before interpolating\n",
    "    \n",
    "\n",
    "    print(\"Looking for weather @ coordinates Lat: \"+str(ys[i])+\" Long: \"+str(xs[i]))\n",
    "    #actual_df[i]['SoilTemp']=actual_df[i]['SoilTemp']-Kelvin\n",
    "    #actual_df[i]['SnowCover']=actual_df[i]['SnowCover']*100 #originally in m\n",
    "    interpolated_data = interpolate_data(actual_df[i])\n",
    "    write_weather(interpolated_data, os.path.join(output_dir, str(names[i])+\"_era5.pre\"))\n"
   ]
  },
  {
   "cell_type": "code",
   "execution_count": null,
   "metadata": {},
   "outputs": [],
   "source": [
    "\n",
    "\n",
    "\n"
   ]
  },
  {
   "cell_type": "code",
   "execution_count": null,
   "metadata": {},
   "outputs": [],
   "source": []
  },
  {
   "cell_type": "code",
   "execution_count": null,
   "metadata": {},
   "outputs": [],
   "source": []
  },
  {
   "cell_type": "code",
   "execution_count": null,
   "metadata": {},
   "outputs": [],
   "source": []
  }
 ],
 "metadata": {
  "kernelspec": {
   "display_name": "Python 3 (ipykernel)",
   "language": "python",
   "name": "python3"
  },
  "language_info": {
   "codemirror_mode": {
    "name": "ipython",
    "version": 3
   },
   "file_extension": ".py",
   "mimetype": "text/x-python",
   "name": "python",
   "nbconvert_exporter": "python",
   "pygments_lexer": "ipython3",
   "version": "3.12.3"
  },
  "vscode": {
   "interpreter": {
    "hash": "e7370f93d1d0cde622a1f8e1c04877d8463912d04d973331ad4851f04de6915a"
   }
  }
 },
 "nbformat": 4,
 "nbformat_minor": 4
}
